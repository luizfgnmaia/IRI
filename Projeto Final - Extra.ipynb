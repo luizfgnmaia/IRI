{
 "cells": [
  {
   "cell_type": "code",
   "execution_count": 1,
   "metadata": {},
   "outputs": [],
   "source": [
    "import pandas as pd\n",
    "import numpy as np\n",
    "import gzip\n",
    "from string import punctuation\n",
    "import itertools\n",
    "from nltk import tokenize\n",
    "from nltk.stem import PorterStemmer\n",
    "from sklearn.feature_extraction.text import CountVectorizer\n",
    "from nltk.corpus import stopwords\n",
    "from collections import Counter\n",
    "from sklearn.linear_model import LogisticRegression"
   ]
  },
  {
   "cell_type": "markdown",
   "metadata": {},
   "source": [
    "## Encontrando as palavras das reviews que mais influenciam em um rating 5\n",
    "\n",
    "Variável independente: nota das reviews (coluna 'overall')\n",
    "\n",
    "Variáveis explicativas: dummies que indicam a presença de uma determinada palavra no review\n",
    "\n",
    "Modelo: regressão logística com regularização L1 (lasso)"
   ]
  },
  {
   "cell_type": "markdown",
   "metadata": {},
   "source": [
    "Lendo a base de dados e preparando as variáveis"
   ]
  },
  {
   "cell_type": "code",
   "execution_count": 2,
   "metadata": {},
   "outputs": [],
   "source": [
    "def parse(path):\n",
    "    g = gzip.open(path, 'rb')\n",
    "    for l in g:\n",
    "        yield eval(l)\n",
    "\n",
    "def getDF(path):\n",
    "    i = 0\n",
    "    df = {}\n",
    "    for d in parse(path):\n",
    "        df[i] = d\n",
    "        i += 1\n",
    "    return pd.DataFrame.from_dict(df, orient = 'index')\n",
    "\n",
    "df = getDF('reviews_Video_Games_5.json.gz')"
   ]
  },
  {
   "cell_type": "code",
   "execution_count": 3,
   "metadata": {},
   "outputs": [
    {
     "data": {
      "text/plain": [
       "5.0    120185\n",
       "4.0     54804\n",
       "3.0     28275\n",
       "1.0     14853\n",
       "2.0     13663\n",
       "Name: overall, dtype: int64"
      ]
     },
     "execution_count": 3,
     "metadata": {},
     "output_type": "execute_result"
    }
   ],
   "source": [
    "df['overall'].value_counts()"
   ]
  },
  {
   "cell_type": "code",
   "execution_count": 4,
   "metadata": {},
   "outputs": [],
   "source": [
    "Y = list((df['overall'] == 5)*1)"
   ]
  },
  {
   "cell_type": "markdown",
   "metadata": {},
   "source": [
    "Tokenizando o texto, colocando em caixa baixa, stemmizando e removendo stop words, termos de um caracter e termos que apareceram menos do que 1000 vezes."
   ]
  },
  {
   "cell_type": "code",
   "execution_count": 5,
   "metadata": {},
   "outputs": [],
   "source": [
    "textos = list(df['reviewText'])"
   ]
  },
  {
   "cell_type": "code",
   "execution_count": 6,
   "metadata": {},
   "outputs": [],
   "source": [
    "sw = stopwords.words('english') + list(punctuation)\n",
    "\n",
    "textos_limpos = []\n",
    "c = Counter([])\n",
    "for texto in textos:\n",
    "    tlimpo = [token.lower() for token in tokenize.TweetTokenizer().tokenize(texto) if token.lower() not in sw]\n",
    "    c.update(tlimpo)\n",
    "    textos_limpos.append(tlimpo)\n",
    "\n",
    "ps = PorterStemmer()\n",
    "stemmed = []\n",
    "for t in textos_limpos:\n",
    "    txt = [ps.stem(token) for token in t]\n",
    "    stemmed.append(txt)\n",
    "stemmed = [[token for token in t if (c[token] >= 1000 and len(token) > 1)] for t in stemmed]"
   ]
  },
  {
   "cell_type": "code",
   "execution_count": 7,
   "metadata": {},
   "outputs": [],
   "source": [
    "tokens = list(set(list(itertools.chain(*stemmed))))\n",
    "tokens.sort()"
   ]
  },
  {
   "cell_type": "code",
   "execution_count": 8,
   "metadata": {},
   "outputs": [
    {
     "data": {
      "text/plain": [
       "1647"
      ]
     },
     "execution_count": 8,
     "metadata": {},
     "output_type": "execute_result"
    }
   ],
   "source": [
    "len(tokens)"
   ]
  },
  {
   "cell_type": "code",
   "execution_count": 9,
   "metadata": {},
   "outputs": [
    {
     "data": {
      "text/plain": [
       "['):', '..', '...', '1/2', '10']"
      ]
     },
     "execution_count": 9,
     "metadata": {},
     "output_type": "execute_result"
    }
   ],
   "source": [
    "tokens[0:5]"
   ]
  },
  {
   "cell_type": "code",
   "execution_count": 10,
   "metadata": {},
   "outputs": [
    {
     "data": {
      "text/plain": [
       "['non', 'none', 'normal', 'nostalgia', 'notch']"
      ]
     },
     "execution_count": 10,
     "metadata": {},
     "output_type": "execute_result"
    }
   ],
   "source": [
    "tokens[1000:1005]"
   ]
  },
  {
   "cell_type": "code",
   "execution_count": 11,
   "metadata": {},
   "outputs": [],
   "source": [
    "X = np.empty((len(textos), len(tokens)))\n",
    "for i in range(len(Y)):\n",
    "    for j in range(len(tokens)):\n",
    "        X[i,j] = int(tokens[j] in textos_limpos[i])"
   ]
  },
  {
   "cell_type": "code",
   "execution_count": 12,
   "metadata": {},
   "outputs": [],
   "source": [
    "X = pd.DataFrame(X)\n",
    "X.columns = tokens"
   ]
  },
  {
   "cell_type": "code",
   "execution_count": 13,
   "metadata": {},
   "outputs": [
    {
     "data": {
      "text/html": [
       "<div>\n",
       "<style scoped>\n",
       "    .dataframe tbody tr th:only-of-type {\n",
       "        vertical-align: middle;\n",
       "    }\n",
       "\n",
       "    .dataframe tbody tr th {\n",
       "        vertical-align: top;\n",
       "    }\n",
       "\n",
       "    .dataframe thead th {\n",
       "        text-align: right;\n",
       "    }\n",
       "</style>\n",
       "<table border=\"1\" class=\"dataframe\">\n",
       "  <thead>\n",
       "    <tr style=\"text-align: right;\">\n",
       "      <th></th>\n",
       "      <th>):</th>\n",
       "      <th>..</th>\n",
       "      <th>...</th>\n",
       "      <th>1/2</th>\n",
       "      <th>10</th>\n",
       "      <th>10/10</th>\n",
       "      <th>100</th>\n",
       "      <th>1080p</th>\n",
       "      <th>11</th>\n",
       "      <th>12</th>\n",
       "      <th>...</th>\n",
       "      <th>yellow</th>\n",
       "      <th>yet</th>\n",
       "      <th>york</th>\n",
       "      <th>yoshi</th>\n",
       "      <th>young</th>\n",
       "      <th>younger</th>\n",
       "      <th>zelda</th>\n",
       "      <th>zero</th>\n",
       "      <th>zone</th>\n",
       "      <th>zoom</th>\n",
       "    </tr>\n",
       "  </thead>\n",
       "  <tbody>\n",
       "    <tr>\n",
       "      <td>0</td>\n",
       "      <td>0.0</td>\n",
       "      <td>0.0</td>\n",
       "      <td>0.0</td>\n",
       "      <td>0.0</td>\n",
       "      <td>0.0</td>\n",
       "      <td>0.0</td>\n",
       "      <td>0.0</td>\n",
       "      <td>0.0</td>\n",
       "      <td>0.0</td>\n",
       "      <td>0.0</td>\n",
       "      <td>...</td>\n",
       "      <td>0.0</td>\n",
       "      <td>0.0</td>\n",
       "      <td>0.0</td>\n",
       "      <td>0.0</td>\n",
       "      <td>0.0</td>\n",
       "      <td>0.0</td>\n",
       "      <td>0.0</td>\n",
       "      <td>0.0</td>\n",
       "      <td>0.0</td>\n",
       "      <td>0.0</td>\n",
       "    </tr>\n",
       "    <tr>\n",
       "      <td>1</td>\n",
       "      <td>0.0</td>\n",
       "      <td>0.0</td>\n",
       "      <td>0.0</td>\n",
       "      <td>0.0</td>\n",
       "      <td>0.0</td>\n",
       "      <td>0.0</td>\n",
       "      <td>0.0</td>\n",
       "      <td>0.0</td>\n",
       "      <td>0.0</td>\n",
       "      <td>0.0</td>\n",
       "      <td>...</td>\n",
       "      <td>0.0</td>\n",
       "      <td>0.0</td>\n",
       "      <td>0.0</td>\n",
       "      <td>0.0</td>\n",
       "      <td>0.0</td>\n",
       "      <td>0.0</td>\n",
       "      <td>0.0</td>\n",
       "      <td>0.0</td>\n",
       "      <td>0.0</td>\n",
       "      <td>0.0</td>\n",
       "    </tr>\n",
       "    <tr>\n",
       "      <td>2</td>\n",
       "      <td>0.0</td>\n",
       "      <td>0.0</td>\n",
       "      <td>0.0</td>\n",
       "      <td>0.0</td>\n",
       "      <td>0.0</td>\n",
       "      <td>0.0</td>\n",
       "      <td>0.0</td>\n",
       "      <td>0.0</td>\n",
       "      <td>0.0</td>\n",
       "      <td>0.0</td>\n",
       "      <td>...</td>\n",
       "      <td>0.0</td>\n",
       "      <td>0.0</td>\n",
       "      <td>0.0</td>\n",
       "      <td>0.0</td>\n",
       "      <td>0.0</td>\n",
       "      <td>0.0</td>\n",
       "      <td>0.0</td>\n",
       "      <td>0.0</td>\n",
       "      <td>0.0</td>\n",
       "      <td>0.0</td>\n",
       "    </tr>\n",
       "    <tr>\n",
       "      <td>3</td>\n",
       "      <td>0.0</td>\n",
       "      <td>0.0</td>\n",
       "      <td>0.0</td>\n",
       "      <td>0.0</td>\n",
       "      <td>0.0</td>\n",
       "      <td>0.0</td>\n",
       "      <td>0.0</td>\n",
       "      <td>0.0</td>\n",
       "      <td>0.0</td>\n",
       "      <td>0.0</td>\n",
       "      <td>...</td>\n",
       "      <td>0.0</td>\n",
       "      <td>0.0</td>\n",
       "      <td>0.0</td>\n",
       "      <td>0.0</td>\n",
       "      <td>0.0</td>\n",
       "      <td>0.0</td>\n",
       "      <td>0.0</td>\n",
       "      <td>0.0</td>\n",
       "      <td>0.0</td>\n",
       "      <td>0.0</td>\n",
       "    </tr>\n",
       "    <tr>\n",
       "      <td>4</td>\n",
       "      <td>0.0</td>\n",
       "      <td>0.0</td>\n",
       "      <td>0.0</td>\n",
       "      <td>0.0</td>\n",
       "      <td>0.0</td>\n",
       "      <td>0.0</td>\n",
       "      <td>0.0</td>\n",
       "      <td>0.0</td>\n",
       "      <td>0.0</td>\n",
       "      <td>0.0</td>\n",
       "      <td>...</td>\n",
       "      <td>0.0</td>\n",
       "      <td>0.0</td>\n",
       "      <td>0.0</td>\n",
       "      <td>0.0</td>\n",
       "      <td>0.0</td>\n",
       "      <td>0.0</td>\n",
       "      <td>0.0</td>\n",
       "      <td>0.0</td>\n",
       "      <td>0.0</td>\n",
       "      <td>0.0</td>\n",
       "    </tr>\n",
       "    <tr>\n",
       "      <td>...</td>\n",
       "      <td>...</td>\n",
       "      <td>...</td>\n",
       "      <td>...</td>\n",
       "      <td>...</td>\n",
       "      <td>...</td>\n",
       "      <td>...</td>\n",
       "      <td>...</td>\n",
       "      <td>...</td>\n",
       "      <td>...</td>\n",
       "      <td>...</td>\n",
       "      <td>...</td>\n",
       "      <td>...</td>\n",
       "      <td>...</td>\n",
       "      <td>...</td>\n",
       "      <td>...</td>\n",
       "      <td>...</td>\n",
       "      <td>...</td>\n",
       "      <td>...</td>\n",
       "      <td>...</td>\n",
       "      <td>...</td>\n",
       "      <td>...</td>\n",
       "    </tr>\n",
       "    <tr>\n",
       "      <td>231775</td>\n",
       "      <td>0.0</td>\n",
       "      <td>0.0</td>\n",
       "      <td>0.0</td>\n",
       "      <td>0.0</td>\n",
       "      <td>0.0</td>\n",
       "      <td>0.0</td>\n",
       "      <td>0.0</td>\n",
       "      <td>0.0</td>\n",
       "      <td>0.0</td>\n",
       "      <td>0.0</td>\n",
       "      <td>...</td>\n",
       "      <td>0.0</td>\n",
       "      <td>0.0</td>\n",
       "      <td>0.0</td>\n",
       "      <td>0.0</td>\n",
       "      <td>0.0</td>\n",
       "      <td>0.0</td>\n",
       "      <td>0.0</td>\n",
       "      <td>0.0</td>\n",
       "      <td>0.0</td>\n",
       "      <td>0.0</td>\n",
       "    </tr>\n",
       "    <tr>\n",
       "      <td>231776</td>\n",
       "      <td>0.0</td>\n",
       "      <td>0.0</td>\n",
       "      <td>0.0</td>\n",
       "      <td>0.0</td>\n",
       "      <td>0.0</td>\n",
       "      <td>0.0</td>\n",
       "      <td>0.0</td>\n",
       "      <td>0.0</td>\n",
       "      <td>0.0</td>\n",
       "      <td>0.0</td>\n",
       "      <td>...</td>\n",
       "      <td>0.0</td>\n",
       "      <td>0.0</td>\n",
       "      <td>0.0</td>\n",
       "      <td>0.0</td>\n",
       "      <td>0.0</td>\n",
       "      <td>0.0</td>\n",
       "      <td>0.0</td>\n",
       "      <td>0.0</td>\n",
       "      <td>0.0</td>\n",
       "      <td>0.0</td>\n",
       "    </tr>\n",
       "    <tr>\n",
       "      <td>231777</td>\n",
       "      <td>0.0</td>\n",
       "      <td>1.0</td>\n",
       "      <td>1.0</td>\n",
       "      <td>0.0</td>\n",
       "      <td>0.0</td>\n",
       "      <td>0.0</td>\n",
       "      <td>0.0</td>\n",
       "      <td>0.0</td>\n",
       "      <td>0.0</td>\n",
       "      <td>0.0</td>\n",
       "      <td>...</td>\n",
       "      <td>0.0</td>\n",
       "      <td>0.0</td>\n",
       "      <td>0.0</td>\n",
       "      <td>0.0</td>\n",
       "      <td>0.0</td>\n",
       "      <td>0.0</td>\n",
       "      <td>0.0</td>\n",
       "      <td>0.0</td>\n",
       "      <td>0.0</td>\n",
       "      <td>0.0</td>\n",
       "    </tr>\n",
       "    <tr>\n",
       "      <td>231778</td>\n",
       "      <td>0.0</td>\n",
       "      <td>0.0</td>\n",
       "      <td>0.0</td>\n",
       "      <td>0.0</td>\n",
       "      <td>0.0</td>\n",
       "      <td>0.0</td>\n",
       "      <td>0.0</td>\n",
       "      <td>0.0</td>\n",
       "      <td>0.0</td>\n",
       "      <td>0.0</td>\n",
       "      <td>...</td>\n",
       "      <td>0.0</td>\n",
       "      <td>0.0</td>\n",
       "      <td>0.0</td>\n",
       "      <td>0.0</td>\n",
       "      <td>0.0</td>\n",
       "      <td>0.0</td>\n",
       "      <td>0.0</td>\n",
       "      <td>0.0</td>\n",
       "      <td>0.0</td>\n",
       "      <td>0.0</td>\n",
       "    </tr>\n",
       "    <tr>\n",
       "      <td>231779</td>\n",
       "      <td>0.0</td>\n",
       "      <td>0.0</td>\n",
       "      <td>0.0</td>\n",
       "      <td>0.0</td>\n",
       "      <td>0.0</td>\n",
       "      <td>0.0</td>\n",
       "      <td>0.0</td>\n",
       "      <td>0.0</td>\n",
       "      <td>0.0</td>\n",
       "      <td>0.0</td>\n",
       "      <td>...</td>\n",
       "      <td>0.0</td>\n",
       "      <td>0.0</td>\n",
       "      <td>0.0</td>\n",
       "      <td>0.0</td>\n",
       "      <td>0.0</td>\n",
       "      <td>0.0</td>\n",
       "      <td>0.0</td>\n",
       "      <td>0.0</td>\n",
       "      <td>0.0</td>\n",
       "      <td>0.0</td>\n",
       "    </tr>\n",
       "  </tbody>\n",
       "</table>\n",
       "<p>231780 rows × 1647 columns</p>\n",
       "</div>"
      ],
      "text/plain": [
       "         ):   ..  ...  1/2   10  10/10  100  1080p   11   12  ...  yellow  \\\n",
       "0       0.0  0.0  0.0  0.0  0.0    0.0  0.0    0.0  0.0  0.0  ...     0.0   \n",
       "1       0.0  0.0  0.0  0.0  0.0    0.0  0.0    0.0  0.0  0.0  ...     0.0   \n",
       "2       0.0  0.0  0.0  0.0  0.0    0.0  0.0    0.0  0.0  0.0  ...     0.0   \n",
       "3       0.0  0.0  0.0  0.0  0.0    0.0  0.0    0.0  0.0  0.0  ...     0.0   \n",
       "4       0.0  0.0  0.0  0.0  0.0    0.0  0.0    0.0  0.0  0.0  ...     0.0   \n",
       "...     ...  ...  ...  ...  ...    ...  ...    ...  ...  ...  ...     ...   \n",
       "231775  0.0  0.0  0.0  0.0  0.0    0.0  0.0    0.0  0.0  0.0  ...     0.0   \n",
       "231776  0.0  0.0  0.0  0.0  0.0    0.0  0.0    0.0  0.0  0.0  ...     0.0   \n",
       "231777  0.0  1.0  1.0  0.0  0.0    0.0  0.0    0.0  0.0  0.0  ...     0.0   \n",
       "231778  0.0  0.0  0.0  0.0  0.0    0.0  0.0    0.0  0.0  0.0  ...     0.0   \n",
       "231779  0.0  0.0  0.0  0.0  0.0    0.0  0.0    0.0  0.0  0.0  ...     0.0   \n",
       "\n",
       "        yet  york  yoshi  young  younger  zelda  zero  zone  zoom  \n",
       "0       0.0   0.0    0.0    0.0      0.0    0.0   0.0   0.0   0.0  \n",
       "1       0.0   0.0    0.0    0.0      0.0    0.0   0.0   0.0   0.0  \n",
       "2       0.0   0.0    0.0    0.0      0.0    0.0   0.0   0.0   0.0  \n",
       "3       0.0   0.0    0.0    0.0      0.0    0.0   0.0   0.0   0.0  \n",
       "4       0.0   0.0    0.0    0.0      0.0    0.0   0.0   0.0   0.0  \n",
       "...     ...   ...    ...    ...      ...    ...   ...   ...   ...  \n",
       "231775  0.0   0.0    0.0    0.0      0.0    0.0   0.0   0.0   0.0  \n",
       "231776  0.0   0.0    0.0    0.0      0.0    0.0   0.0   0.0   0.0  \n",
       "231777  0.0   0.0    0.0    0.0      0.0    0.0   0.0   0.0   0.0  \n",
       "231778  0.0   0.0    0.0    0.0      0.0    0.0   0.0   0.0   0.0  \n",
       "231779  0.0   0.0    0.0    0.0      0.0    0.0   0.0   0.0   0.0  \n",
       "\n",
       "[231780 rows x 1647 columns]"
      ]
     },
     "execution_count": 13,
     "metadata": {},
     "output_type": "execute_result"
    }
   ],
   "source": [
    "X"
   ]
  },
  {
   "cell_type": "markdown",
   "metadata": {},
   "source": [
    "Ajustando o modelo"
   ]
  },
  {
   "cell_type": "code",
   "execution_count": 14,
   "metadata": {},
   "outputs": [
    {
     "data": {
      "text/plain": [
       "LogisticRegression(C=1.0, class_weight=None, dual=False, fit_intercept=True,\n",
       "                   intercept_scaling=1, l1_ratio=None, max_iter=100,\n",
       "                   multi_class='warn', n_jobs=None, penalty='l1',\n",
       "                   random_state=None, solver='liblinear', tol=0.0001, verbose=0,\n",
       "                   warm_start=False)"
      ]
     },
     "execution_count": 14,
     "metadata": {},
     "output_type": "execute_result"
    }
   ],
   "source": [
    "log = LogisticRegression(penalty = 'l1', solver = 'liblinear')\n",
    "log.fit(X, Y)"
   ]
  },
  {
   "cell_type": "code",
   "execution_count": 15,
   "metadata": {},
   "outputs": [],
   "source": [
    "coef = list(log.coef_[0])"
   ]
  },
  {
   "cell_type": "code",
   "execution_count": 16,
   "metadata": {},
   "outputs": [
    {
     "data": {
      "text/plain": [
       "1647"
      ]
     },
     "execution_count": 16,
     "metadata": {},
     "output_type": "execute_result"
    }
   ],
   "source": [
    "len(coef)"
   ]
  },
  {
   "cell_type": "code",
   "execution_count": 17,
   "metadata": {},
   "outputs": [],
   "source": [
    "coef = dict(zip(tokens, coef))"
   ]
  },
  {
   "cell_type": "markdown",
   "metadata": {},
   "source": [
    "Tokens com coeficientes mais baixos"
   ]
  },
  {
   "cell_type": "code",
   "execution_count": 18,
   "metadata": {
    "scrolled": false
   },
   "outputs": [
    {
     "data": {
      "text/plain": [
       "[('4/5', -1.9787529768720864),\n",
       " ('7/10', -1.4568451903059414),\n",
       " ('rental', -1.3745113390729675),\n",
       " ('worst', -1.2731888610383109),\n",
       " ('bland', -1.1027474229519703),\n",
       " ('rent', -0.9668081577284912),\n",
       " ('awful', -0.9456740569138659),\n",
       " ('boring', -0.9427628453037045),\n",
       " ('clunky', -0.8341847121912132),\n",
       " ('buggy', -0.777008004290507),\n",
       " ('ok', -0.7567120808820359),\n",
       " ('8/', -0.7478569193646105),\n",
       " ('useless', -0.7247156715041881),\n",
       " ('joke', -0.7241622942940587),\n",
       " ('poor', -0.7238158442532153),\n",
       " ('lame', -0.7080586945243136),\n",
       " ('alright', -0.6771310168842104),\n",
       " ('junk', -0.660976318069857),\n",
       " ('drm', -0.6579290261807966),\n",
       " ('okay', -0.6548785960501883),\n",
       " ('ea', -0.6294294589777458),\n",
       " ('trash', -0.626319012234961),\n",
       " ('dull', -0.6205401245583786),\n",
       " ('decent', -0.6146201162144037),\n",
       " ('pointless', -0.608452298293219),\n",
       " ('stiff', -0.5848993924757864),\n",
       " ('wasted', -0.5739603958129289),\n",
       " ('ridiculous', -0.5622059390983636),\n",
       " ('stupid', -0.536673050793197),\n",
       " ('annoying', -0.523882590348062),\n",
       " ('calibur', -0.5089997932835086),\n",
       " ('lack', -0.5057034456720805),\n",
       " ('tedious', -0.49696867170225606),\n",
       " ('shame', -0.49140869606522225),\n",
       " ('awkward', -0.48906341738152626),\n",
       " ('bad', -0.4882068448647954),\n",
       " ('chore', -0.4819566676807429),\n",
       " ('crap', -0.47228034571251065),\n",
       " ('mindless', -0.46993307878330115),\n",
       " ('linear', -0.46510402835741504),\n",
       " ('potential', -0.4615523873024605),\n",
       " ('rip', -0.4515066366262041),\n",
       " ('flaw', -0.43859993686080445),\n",
       " ('short', -0.4354982451414732),\n",
       " ('fix', -0.42854467599538437),\n",
       " ('error', -0.42006309766451444),\n",
       " ('glitches', -0.40895915894958723),\n",
       " ('budget', -0.40272637269872125),\n",
       " ('lazy', -0.40225287203156934),\n",
       " ('crappy', -0.39795728202769354)]"
      ]
     },
     "execution_count": 18,
     "metadata": {},
     "output_type": "execute_result"
    }
   ],
   "source": [
    "sorted(coef.items(), key = lambda kv: kv[1])[0:50]"
   ]
  },
  {
   "cell_type": "markdown",
   "metadata": {},
   "source": [
    "Tokens com coeficientes mais positivos"
   ]
  },
  {
   "cell_type": "code",
   "execution_count": 19,
   "metadata": {
    "scrolled": true
   },
   "outputs": [
    {
     "data": {
      "text/plain": [
       "[('10/10', 1.5194881503298003),\n",
       " ('5/5', 1.516972162043164),\n",
       " ('flawless', 0.7401875137611786),\n",
       " ('awesome', 0.7226555226654416),\n",
       " ('amazing', 0.6850899624153899),\n",
       " ('love', 0.6178837158539019),\n",
       " (':)', 0.6019304342772464),\n",
       " ('recommended', 0.5992773176902366),\n",
       " ('best', 0.5645274738351554),\n",
       " ('gem', 0.5596147066713312),\n",
       " ('thank', 0.5536801165753242),\n",
       " ('condition', 0.5218762010305177),\n",
       " ('fantastic', 0.5163729896936534),\n",
       " ('kratos', 0.4997941799127992),\n",
       " ('9/10', 0.4885959378456917),\n",
       " ('amazed', 0.483624049366226),\n",
       " ('dualshock', 0.48257983085839923),\n",
       " ('spoil', 0.4767390638570015),\n",
       " ('steal', 0.46244055027754716),\n",
       " ('excellent', 0.4586072904614638),\n",
       " ('blown', 0.4568137051183089),\n",
       " ('regret', 0.45287265522938625),\n",
       " ('glad', 0.4509005845128674),\n",
       " ('complain', 0.4445499611299497),\n",
       " ('happy', 0.4437427439946954),\n",
       " ('disappoint', 0.43860794465684866),\n",
       " ('owner', 0.43332706560228235),\n",
       " ('wonderful', 0.4323808581643295),\n",
       " ('perfect', 0.4295171049590854),\n",
       " ('tone', 0.4293566355587009),\n",
       " ('great', 0.42533670731560064),\n",
       " ('lol', 0.41137266208185236),\n",
       " ('playthrough', 0.4044748618099348),\n",
       " ('highest', 0.4021189410246481),\n",
       " ('sweet', 0.3999888593121546),\n",
       " ('persona', 0.398645627354866),\n",
       " ('superb', 0.39359814377194674),\n",
       " ('bomb', 0.3898743610128981),\n",
       " ('husband', 0.3895046014515693),\n",
       " ('greatest', 0.3888303010997572),\n",
       " ('instant', 0.3842906329129065),\n",
       " ('wow', 0.3839680965272841),\n",
       " ('elder', 0.37355192849149926),\n",
       " ('son', 0.37294462015160984),\n",
       " ('recommend', 0.37057986332034215),\n",
       " ('trust', 0.36770890666747774),\n",
       " ('experiences', 0.3650464156662134),\n",
       " ('brilliant', 0.3626885093932832),\n",
       " ('workout', 0.3626042627413908),\n",
       " ('afraid', 0.3608180905864726)]"
      ]
     },
     "execution_count": 19,
     "metadata": {},
     "output_type": "execute_result"
    }
   ],
   "source": [
    "sorted(coef.items(), key = lambda kv: kv[1], reverse = True)[0:50]"
   ]
  },
  {
   "cell_type": "markdown",
   "metadata": {},
   "source": [
    "Podemos ver que notas como 4/5 e 10/10 possuem coeficientes bastante expressivos, o que é de se esperar visto que elas tem uma ligação direta com a nossa variável resposta. \n",
    "\n",
    "Entre os termos com coeficientes baixos, temos palavras negativas como 'worst', 'awful' e 'boring', e palavras que indicam que o jogo é razoável, mas não digno da nota máxima, como 'ok' e 'decent'.\n",
    "\n",
    "Por sua vez, os coeficientes mais altos são de palavras positivas como 'flawless', 'amazing' e 'best'.\n",
    "\n",
    "Finalmente, em ambas as listas, temos termos que indicam produtores, personagens e produtores de jogos, por exemplo, 'ea', 'kratos' e 'persona'."
   ]
  }
 ],
 "metadata": {
  "kernelspec": {
   "display_name": "Python 3",
   "language": "python",
   "name": "python3"
  },
  "language_info": {
   "codemirror_mode": {
    "name": "ipython",
    "version": 3
   },
   "file_extension": ".py",
   "mimetype": "text/x-python",
   "name": "python",
   "nbconvert_exporter": "python",
   "pygments_lexer": "ipython3",
   "version": "3.6.9"
  }
 },
 "nbformat": 4,
 "nbformat_minor": 2
}
