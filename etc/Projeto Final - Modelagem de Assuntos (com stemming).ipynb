{
 "cells": [
  {
   "cell_type": "code",
   "execution_count": 1,
   "metadata": {},
   "outputs": [],
   "source": [
    "import pandas as pd\n",
    "import numpy as np\n",
    "import gzip\n",
    "import re\n",
    "from string import punctuation\n",
    "import time\n",
    "from nltk import tokenize\n",
    "from nltk.stem import PorterStemmer\n",
    "import gensim\n",
    "from nltk.corpus import stopwords\n",
    "from collections import Counter\n",
    "from gensim import corpora, models\n",
    "from gensim.models.coherencemodel import CoherenceModel\n",
    "import matplotlib.pyplot as plt\n",
    "from gensim.test.utils import datapath\n",
    "from gensim import similarities"
   ]
  },
  {
   "cell_type": "markdown",
   "metadata": {},
   "source": [
    "## Modelagem de Assuntos\n",
    "1. Usando a biblioteca Gensim, treine um modelo LSI e LDA para o seu corpus propondo uma metodologia para otimizaçao do numero de assuntos"
   ]
  },
  {
   "cell_type": "markdown",
   "metadata": {},
   "source": [
    "Lendo a base de dados"
   ]
  },
  {
   "cell_type": "code",
   "execution_count": 2,
   "metadata": {},
   "outputs": [],
   "source": [
    "def parse(path):\n",
    "    g = gzip.open(path, 'rb')\n",
    "    for l in g:\n",
    "        yield eval(l)\n",
    "\n",
    "def getDF(path):\n",
    "    i = 0\n",
    "    df = {}\n",
    "    for d in parse(path):\n",
    "        df[i] = d\n",
    "        i += 1\n",
    "    return pd.DataFrame.from_dict(df, orient = 'index')\n",
    "\n",
    "df = getDF('reviews_Video_Games_5.json.gz')"
   ]
  },
  {
   "cell_type": "markdown",
   "metadata": {},
   "source": [
    "Tokenizando o texto, colocando em caixa baixa, removendo stop words, termos de um caracter e termos que apareceram menos do que 20 vezes."
   ]
  },
  {
   "cell_type": "code",
   "execution_count": 3,
   "metadata": {},
   "outputs": [],
   "source": [
    "textos = list(df['reviewText'])\n",
    "\n",
    "sw = stopwords.words('english') + list(punctuation) + [\"..\", \"...\", \"....\", \".....\"]\n",
    "\n",
    "textos_limpos = []\n",
    "c = Counter([])\n",
    "for texto in textos:\n",
    "    tlimpo = [token.lower() for token in tokenize.TweetTokenizer().tokenize(texto) if token.lower() not in sw]\n",
    "    c.update(tlimpo)\n",
    "    textos_limpos.append(tlimpo)\n",
    "\n",
    "ps = PorterStemmer()\n",
    "stemmed = []\n",
    "for t in textos_limpos:\n",
    "    txt = [ps.stem(token) for token in t]\n",
    "    stemmed.append(txt)\n",
    "stemmed = [[token for token in t if (c[token] >= 1000 and len(token) > 1)] for t in stemmed]\n",
    "\n",
    "dicionario = corpora.Dictionary(stemmed)\n",
    "\n",
    "corpus = [dicionario.doc2bow(d) for d in stemmed]"
   ]
  },
  {
   "cell_type": "markdown",
   "metadata": {},
   "source": [
    "Ajustando vários modelos lsi e lda e verificando a medida de coerência deles."
   ]
  },
  {
   "cell_type": "code",
   "execution_count": 4,
   "metadata": {
    "scrolled": true
   },
   "outputs": [
    {
     "name": "stdout",
     "output_type": "stream",
     "text": [
      "2\n",
      "3\n",
      "4\n",
      "5\n",
      "6\n",
      "7\n",
      "8\n",
      "9\n",
      "10\n",
      "11\n",
      "12\n",
      "13\n",
      "14\n",
      "15\n"
     ]
    },
    {
     "data": {
      "text/plain": [
       "8094.802251577377"
      ]
     },
     "execution_count": 4,
     "metadata": {},
     "output_type": "execute_result"
    }
   ],
   "source": [
    "start_time = time.time()\n",
    "lsi = []\n",
    "lda = []\n",
    "co_lsi = []\n",
    "co_lda = []\n",
    "for i in range(2, 16): \n",
    "    print(i)\n",
    "    tmp_lsi = models.LsiModel(corpus, id2word = dicionario, num_topics = i)\n",
    "    coherencemodel = CoherenceModel(model = tmp_lsi, texts = textos_limpos, dictionary = dicionario, coherence = 'c_v')\n",
    "    lsi.append(tmp_lsi)\n",
    "    co_lsi.append(coherencemodel.get_coherence())\n",
    "    tmp_lda = models.LdaModel(corpus, id2word = dicionario, num_topics = i)\n",
    "    coherencemodel = CoherenceModel(model = tmp_lda, texts = textos_limpos, dictionary = dicionario, coherence = 'c_v')\n",
    "    lda.append(tmp_lda)\n",
    "    co_lda.append(coherencemodel.get_coherence())\n",
    "end_time = time.time()\n",
    "end_time - start_time"
   ]
  },
  {
   "cell_type": "markdown",
   "metadata": {},
   "source": [
    "Selecionando um número adequado de tópicos"
   ]
  },
  {
   "cell_type": "code",
   "execution_count": 5,
   "metadata": {},
   "outputs": [
    {
     "data": {
      "text/plain": [
       "[0.2529319538961585,\n",
       " 0.3029128593252401,\n",
       " 0.2965119059655144,\n",
       " 0.2924433849299744,\n",
       " 0.2998660412744665,\n",
       " 0.3084074529740683,\n",
       " 0.3210406929981887,\n",
       " 0.31468607952253896,\n",
       " 0.3031314751404356,\n",
       " 0.3093821418786243,\n",
       " 0.30305609479852286,\n",
       " 0.3048400329716114,\n",
       " 0.2997575126542965,\n",
       " 0.294198579433403]"
      ]
     },
     "execution_count": 5,
     "metadata": {},
     "output_type": "execute_result"
    }
   ],
   "source": [
    "co_lsi"
   ]
  },
  {
   "cell_type": "code",
   "execution_count": 6,
   "metadata": {},
   "outputs": [
    {
     "data": {
      "text/plain": [
       "[<matplotlib.lines.Line2D at 0xf60a67bb00>]"
      ]
     },
     "execution_count": 6,
     "metadata": {},
     "output_type": "execute_result"
    },
    {
     "data": {
      "image/png": "[encoded data removed]",
      "text/plain": [
       "<Figure size 432x288 with 1 Axes>"
      ]
     },
     "metadata": {
      "needs_background": "light"
     },
     "output_type": "display_data"
    }
   ],
   "source": [
    "plt.plot(list(range(2,16)), co_lsi)"
   ]
  },
  {
   "cell_type": "code",
   "execution_count": 7,
   "metadata": {
    "scrolled": true
   },
   "outputs": [
    {
     "data": {
      "text/plain": [
       "[0.26142765870172135,\n",
       " 0.2767811783253773,\n",
       " 0.2759851069651817,\n",
       " 0.29262218625880265,\n",
       " 0.2869823313882864,\n",
       " 0.2955920149172305,\n",
       " 0.2965274890326185,\n",
       " 0.3159551043701472,\n",
       " 0.3057630042594076,\n",
       " 0.31528258133756903,\n",
       " 0.31852158090184035,\n",
       " 0.32613648247003313,\n",
       " 0.3244953996734539,\n",
       " 0.31708924834036745]"
      ]
     },
     "execution_count": 7,
     "metadata": {},
     "output_type": "execute_result"
    }
   ],
   "source": [
    "co_lda"
   ]
  },
  {
   "cell_type": "code",
   "execution_count": 8,
   "metadata": {},
   "outputs": [
    {
     "data": {
      "text/plain": [
       "[<matplotlib.lines.Line2D at 0xf60a6a4d30>]"
      ]
     },
     "execution_count": 8,
     "metadata": {},
     "output_type": "execute_result"
    },
    {
     "data": {
      "image/png": "[encoded data removed]",
      "text/plain": [
       "<Figure size 432x288 with 1 Axes>"
      ]
     },
     "metadata": {
      "needs_background": "light"
     },
     "output_type": "display_data"
    }
   ],
   "source": [
    "plt.plot(list(range(2,16)), co_lda)"
   ]
  },
  {
   "cell_type": "code",
   "execution_count": 9,
   "metadata": {},
   "outputs": [],
   "source": [
    "best_lsi = lsi[6]\n",
    "best_lda = lda[11]\n",
    "\n",
    "best_lsi.save(\"lsi\")\n",
    "best_lda.save(\"lda\")"
   ]
  },
  {
   "cell_type": "code",
   "execution_count": 10,
   "metadata": {},
   "outputs": [
    {
     "data": {
      "text/plain": [
       "[(0,\n",
       "  '0.755*\"game\" + 0.215*\"play\" + 0.189*\"like\" + 0.167*\"get\" + 0.155*\"one\" + 0.134*\"time\" + 0.097*\"use\" + 0.096*\"make\" + 0.087*\"good\" + 0.086*\"also\"'),\n",
       " (1,\n",
       "  '-0.615*\"game\" + 0.266*\"get\" + 0.234*\"like\" + 0.209*\"one\" + 0.204*\"use\" + 0.162*\"time\" + 0.119*\"go\" + 0.117*\"make\" + 0.116*\"also\" + 0.113*\"...\"'),\n",
       " (2,\n",
       "  '0.874*\"play\" + -0.150*\"game\" + 0.132*\"player\" + 0.117*\"mode\" + 0.097*\"fun\" + 0.089*\"wii\" + 0.072*\"...\" + -0.072*\"weapon\" + 0.066*\"xbox\" + -0.065*\"one\"'),\n",
       " (3,\n",
       "  '0.874*\"...\" + -0.157*\"use\" + -0.148*\"mario\" + -0.146*\"control\" + 0.132*\"..\" + 0.113*\"like\" + -0.102*\"level\" + -0.101*\"wii\" + -0.100*\"also\" + -0.100*\"player\"'),\n",
       " (4,\n",
       "  '-0.439*\"control\" + 0.291*\"level\" + -0.270*\"wii\" + 0.229*\"get\" + -0.207*\"xbox\" + -0.187*\"like\" + -0.185*\"use\" + 0.184*\"play\" + 0.171*\"time\" + -0.157*\"ps3\"'),\n",
       " (5,\n",
       "  '-0.501*\"like\" + 0.483*\"mario\" + 0.339*\"...\" + 0.250*\"level\" + 0.243*\"super\" + 0.183*\"wii\" + 0.138*\"nintendo\" + 0.119*\"time\" + 0.115*\"new\" + 0.109*\"one\"'),\n",
       " (6,\n",
       "  '-0.501*\"like\" + 0.443*\"get\" + -0.341*\"mario\" + -0.222*\"level\" + 0.181*\"control\" + -0.173*\"super\" + -0.170*\"new\" + 0.157*\"use\" + -0.125*\"3d\" + 0.124*\"time\"'),\n",
       " (7,\n",
       "  '0.504*\"get\" + 0.316*\"car\" + -0.308*\"one\" + 0.290*\"mario\" + 0.274*\"race\" + 0.169*\"like\" + 0.163*\"wii\" + 0.153*\"fun\" + 0.146*\"level\" + -0.130*\"man\"')]"
      ]
     },
     "execution_count": 10,
     "metadata": {},
     "output_type": "execute_result"
    }
   ],
   "source": [
    "best_lsi.print_topics()"
   ]
  },
  {
   "cell_type": "code",
   "execution_count": null,
   "metadata": {},
   "outputs": [],
   "source": []
  },
  {
   "cell_type": "code",
   "execution_count": 11,
   "metadata": {},
   "outputs": [
    {
     "data": {
      "text/plain": [
       "[(0,\n",
       "  '0.058*\"control\" + 0.050*\"xbox\" + 0.040*\"use\" + 0.024*\"button\" + 0.024*\"360\" + 0.022*\"ps3\" + 0.021*\"headset\" + 0.018*\"sound\" + 0.017*\"one\" + 0.015*\"work\"'),\n",
       " (1,\n",
       "  '0.034*\"game\" + 0.018*\"world\" + 0.014*\"like\" + 0.013*\"quest\" + 0.011*\"time\" + 0.011*\"get\" + 0.011*\"one\" + 0.010*\"rpg\" + 0.010*\"item\" + 0.010*\"level\"'),\n",
       " (2,\n",
       "  '0.069*\"game\" + 0.021*\"level\" + 0.017*\"get\" + 0.016*\"time\" + 0.014*\"like\" + 0.012*\"one\" + 0.010*\"play\" + 0.010*\"fun\" + 0.009*\"also\" + 0.009*\"fight\"'),\n",
       " (3,\n",
       "  '0.256*\"...\" + 0.058*\"..\" + 0.023*\"like\" + 0.019*\"game\" + 0.018*\"get\" + 0.014*\"dont\" + 0.013*\"say\" + 0.011*\"know\" + 0.011*\"go\" + 0.010*\"bad\"'),\n",
       " (4,\n",
       "  '0.041*\"game\" + 0.039*\"car\" + 0.038*\"race\" + 0.030*\"mission\" + 0.028*\"drive\" + 0.018*\"creed\" + 0.018*\"like\" + 0.015*\"sonic\" + 0.013*\"gta\" + 0.013*\"track\"'),\n",
       " (5,\n",
       "  '0.041*\"game\" + 0.021*\"weapon\" + 0.020*\"like\" + 0.017*\"kill\" + 0.015*\"get\" + 0.014*\"gun\" + 0.013*\"shoot\" + 0.013*\"mission\" + 0.012*\"shooter\" + 0.011*\"play\"'),\n",
       " (6,\n",
       "  '0.030*\"campaign\" + 0.028*\"map\" + 0.027*\"new\" + 0.024*\"game\" + 0.021*\"battlefield\" + 0.017*\"card\" + 0.017*\"pack\" + 0.016*\"unit\" + 0.014*\"build\" + 0.013*\"also\"'),\n",
       " (7,\n",
       "  '0.041*\"mode\" + 0.038*\"player\" + 0.029*\"game\" + 0.028*\"play\" + 0.016*\"get\" + 0.014*\"song\" + 0.013*\"move\" + 0.012*\"team\" + 0.011*\"like\" + 0.010*\"time\"'),\n",
       " (8,\n",
       "  '0.023*\"game\" + 0.020*\"get\" + 0.017*\"like\" + 0.016*\"one\" + 0.015*\"go\" + 0.015*\"time\" + 0.014*\"i\\'m\" + 0.013*\"would\" + 0.013*\"thing\" + 0.010*\"work\"'),\n",
       " (9,\n",
       "  '0.156*\"game\" + 0.073*\"play\" + 0.030*\"like\" + 0.029*\"fun\" + 0.026*\"love\" + 0.023*\"great\" + 0.019*\"one\" + 0.016*\"get\" + 0.016*\"good\" + 0.013*\"graphic\"'),\n",
       " (10,\n",
       "  '0.070*\"game\" + 0.032*\"price\" + 0.030*\"buy\" + 0.028*\"great\" + 0.025*\"get\" + 0.020*\"play\" + 0.019*\"good\" + 0.016*\"worth\" + 0.015*\"work\" + 0.014*\"download\"'),\n",
       " (11,\n",
       "  '0.091*\"game\" + 0.025*\"ps4\" + 0.017*\"new\" + 0.014*\"play\" + 0.014*\"origin\" + 0.013*\"one\" + 0.013*\"graphic\" + 0.011*\"gameplay\" + 0.011*\"still\" + 0.011*\"feel\"'),\n",
       " (12,\n",
       "  '0.061*\"wii\" + 0.055*\"3d\" + 0.039*\"mario\" + 0.030*\"nintendo\" + 0.024*\"screen\" + 0.022*\"game\" + 0.016*\"super\" + 0.016*\"case\" + 0.015*\"new\" + 0.015*\"use\"')]"
      ]
     },
     "execution_count": 11,
     "metadata": {},
     "output_type": "execute_result"
    }
   ],
   "source": [
    "best_lda.print_topics()"
   ]
  },
  {
   "cell_type": "code",
   "execution_count": null,
   "metadata": {},
   "outputs": [],
   "source": []
  },
  {
   "cell_type": "markdown",
   "metadata": {},
   "source": [
    "<hr>\n",
    "\n",
    "2. Construa Uma matriz de similaridade entre os documentos do corpus a partir dos pesos\n",
    "\n",
    "Consultei: https://radimrehurek.com/gensim/auto_examples/core/run_similarity_queries.html"
   ]
  },
  {
   "cell_type": "code",
   "execution_count": 13,
   "metadata": {},
   "outputs": [],
   "source": [
    "index = similarities.MatrixSimilarity(best_lda[corpus])"
   ]
  },
  {
   "cell_type": "markdown",
   "metadata": {},
   "source": [
    "Vendo os documentos mais similares ao primeiro documento"
   ]
  },
  {
   "cell_type": "code",
   "execution_count": 17,
   "metadata": {
    "scrolled": true
   },
   "outputs": [
    {
     "data": {
      "text/plain": [
       "'Installing the game was a struggle (because of games for windows live bugs).Some championship races and cars can only be \"unlocked\" by buying them as an addon to the game. I paid nearly 30 dollars when the game was new. I don\\'t like the idea that I have to keep paying to keep playing.I noticed no improvement in the physics or graphics compared to Dirt 2.I tossed it in the garbage and vowed never to buy another codemasters game. I\\'m really tired of arcade style rally/racing games anyway.I\\'ll continue to get my fix from Richard Burns Rally, and you should to. :)http://www.amazon.com/Richard-Burns-Rally-PC/dp/B000C97156/ref=sr_1_1?ie=UTF8&qid;=1341886844&sr;=8-1&keywords;=richard+burns+rallyThank you for reading my review! If you enjoyed it, be sure to rate it as helpful.'"
      ]
     },
     "execution_count": 17,
     "metadata": {},
     "output_type": "execute_result"
    }
   ],
   "source": [
    "textos[0]"
   ]
  },
  {
   "cell_type": "code",
   "execution_count": 18,
   "metadata": {},
   "outputs": [
    {
     "data": {
      "text/plain": [
       "['game',\n",
       " 'game',\n",
       " 'window',\n",
       " 'live',\n",
       " 'bug',\n",
       " 'race',\n",
       " 'car',\n",
       " 'unlock',\n",
       " 'buy',\n",
       " 'game',\n",
       " 'paid',\n",
       " '30',\n",
       " 'dollar',\n",
       " 'game',\n",
       " 'new',\n",
       " 'like',\n",
       " 'idea',\n",
       " 'keep',\n",
       " 'pay',\n",
       " 'keep',\n",
       " 'play',\n",
       " 'graphic',\n",
       " 'dirt',\n",
       " 'never',\n",
       " 'buy',\n",
       " 'game',\n",
       " \"i'm\",\n",
       " 'style',\n",
       " 'race',\n",
       " 'game',\n",
       " 'anyway',\n",
       " \"i'll\",\n",
       " 'get',\n",
       " 'fix',\n",
       " 'burn',\n",
       " ':)',\n",
       " 'read',\n",
       " 'review',\n",
       " 'enjoy',\n",
       " 'sure',\n",
       " 'rate',\n",
       " 'help']"
      ]
     },
     "execution_count": 18,
     "metadata": {},
     "output_type": "execute_result"
    }
   ],
   "source": [
    "stemmed[0]"
   ]
  },
  {
   "cell_type": "code",
   "execution_count": 20,
   "metadata": {},
   "outputs": [
    {
     "name": "stdout",
     "output_type": "stream",
     "text": [
      "[(4, 0.18997198), (8, 0.32742816), (9, 0.26120427), (10, 0.20529364)]\n"
     ]
    }
   ],
   "source": [
    "vec_bow = dicionario.doc2bow(stemmed[0])\n",
    "vec_lda = best_lda[vec_bow] \n",
    "print(vec_lda)"
   ]
  },
  {
   "cell_type": "code",
   "execution_count": 32,
   "metadata": {
    "scrolled": false
   },
   "outputs": [
    {
     "name": "stdout",
     "output_type": "stream",
     "text": [
      "(0, 1.0) Installing the game was a struggle (because of games for windows live bugs).Some championship races and cars can only be \"unlocked\" by buying them as an addon to the game. I paid nearly 30 dollars when the game was new. I don't like the idea that I have to keep paying to keep playing.I noticed no improvement in the physics or graphics compared to Dirt 2.I tossed it in the garbage and vowed never to buy another codemasters game. I'm really tired of arcade style rally/racing games anyway.I'll continue to get my fix from Richard Burns Rally, and you should to. :)http://www.amazon.com/Richard-Burns-Rally-PC/dp/B000C97156/ref=sr_1_1?ie=UTF8&qid;=1341886844&sr;=8-1&keywords;=richard+burns+rallyThank you for reading my review! If you enjoyed it, be sure to rate it as helpful.\n",
      "\n",
      "(105364, 0.9971047) If you like rally cars get this game you will have fun.It is more oriented to &#34;European market&#34; since here in America there isn't a huge rally fan party. Music it is very European and even the voices from the game very &#34;English&#34; accent.The multiplayer isn't the best but it works just ok.\n",
      "\n",
      "(230217, 0.99315) 1st shipment received a book instead of the game.2nd shipment got a FAKE one. Game arrived with a wrong key inside on sealed box. I got in contact with codemasters and send them pictures of the DVD and the content. They said nothing they can do its a fake DVD.Returned it good bye.!\n",
      "\n",
      "(199998, 0.9904147) I got this version instead of the PS3 version, which turned out to be a mistake. Console versions of games look 95 percent as good as their PC versions, but you do not have to deal with driver issues and the numerous things that can go wrong with windows. First off the installation takes about 30 minutes, which is ridiculous. I have never had a game take this long to load, Shift 2 took about 20 minutes which seemed too long also. Next many of the latest games for PC are forcing you to have an internet connection in order to install the game, regardless of whether you want to play only offline single player games. Shift 2 unleashed is also like this, so be forewarned. Internet requirements are not prominently displayed on the boxes. The game pushes you, but does not require you to, sign up for a Games For Windows Live account, which is required to get the game patches and updates. More time wasted signing up for that. Finally after about one hour the game was up and running , but the menu screen text had red blocky borders, and the sun in the game screens was ugly pink red, with red reflections on the car and everywhere. So more time spent googling to find a solution to this. I had to download a hot-fix driver update for my AMD videocard driver, which solved that red text and sun problem. Finally after nearly 2 hours I was able to play the game, which is perhaps the prettiest racing game I have ever played. Magnificent graphics, and fun excellent gameplay. Good forcefeedback effects with a steering wheel, and excellent sense of speed and immersion, makes this a top notch sim racer with just a hint of arcade feeling to it.I was really, finally enjoying the game , when suddenly about 30 minutes in to a race the game suddenly crashed. No error message or anything, it just hung up and crashed to desktop, under windows 7. I later tried it with Windows XP on the same machine, and it crashed less frequently, usually only when exiting the game, but random crashes really kill the fun of a racing game, since it might not crash during an entire 20 lap race or it might crash on the 2nd lap.It is a great game when it works, and if you are lucky enough to have a machine that it runs stably on then by all means get this game. But hang on to your receipt just in case.I am tired of fiddling with my computer trying to find a totally reliable setup for this game, so I think I am going to buy a copy for my PS3, which has never crashed, in over 3 years of game playing. I have been buying the top notch PC versions of videogames and spent thousands of dollars over the years on faster videocards and cpu's , but I have finally grown tired of fiddling with incompatibilities of hardware and software, and now game publishers demanding that you have an internet connection as well as providing a long serial number, utilizing gigabytes of harddrive space, 30 minute or longer installation times ( it takes less time to install Windows 7 ) , and requiring you to sign up for their online service and game store, and still you have to put that stupid little DVD in your computer everytime you want to play a simple game to relax. I am pretty much done with PC gaming, since the consoles are so much less hassle, and they have \" good enough \" graphics that the diminishing returns of costly higher resolution better antialiased higher framerate graphics is not worth it. When the PS4 and Xbox 720 come out, I think the law of diminishing returns will be even more evident.\n",
      "\n",
      "(71565, 0.99026) I had Dirt 2 on Xbox 360 and it was an okay game. I started playing games on my laptop and bought a few new games to build my collection. This game is very fun to play. It is so much better than Dirt 2. If you like racing games you should check this out. The graphics are perfect on my compter.\n",
      "\n"
     ]
    }
   ],
   "source": [
    "sims = index[vec_lda]\n",
    "sims = sorted(enumerate(sims), key=lambda item: -item[1])[0:5]\n",
    "for i, s in enumerate(sims):\n",
    "    print(s, textos[i])\n",
    "    print()"
   ]
  }
 ],
 "metadata": {
  "kernelspec": {
   "display_name": "Python 3",
   "language": "python",
   "name": "python3"
  },
  "language_info": {
   "codemirror_mode": {
    "name": "ipython",
    "version": 3
   },
   "file_extension": ".py",
   "mimetype": "text/x-python",
   "name": "python",
   "nbconvert_exporter": "python",
   "pygments_lexer": "ipython3",
   "version": "3.6.9"
  }
 },
 "nbformat": 4,
 "nbformat_minor": 2
}
