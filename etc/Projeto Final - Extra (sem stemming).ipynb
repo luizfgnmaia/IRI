{
 "cells": [
  {
   "cell_type": "code",
   "execution_count": 14,
   "metadata": {},
   "outputs": [],
   "source": [
    "import pandas as pd\n",
    "import numpy as np\n",
    "import gzip\n",
    "from string import punctuation\n",
    "\n",
    "import itertools\n",
    "\n",
    "from nltk import tokenize\n",
    "from sklearn.feature_extraction.text import CountVectorizer\n",
    "\n",
    "from nltk.corpus import stopwords\n",
    "from collections import Counter\n",
    "\n",
    "from sklearn.linear_model import LogisticRegression"
   ]
  },
  {
   "cell_type": "markdown",
   "metadata": {},
   "source": [
    "## Encontrando as palavras das reviews que mais influenciam em um rating 5\n",
    "\n",
    "Variável independente: nota das reviews (coluna 'overall')\n",
    "\n",
    "Variáveis explicativas: dummies que indicam a presença de uma determinada palavra no review\n",
    "\n",
    "Modelo: regressão logística com regularização L1 (lasso)"
   ]
  },
  {
   "cell_type": "markdown",
   "metadata": {},
   "source": [
    "Lendo a base de dados e preparando as variáveis"
   ]
  },
  {
   "cell_type": "code",
   "execution_count": 2,
   "metadata": {},
   "outputs": [],
   "source": [
    "def parse(path):\n",
    "    g = gzip.open(path, 'rb')\n",
    "    for l in g:\n",
    "        yield eval(l)\n",
    "\n",
    "def getDF(path):\n",
    "    i = 0\n",
    "    df = {}\n",
    "    for d in parse(path):\n",
    "        df[i] = d\n",
    "        i += 1\n",
    "    return pd.DataFrame.from_dict(df, orient = 'index')\n",
    "\n",
    "df = getDF('reviews_Video_Games_5.json.gz')"
   ]
  },
  {
   "cell_type": "code",
   "execution_count": 3,
   "metadata": {},
   "outputs": [
    {
     "data": {
      "text/plain": [
       "5.0    120185\n",
       "4.0     54804\n",
       "3.0     28275\n",
       "1.0     14853\n",
       "2.0     13663\n",
       "Name: overall, dtype: int64"
      ]
     },
     "execution_count": 3,
     "metadata": {},
     "output_type": "execute_result"
    }
   ],
   "source": [
    "df['overall'].value_counts()"
   ]
  },
  {
   "cell_type": "code",
   "execution_count": 4,
   "metadata": {},
   "outputs": [],
   "source": [
    "Y = list((df['overall'] == 5)*1)"
   ]
  },
  {
   "cell_type": "markdown",
   "metadata": {},
   "source": [
    "Tokenizando o texto, colocando em caixa baixa, removendo stop words, termos de um caracter e termos que apareceram menos do que 1000 vezes."
   ]
  },
  {
   "cell_type": "code",
   "execution_count": 5,
   "metadata": {},
   "outputs": [],
   "source": [
    "textos = list(df['reviewText'])"
   ]
  },
  {
   "cell_type": "code",
   "execution_count": 6,
   "metadata": {},
   "outputs": [],
   "source": [
    "sw = stopwords.words('english') + list(punctuation)\n",
    "\n",
    "textos_limpos = []\n",
    "c = Counter([])\n",
    "for texto in textos:\n",
    "    tlimpo = [token.lower() for token in tokenize.TweetTokenizer().tokenize(texto) if token.lower() not in sw]\n",
    "    c.update(tlimpo)\n",
    "    textos_limpos.append(tlimpo)\n",
    "textos_limpos = [[token for token in t if (c[token] >= 1000 and len(token) > 1)] for t in textos_limpos]"
   ]
  },
  {
   "cell_type": "code",
   "execution_count": 7,
   "metadata": {},
   "outputs": [],
   "source": [
    "tokens = list(set(list(itertools.chain(*textos_limpos))))\n",
    "tokens.sort()"
   ]
  },
  {
   "cell_type": "code",
   "execution_count": 8,
   "metadata": {},
   "outputs": [
    {
     "data": {
      "text/plain": [
       "3078"
      ]
     },
     "execution_count": 8,
     "metadata": {},
     "output_type": "execute_result"
    }
   ],
   "source": [
    "len(tokens)"
   ]
  },
  {
   "cell_type": "code",
   "execution_count": 9,
   "metadata": {},
   "outputs": [
    {
     "data": {
      "text/plain": [
       "['):', '..', '...', '1/2', '10']"
      ]
     },
     "execution_count": 9,
     "metadata": {},
     "output_type": "execute_result"
    }
   ],
   "source": [
    "tokens[0:5]"
   ]
  },
  {
   "cell_type": "code",
   "execution_count": 10,
   "metadata": {},
   "outputs": [
    {
     "data": {
      "text/plain": [
       "['failed', 'fails', 'failure', 'fair', 'fairly']"
      ]
     },
     "execution_count": 10,
     "metadata": {},
     "output_type": "execute_result"
    }
   ],
   "source": [
    "tokens[1000:1005]"
   ]
  },
  {
   "cell_type": "code",
   "execution_count": 11,
   "metadata": {},
   "outputs": [],
   "source": [
    "X = np.empty((len(textos), len(tokens)))\n",
    "for i in range(len(Y)):\n",
    "    for j in range(len(tokens)):\n",
    "        X[i,j] = int(tokens[j] in textos_limpos[i])"
   ]
  },
  {
   "cell_type": "code",
   "execution_count": 12,
   "metadata": {},
   "outputs": [],
   "source": [
    "X = pd.DataFrame(X)\n",
    "X.columns = tokens"
   ]
  },
  {
   "cell_type": "code",
   "execution_count": 13,
   "metadata": {
    "scrolled": true
   },
   "outputs": [
    {
     "data": {
      "text/html": [
       "<div>\n",
       "<style scoped>\n",
       "    .dataframe tbody tr th:only-of-type {\n",
       "        vertical-align: middle;\n",
       "    }\n",
       "\n",
       "    .dataframe tbody tr th {\n",
       "        vertical-align: top;\n",
       "    }\n",
       "\n",
       "    .dataframe thead th {\n",
       "        text-align: right;\n",
       "    }\n",
       "</style>\n",
       "<table border=\"1\" class=\"dataframe\">\n",
       "  <thead>\n",
       "    <tr style=\"text-align: right;\">\n",
       "      <th></th>\n",
       "      <th>):</th>\n",
       "      <th>..</th>\n",
       "      <th>...</th>\n",
       "      <th>1/2</th>\n",
       "      <th>10</th>\n",
       "      <th>10/10</th>\n",
       "      <th>100</th>\n",
       "      <th>1080p</th>\n",
       "      <th>11</th>\n",
       "      <th>12</th>\n",
       "      <th>...</th>\n",
       "      <th>young</th>\n",
       "      <th>younger</th>\n",
       "      <th>youtube</th>\n",
       "      <th>zelda</th>\n",
       "      <th>zero</th>\n",
       "      <th>zombie</th>\n",
       "      <th>zombies</th>\n",
       "      <th>zone</th>\n",
       "      <th>zones</th>\n",
       "      <th>zoom</th>\n",
       "    </tr>\n",
       "  </thead>\n",
       "  <tbody>\n",
       "    <tr>\n",
       "      <td>0</td>\n",
       "      <td>0.0</td>\n",
       "      <td>0.0</td>\n",
       "      <td>0.0</td>\n",
       "      <td>0.0</td>\n",
       "      <td>0.0</td>\n",
       "      <td>0.0</td>\n",
       "      <td>0.0</td>\n",
       "      <td>0.0</td>\n",
       "      <td>0.0</td>\n",
       "      <td>0.0</td>\n",
       "      <td>...</td>\n",
       "      <td>0.0</td>\n",
       "      <td>0.0</td>\n",
       "      <td>0.0</td>\n",
       "      <td>0.0</td>\n",
       "      <td>0.0</td>\n",
       "      <td>0.0</td>\n",
       "      <td>0.0</td>\n",
       "      <td>0.0</td>\n",
       "      <td>0.0</td>\n",
       "      <td>0.0</td>\n",
       "    </tr>\n",
       "    <tr>\n",
       "      <td>1</td>\n",
       "      <td>0.0</td>\n",
       "      <td>0.0</td>\n",
       "      <td>0.0</td>\n",
       "      <td>0.0</td>\n",
       "      <td>0.0</td>\n",
       "      <td>0.0</td>\n",
       "      <td>0.0</td>\n",
       "      <td>0.0</td>\n",
       "      <td>0.0</td>\n",
       "      <td>0.0</td>\n",
       "      <td>...</td>\n",
       "      <td>0.0</td>\n",
       "      <td>0.0</td>\n",
       "      <td>0.0</td>\n",
       "      <td>0.0</td>\n",
       "      <td>0.0</td>\n",
       "      <td>0.0</td>\n",
       "      <td>0.0</td>\n",
       "      <td>0.0</td>\n",
       "      <td>0.0</td>\n",
       "      <td>0.0</td>\n",
       "    </tr>\n",
       "    <tr>\n",
       "      <td>2</td>\n",
       "      <td>0.0</td>\n",
       "      <td>0.0</td>\n",
       "      <td>0.0</td>\n",
       "      <td>0.0</td>\n",
       "      <td>0.0</td>\n",
       "      <td>0.0</td>\n",
       "      <td>0.0</td>\n",
       "      <td>0.0</td>\n",
       "      <td>0.0</td>\n",
       "      <td>0.0</td>\n",
       "      <td>...</td>\n",
       "      <td>0.0</td>\n",
       "      <td>0.0</td>\n",
       "      <td>0.0</td>\n",
       "      <td>0.0</td>\n",
       "      <td>0.0</td>\n",
       "      <td>0.0</td>\n",
       "      <td>0.0</td>\n",
       "      <td>0.0</td>\n",
       "      <td>0.0</td>\n",
       "      <td>0.0</td>\n",
       "    </tr>\n",
       "    <tr>\n",
       "      <td>3</td>\n",
       "      <td>0.0</td>\n",
       "      <td>0.0</td>\n",
       "      <td>0.0</td>\n",
       "      <td>0.0</td>\n",
       "      <td>0.0</td>\n",
       "      <td>0.0</td>\n",
       "      <td>0.0</td>\n",
       "      <td>0.0</td>\n",
       "      <td>0.0</td>\n",
       "      <td>0.0</td>\n",
       "      <td>...</td>\n",
       "      <td>0.0</td>\n",
       "      <td>0.0</td>\n",
       "      <td>0.0</td>\n",
       "      <td>0.0</td>\n",
       "      <td>0.0</td>\n",
       "      <td>0.0</td>\n",
       "      <td>0.0</td>\n",
       "      <td>0.0</td>\n",
       "      <td>0.0</td>\n",
       "      <td>0.0</td>\n",
       "    </tr>\n",
       "    <tr>\n",
       "      <td>4</td>\n",
       "      <td>0.0</td>\n",
       "      <td>0.0</td>\n",
       "      <td>0.0</td>\n",
       "      <td>0.0</td>\n",
       "      <td>0.0</td>\n",
       "      <td>0.0</td>\n",
       "      <td>0.0</td>\n",
       "      <td>0.0</td>\n",
       "      <td>0.0</td>\n",
       "      <td>0.0</td>\n",
       "      <td>...</td>\n",
       "      <td>0.0</td>\n",
       "      <td>0.0</td>\n",
       "      <td>0.0</td>\n",
       "      <td>0.0</td>\n",
       "      <td>0.0</td>\n",
       "      <td>0.0</td>\n",
       "      <td>0.0</td>\n",
       "      <td>0.0</td>\n",
       "      <td>0.0</td>\n",
       "      <td>0.0</td>\n",
       "    </tr>\n",
       "    <tr>\n",
       "      <td>...</td>\n",
       "      <td>...</td>\n",
       "      <td>...</td>\n",
       "      <td>...</td>\n",
       "      <td>...</td>\n",
       "      <td>...</td>\n",
       "      <td>...</td>\n",
       "      <td>...</td>\n",
       "      <td>...</td>\n",
       "      <td>...</td>\n",
       "      <td>...</td>\n",
       "      <td>...</td>\n",
       "      <td>...</td>\n",
       "      <td>...</td>\n",
       "      <td>...</td>\n",
       "      <td>...</td>\n",
       "      <td>...</td>\n",
       "      <td>...</td>\n",
       "      <td>...</td>\n",
       "      <td>...</td>\n",
       "      <td>...</td>\n",
       "      <td>...</td>\n",
       "    </tr>\n",
       "    <tr>\n",
       "      <td>231775</td>\n",
       "      <td>0.0</td>\n",
       "      <td>0.0</td>\n",
       "      <td>0.0</td>\n",
       "      <td>0.0</td>\n",
       "      <td>0.0</td>\n",
       "      <td>0.0</td>\n",
       "      <td>0.0</td>\n",
       "      <td>0.0</td>\n",
       "      <td>0.0</td>\n",
       "      <td>0.0</td>\n",
       "      <td>...</td>\n",
       "      <td>0.0</td>\n",
       "      <td>0.0</td>\n",
       "      <td>0.0</td>\n",
       "      <td>0.0</td>\n",
       "      <td>0.0</td>\n",
       "      <td>0.0</td>\n",
       "      <td>0.0</td>\n",
       "      <td>0.0</td>\n",
       "      <td>0.0</td>\n",
       "      <td>0.0</td>\n",
       "    </tr>\n",
       "    <tr>\n",
       "      <td>231776</td>\n",
       "      <td>0.0</td>\n",
       "      <td>0.0</td>\n",
       "      <td>0.0</td>\n",
       "      <td>0.0</td>\n",
       "      <td>0.0</td>\n",
       "      <td>0.0</td>\n",
       "      <td>0.0</td>\n",
       "      <td>0.0</td>\n",
       "      <td>0.0</td>\n",
       "      <td>0.0</td>\n",
       "      <td>...</td>\n",
       "      <td>0.0</td>\n",
       "      <td>0.0</td>\n",
       "      <td>0.0</td>\n",
       "      <td>0.0</td>\n",
       "      <td>0.0</td>\n",
       "      <td>0.0</td>\n",
       "      <td>0.0</td>\n",
       "      <td>0.0</td>\n",
       "      <td>0.0</td>\n",
       "      <td>0.0</td>\n",
       "    </tr>\n",
       "    <tr>\n",
       "      <td>231777</td>\n",
       "      <td>0.0</td>\n",
       "      <td>1.0</td>\n",
       "      <td>1.0</td>\n",
       "      <td>0.0</td>\n",
       "      <td>0.0</td>\n",
       "      <td>0.0</td>\n",
       "      <td>0.0</td>\n",
       "      <td>0.0</td>\n",
       "      <td>0.0</td>\n",
       "      <td>0.0</td>\n",
       "      <td>...</td>\n",
       "      <td>0.0</td>\n",
       "      <td>0.0</td>\n",
       "      <td>0.0</td>\n",
       "      <td>0.0</td>\n",
       "      <td>0.0</td>\n",
       "      <td>0.0</td>\n",
       "      <td>0.0</td>\n",
       "      <td>0.0</td>\n",
       "      <td>0.0</td>\n",
       "      <td>0.0</td>\n",
       "    </tr>\n",
       "    <tr>\n",
       "      <td>231778</td>\n",
       "      <td>0.0</td>\n",
       "      <td>0.0</td>\n",
       "      <td>0.0</td>\n",
       "      <td>0.0</td>\n",
       "      <td>0.0</td>\n",
       "      <td>0.0</td>\n",
       "      <td>0.0</td>\n",
       "      <td>0.0</td>\n",
       "      <td>0.0</td>\n",
       "      <td>0.0</td>\n",
       "      <td>...</td>\n",
       "      <td>0.0</td>\n",
       "      <td>0.0</td>\n",
       "      <td>0.0</td>\n",
       "      <td>0.0</td>\n",
       "      <td>0.0</td>\n",
       "      <td>0.0</td>\n",
       "      <td>0.0</td>\n",
       "      <td>0.0</td>\n",
       "      <td>0.0</td>\n",
       "      <td>0.0</td>\n",
       "    </tr>\n",
       "    <tr>\n",
       "      <td>231779</td>\n",
       "      <td>0.0</td>\n",
       "      <td>0.0</td>\n",
       "      <td>0.0</td>\n",
       "      <td>0.0</td>\n",
       "      <td>0.0</td>\n",
       "      <td>0.0</td>\n",
       "      <td>0.0</td>\n",
       "      <td>0.0</td>\n",
       "      <td>0.0</td>\n",
       "      <td>0.0</td>\n",
       "      <td>...</td>\n",
       "      <td>0.0</td>\n",
       "      <td>0.0</td>\n",
       "      <td>0.0</td>\n",
       "      <td>0.0</td>\n",
       "      <td>0.0</td>\n",
       "      <td>0.0</td>\n",
       "      <td>0.0</td>\n",
       "      <td>0.0</td>\n",
       "      <td>0.0</td>\n",
       "      <td>0.0</td>\n",
       "    </tr>\n",
       "  </tbody>\n",
       "</table>\n",
       "<p>231780 rows × 3078 columns</p>\n",
       "</div>"
      ],
      "text/plain": [
       "         ):   ..  ...  1/2   10  10/10  100  1080p   11   12  ...  young  \\\n",
       "0       0.0  0.0  0.0  0.0  0.0    0.0  0.0    0.0  0.0  0.0  ...    0.0   \n",
       "1       0.0  0.0  0.0  0.0  0.0    0.0  0.0    0.0  0.0  0.0  ...    0.0   \n",
       "2       0.0  0.0  0.0  0.0  0.0    0.0  0.0    0.0  0.0  0.0  ...    0.0   \n",
       "3       0.0  0.0  0.0  0.0  0.0    0.0  0.0    0.0  0.0  0.0  ...    0.0   \n",
       "4       0.0  0.0  0.0  0.0  0.0    0.0  0.0    0.0  0.0  0.0  ...    0.0   \n",
       "...     ...  ...  ...  ...  ...    ...  ...    ...  ...  ...  ...    ...   \n",
       "231775  0.0  0.0  0.0  0.0  0.0    0.0  0.0    0.0  0.0  0.0  ...    0.0   \n",
       "231776  0.0  0.0  0.0  0.0  0.0    0.0  0.0    0.0  0.0  0.0  ...    0.0   \n",
       "231777  0.0  1.0  1.0  0.0  0.0    0.0  0.0    0.0  0.0  0.0  ...    0.0   \n",
       "231778  0.0  0.0  0.0  0.0  0.0    0.0  0.0    0.0  0.0  0.0  ...    0.0   \n",
       "231779  0.0  0.0  0.0  0.0  0.0    0.0  0.0    0.0  0.0  0.0  ...    0.0   \n",
       "\n",
       "        younger  youtube  zelda  zero  zombie  zombies  zone  zones  zoom  \n",
       "0           0.0      0.0    0.0   0.0     0.0      0.0   0.0    0.0   0.0  \n",
       "1           0.0      0.0    0.0   0.0     0.0      0.0   0.0    0.0   0.0  \n",
       "2           0.0      0.0    0.0   0.0     0.0      0.0   0.0    0.0   0.0  \n",
       "3           0.0      0.0    0.0   0.0     0.0      0.0   0.0    0.0   0.0  \n",
       "4           0.0      0.0    0.0   0.0     0.0      0.0   0.0    0.0   0.0  \n",
       "...         ...      ...    ...   ...     ...      ...   ...    ...   ...  \n",
       "231775      0.0      0.0    0.0   0.0     0.0      0.0   0.0    0.0   0.0  \n",
       "231776      0.0      0.0    0.0   0.0     0.0      0.0   0.0    0.0   0.0  \n",
       "231777      0.0      0.0    0.0   0.0     0.0      0.0   0.0    0.0   0.0  \n",
       "231778      0.0      0.0    0.0   0.0     0.0      0.0   0.0    0.0   0.0  \n",
       "231779      0.0      0.0    0.0   0.0     0.0      0.0   0.0    0.0   0.0  \n",
       "\n",
       "[231780 rows x 3078 columns]"
      ]
     },
     "execution_count": 13,
     "metadata": {},
     "output_type": "execute_result"
    }
   ],
   "source": [
    "X"
   ]
  },
  {
   "cell_type": "markdown",
   "metadata": {},
   "source": [
    "Ajustando o modelo"
   ]
  },
  {
   "cell_type": "code",
   "execution_count": 16,
   "metadata": {},
   "outputs": [
    {
     "data": {
      "text/plain": [
       "LogisticRegression(C=1.0, class_weight=None, dual=False, fit_intercept=True,\n",
       "                   intercept_scaling=1, l1_ratio=None, max_iter=100,\n",
       "                   multi_class='warn', n_jobs=None, penalty='l1',\n",
       "                   random_state=None, solver='liblinear', tol=0.0001, verbose=0,\n",
       "                   warm_start=False)"
      ]
     },
     "execution_count": 16,
     "metadata": {},
     "output_type": "execute_result"
    }
   ],
   "source": [
    "log = LogisticRegression(penalty = 'l1', solver = 'liblinear')\n",
    "log.fit(X, Y)"
   ]
  },
  {
   "cell_type": "code",
   "execution_count": 22,
   "metadata": {},
   "outputs": [],
   "source": [
    "coef = list(log.coef_[0])"
   ]
  },
  {
   "cell_type": "code",
   "execution_count": 23,
   "metadata": {},
   "outputs": [
    {
     "data": {
      "text/plain": [
       "3078"
      ]
     },
     "execution_count": 23,
     "metadata": {},
     "output_type": "execute_result"
    }
   ],
   "source": [
    "len(coef)"
   ]
  },
  {
   "cell_type": "code",
   "execution_count": 25,
   "metadata": {},
   "outputs": [],
   "source": [
    "coef = dict(zip(tokens, coef))"
   ]
  },
  {
   "cell_type": "markdown",
   "metadata": {},
   "source": [
    "Tokens com coeficientes mais baixos"
   ]
  },
  {
   "cell_type": "code",
   "execution_count": 30,
   "metadata": {
    "scrolled": false
   },
   "outputs": [
    {
     "data": {
      "text/plain": [
       "[('4/5', -2.0352190480018817),\n",
       " ('rental', -1.1996016088343748),\n",
       " ('7/10', -1.1945264247597138),\n",
       " ('worst', -1.1242882318229235),\n",
       " ('bland', -0.9777371384062946),\n",
       " ('lacks', -0.9212397708927108),\n",
       " ('unplayable', -0.9178912445339571),\n",
       " ('disappointment', -0.8769535254826584),\n",
       " ('terrible', -0.8744865349254697),\n",
       " ('disappointing', -0.8672980834945437),\n",
       " ('rent', -0.8574893169943194),\n",
       " ('garbage', -0.8383851703629718),\n",
       " ('8/', -0.8305424179003406),\n",
       " ('repetitive', -0.8257428324980286),\n",
       " ('waste', -0.8021515306377814),\n",
       " ('boring', -0.8007276711030619),\n",
       " ('horrible', -0.7838039963482352),\n",
       " ('suffers', -0.7555236134824114),\n",
       " ('freezes', -0.7462730568752874),\n",
       " ('unfortunately', -0.7405755198770786),\n",
       " ('awful', -0.7391402922349376),\n",
       " ('fails', -0.726361773122868),\n",
       " ('ok', -0.7197649371340991),\n",
       " ('clunky', -0.7146752911879642),\n",
       " ('worse', -0.691444700337098),\n",
       " ('joke', -0.6777047229576956),\n",
       " ('hopes', -0.6726035623973531),\n",
       " ('lame', -0.6674861263375449),\n",
       " ('falls', -0.656999924760497),\n",
       " ('renting', -0.6487527038472704),\n",
       " ('mediocre', -0.6297514250212621),\n",
       " ('okay', -0.6295287069300508),\n",
       " ('sucks', -0.625010526051957),\n",
       " ('ruined', -0.618281281644604),\n",
       " ('buggy', -0.6129486686066963),\n",
       " (\"could've\", -0.6114157234620791),\n",
       " ('trash', -0.6079991106432348),\n",
       " ('alright', -0.5931638505652457),\n",
       " ('junk', -0.587768601529863),\n",
       " ('poorly', -0.5842151292649996),\n",
       " ('useless', -0.581043526495313),\n",
       " ('stiff', -0.5780500752758796),\n",
       " ('poor', -0.5695935832819852),\n",
       " ('frustrating', -0.566531191958176),\n",
       " ('rushed', -0.564373750822218),\n",
       " ('stars', -0.5388998847952832),\n",
       " ('stopped', -0.5365301468488662),\n",
       " ('dull', -0.535350671287148),\n",
       " ('decent', -0.531209346124952),\n",
       " ('drm', -0.5279689970016281)]"
      ]
     },
     "execution_count": 30,
     "metadata": {},
     "output_type": "execute_result"
    }
   ],
   "source": [
    "sorted(coef.items(), key = lambda kv: kv[1])[0:50]"
   ]
  },
  {
   "cell_type": "markdown",
   "metadata": {},
   "source": [
    "Tokens com coeficientes mais positivos"
   ]
  },
  {
   "cell_type": "code",
   "execution_count": 31,
   "metadata": {
    "scrolled": true
   },
   "outputs": [
    {
     "data": {
      "text/plain": [
       "[('5/5', 1.5096904783899738),\n",
       " ('10/10', 1.5015134719635013),\n",
       " ('masterpiece', 0.7981346585281509),\n",
       " ('skeptical', 0.7890887024267284),\n",
       " ('worried', 0.7424494537783783),\n",
       " ('penny', 0.717955061487637),\n",
       " ('flawless', 0.7034399287812274),\n",
       " ('awesome', 0.6928314271850846),\n",
       " ('amazing', 0.636662998072325),\n",
       " ('highly', 0.6340804886922735),\n",
       " ('awsome', 0.6241384039407908),\n",
       " ('loves', 0.6156318668238289),\n",
       " ('loving', 0.605872139166777),\n",
       " ('love', 0.5823002000299015),\n",
       " ('thank', 0.566171254574624),\n",
       " ('complaining', 0.546448186638365),\n",
       " ('best', 0.5434448839453128),\n",
       " ('incredible', 0.5364496660245935),\n",
       " (':)', 0.5324037213674148),\n",
       " ('addicting', 0.5275517294598525),\n",
       " ('hooked', 0.5014151443903112),\n",
       " ('sturdy', 0.4990698644574939),\n",
       " ('fantastic', 0.49782654915719854),\n",
       " ('addictive', 0.49602065862709754),\n",
       " ('amazingly', 0.4927751870160977),\n",
       " ('favorite', 0.4859086581977506),\n",
       " ('rocks', 0.4802121504095994),\n",
       " ('disappoint', 0.4738175394107412),\n",
       " ('kratos', 0.47222600434769507),\n",
       " ('gem', 0.4702845746133295),\n",
       " ('perfectly', 0.46885551087299576),\n",
       " ('outstanding', 0.4606488379741337),\n",
       " ('complained', 0.45953123013899466),\n",
       " ('condition', 0.45767026713740655),\n",
       " ('thoroughly', 0.4563081099355578),\n",
       " ('regret', 0.44824523199418415),\n",
       " ('blown', 0.44307894420893584),\n",
       " ('excellent', 0.4422369136431631),\n",
       " ('highest', 0.43572485668403776),\n",
       " ('fitness', 0.43458932827625674),\n",
       " ('pleased', 0.4317695886761638),\n",
       " ('souls', 0.4289728414872029),\n",
       " ('glad', 0.4276644783411692),\n",
       " ('steal', 0.42733683941791534),\n",
       " ('happy', 0.42601311862565905),\n",
       " ('9/10', 0.42241307919330123),\n",
       " ('phenomenal', 0.41964133603461473),\n",
       " ('immersive', 0.40629856282182625),\n",
       " ('great', 0.40400848266849554),\n",
       " ('dualshock', 0.4036002806387303)]"
      ]
     },
     "execution_count": 31,
     "metadata": {},
     "output_type": "execute_result"
    }
   ],
   "source": [
    "sorted(coef.items(), key = lambda kv: kv[1], reverse = True)[0:50]"
   ]
  },
  {
   "cell_type": "markdown",
   "metadata": {},
   "source": [
    "Podemos ver que notas como 5/5, e 7/10 possuem coeficiente extremamente altos, o que é esperado visto que essas notas são basicamente a nossa variável resposta. Entre os tokens com menos mais negativos, temos palavras negativas como 'worst', 'terrible', 'disappointment', 'terrible' e 'horrible', e palavras que sugerem que o produto é razoável, mas não digno da nota máxima, como 'alright', 'ok', e 'decent'.\n",
    "\n",
    "Dentre os tokens com maiores coeficientes, temos palavras positivas como 'masterpiece', 'amazing', 'flawless', 'best' e 'awesome' e palavras que provavelmente sugerem o sentimento do usuário antes da compra do produto: 'skeptical' e 'worried'."
   ]
  }
 ],
 "metadata": {
  "kernelspec": {
   "display_name": "Python 3",
   "language": "python",
   "name": "python3"
  },
  "language_info": {
   "codemirror_mode": {
    "name": "ipython",
    "version": 3
   },
   "file_extension": ".py",
   "mimetype": "text/x-python",
   "name": "python",
   "nbconvert_exporter": "python",
   "pygments_lexer": "ipython3",
   "version": "3.6.9"
  }
 },
 "nbformat": 4,
 "nbformat_minor": 2
}
