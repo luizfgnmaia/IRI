{
 "cells": [
  {
   "cell_type": "code",
   "execution_count": 22,
   "metadata": {},
   "outputs": [],
   "source": [
    "import pandas as pd\n",
    "import gzip\n",
    "import re\n",
    "from string import punctuation\n",
    "import time\n",
    "from nltk import tokenize\n",
    "import gensim\n",
    "from nltk.corpus import stopwords\n",
    "from collections import Counter\n",
    "from gensim import corpora, models\n",
    "from gensim.models.coherencemodel import CoherenceModel\n",
    "import matplotlib.pyplot as plt\n",
    "import pprint"
   ]
  },
  {
   "cell_type": "markdown",
   "metadata": {},
   "source": [
    "## Modelagem de Assuntos\n",
    "1. Usando a biblioteca Gensim, treine um modelo LSI e LDA para o seu corpus propondo uma metodologia para otimizaçao do numero de assuntos"
   ]
  },
  {
   "cell_type": "markdown",
   "metadata": {},
   "source": [
    "Lendo a base de dados"
   ]
  },
  {
   "cell_type": "code",
   "execution_count": 2,
   "metadata": {},
   "outputs": [],
   "source": [
    "def parse(path):\n",
    "    g = gzip.open(path, 'rb')\n",
    "    for l in g:\n",
    "        yield eval(l)\n",
    "\n",
    "def getDF(path):\n",
    "    i = 0\n",
    "    df = {}\n",
    "    for d in parse(path):\n",
    "        df[i] = d\n",
    "        i += 1\n",
    "    return pd.DataFrame.from_dict(df, orient = 'index')\n",
    "\n",
    "df = getDF('reviews_Video_Games_5.json.gz')"
   ]
  },
  {
   "cell_type": "markdown",
   "metadata": {},
   "source": [
    "Tokenizando o texto, colocando em caixa baixa, removendo stop words, termos de um caracter e termos que apareceram menos do que 20 vezes."
   ]
  },
  {
   "cell_type": "code",
   "execution_count": 3,
   "metadata": {},
   "outputs": [],
   "source": [
    "textos = list(df['reviewText'])\n",
    "\n",
    "sw = stopwords.words('english') + list(punctuation)\n",
    "\n",
    "textos_limpos = []\n",
    "c = Counter([])\n",
    "for texto in textos:\n",
    "    tlimpo = [token.lower() for token in tokenize.TweetTokenizer().tokenize(texto) if token.lower() not in sw]\n",
    "    c.update(tlimpo)\n",
    "    textos_limpos.append(tlimpo)\n",
    "textos_limpos = [[token for token in t if (c[token] >= 20 and len(token) > 1)] for t in textos_limpos]\n",
    "\n",
    "dicionario = corpora.Dictionary(textos_limpos)\n",
    "\n",
    "corpus = [dicionario.doc2bow(d) for d in textos_limpos]"
   ]
  },
  {
   "cell_type": "markdown",
   "metadata": {},
   "source": [
    "Ajustando vários modelos lsi e lda e verificando a medida de coerência deles."
   ]
  },
  {
   "cell_type": "code",
   "execution_count": 4,
   "metadata": {},
   "outputs": [
    {
     "name": "stdout",
     "output_type": "stream",
     "text": [
      "2\n",
      "3\n",
      "4\n",
      "5\n",
      "6\n",
      "7\n",
      "8\n",
      "9\n",
      "10\n",
      "11\n",
      "12\n",
      "13\n",
      "14\n",
      "15\n"
     ]
    },
    {
     "data": {
      "text/plain": [
       "10046.773110866547"
      ]
     },
     "execution_count": 4,
     "metadata": {},
     "output_type": "execute_result"
    }
   ],
   "source": [
    "start_time = time.time()\n",
    "lsi = []\n",
    "lda = []\n",
    "co_lsi = []\n",
    "co_lda = []\n",
    "for i in range(2, 16): \n",
    "    print(i)\n",
    "    tmp_lsi = models.LsiModel(corpus, id2word = dicionario, num_topics = i)\n",
    "    coherencemodel = CoherenceModel(model = tmp_lsi, texts = textos_limpos, dictionary = dicionario, coherence = 'c_v')\n",
    "    lsi.append(tmp_lsi)\n",
    "    co_lsi.append(coherencemodel.get_coherence())\n",
    "    tmp_lda = models.LdaModel(corpus, id2word = dicionario, num_topics = i)\n",
    "    coherencemodel = CoherenceModel(model = tmp_lda, texts = textos_limpos, dictionary = dicionario, coherence = 'c_v')\n",
    "    lda.append(tmp_lda)\n",
    "    co_lda.append(coherencemodel.get_coherence())\n",
    "end_time = time.time()\n",
    "end_time - start_time"
   ]
  },
  {
   "cell_type": "code",
   "execution_count": 5,
   "metadata": {},
   "outputs": [
    {
     "data": {
      "text/plain": [
       "[0.2812988744071294,\n",
       " 0.292041947640904,\n",
       " 0.3121273298884999,\n",
       " 0.32222181448224263,\n",
       " 0.3415945729065559,\n",
       " 0.33214012345536437,\n",
       " 0.31686204201643453,\n",
       " 0.33403277361537714,\n",
       " 0.3194217822647305,\n",
       " 0.33383854645216077,\n",
       " 0.36424640720771523,\n",
       " 0.3266389654015859,\n",
       " 0.3219167728656445,\n",
       " 0.3269672035913947]"
      ]
     },
     "execution_count": 5,
     "metadata": {},
     "output_type": "execute_result"
    }
   ],
   "source": [
    "co_lsi"
   ]
  },
  {
   "cell_type": "code",
   "execution_count": 17,
   "metadata": {},
   "outputs": [
    {
     "data": {
      "text/plain": [
       "[<matplotlib.lines.Line2D at 0xe53e2b0048>]"
      ]
     },
     "execution_count": 17,
     "metadata": {},
     "output_type": "execute_result"
    },
    {
     "data": {
      "image/png": "[encoded data removed]",
      "text/plain": [
       "<Figure size 432x288 with 1 Axes>"
      ]
     },
     "metadata": {
      "needs_background": "light"
     },
     "output_type": "display_data"
    }
   ],
   "source": [
    "plt.plot(list(range(2,16)), co_lsi)"
   ]
  },
  {
   "cell_type": "code",
   "execution_count": 6,
   "metadata": {
    "scrolled": false
   },
   "outputs": [
    {
     "data": {
      "text/plain": [
       "[0.2809067573908819,\n",
       " 0.30880259414054034,\n",
       " 0.2994828072091644,\n",
       " 0.3089147522730547,\n",
       " 0.32244689438215657,\n",
       " 0.32096699173333476,\n",
       " 0.3347581044356133,\n",
       " 0.3309967496324424,\n",
       " 0.3411132402912534,\n",
       " 0.3461663444793461,\n",
       " 0.36437488653445765,\n",
       " 0.37018352902233376,\n",
       " 0.3736342023356068,\n",
       " 0.3544443289567253]"
      ]
     },
     "execution_count": 6,
     "metadata": {},
     "output_type": "execute_result"
    }
   ],
   "source": [
    "co_lda"
   ]
  },
  {
   "cell_type": "code",
   "execution_count": 18,
   "metadata": {},
   "outputs": [
    {
     "data": {
      "text/plain": [
       "[<matplotlib.lines.Line2D at 0xe53a40f7f0>]"
      ]
     },
     "execution_count": 18,
     "metadata": {},
     "output_type": "execute_result"
    },
    {
     "data": {
      "image/png": "[encoded data removed]",
      "text/plain": [
       "<Figure size 432x288 with 1 Axes>"
      ]
     },
     "metadata": {
      "needs_background": "light"
     },
     "output_type": "display_data"
    }
   ],
   "source": [
    "plt.plot(list(range(2,16)), co_lda)"
   ]
  },
  {
   "cell_type": "code",
   "execution_count": 25,
   "metadata": {},
   "outputs": [],
   "source": [
    "best_lsi = lsi[10]\n",
    "best_lda = lda[12]"
   ]
  },
  {
   "cell_type": "code",
   "execution_count": 32,
   "metadata": {
    "scrolled": true
   },
   "outputs": [
    {
     "data": {
      "text/plain": [
       "[(0, '0.702*\"game\" + 0.201*\"like\" + 0.170*\"one\" + 0.153*\"get\" + 0.151*\"games\" + 0.125*\"play\" + 0.117*\"really\" + 0.116*\"time\" + 0.100*\"good\" + 0.100*\"also\"'), (1, '-0.673*\"game\" + 0.243*\"games\" + 0.226*\"like\" + 0.223*\"one\" + 0.158*\"get\" + 0.115*\"also\" + 0.105*\"new\" + 0.103*\"really\" + 0.102*\"...\" + 0.096*\"use\"'), (2, '-0.656*\"games\" + 0.287*\"...\" + -0.218*\"wii\" + -0.175*\"mario\" + -0.160*\"play\" + 0.158*\"get\" + -0.123*\"nintendo\" + -0.113*\"xbox\" + 0.107*\"story\" + -0.104*\"ps3\"'), (3, '0.874*\"...\" + 0.140*\"games\" + 0.134*\"..\" + -0.118*\"also\" + -0.095*\"characters\" + -0.089*\"story\" + -0.083*\"enemies\" + -0.083*\"one\" + -0.082*\"character\" + -0.069*\"level\"'), (4, '0.506*\"like\" + -0.418*\"mario\" + -0.277*\"...\" + -0.227*\"one\" + -0.209*\"super\" + -0.178*\"new\" + 0.140*\"really\" + -0.118*\"characters\" + -0.109*\"time\" + -0.109*\"nintendo\"'), (5, '-0.539*\"like\" + -0.529*\"mario\" + 0.314*\"one\" + -0.257*\"super\" + 0.162*\"xbox\" + -0.148*\"wii\" + -0.136*\"really\" + -0.120*\"nintendo\" + 0.114*\"games\" + 0.112*\"ps3\"'), (6, '0.432*\"get\" + 0.369*\"play\" + -0.288*\"games\" + -0.274*\"story\" + -0.210*\"like\" + -0.181*\"characters\" + 0.170*\"fun\" + 0.166*\"mario\" + 0.157*\"wii\" + -0.126*\"character\"'), (7, '-0.383*\"play\" + 0.361*\"one\" + -0.252*\"fun\" + -0.210*\"characters\" + -0.208*\"mode\" + -0.204*\"great\" + -0.200*\"story\" + -0.179*\"good\" + -0.177*\"new\" + 0.151*\"like\"'), (8, '0.411*\"games\" + 0.321*\"get\" + -0.301*\"xbox\" + -0.199*\"controller\" + -0.180*\"really\" + -0.169*\"360\" + -0.167*\"new\" + -0.166*\"good\" + -0.157*\"great\" + 0.140*\"play\"'), (9, '-0.403*\"get\" + 0.352*\"one\" + 0.342*\"like\" + -0.252*\"really\" + 0.246*\"play\" + -0.234*\"good\" + -0.197*\"wii\" + 0.181*\"new\" + 0.154*\"mode\" + 0.153*\"player\"'), (10, '0.429*\"wii\" + 0.278*\"fantasy\" + 0.270*\"final\" + 0.247*\"characters\" + 0.222*\"play\" + 0.221*\"one\" + -0.195*\"new\" + -0.177*\"games\" + 0.166*\"character\" + -0.142*\"man\"'), (11, '0.414*\"version\" + 0.371*\"takes\" + 0.364*\"):\" + 0.283*\"trailer\" + 0.266*\"demo\" + 0.222*\"physical\" + 0.219*\"media\" + 0.219*\"gb\" + 0.145*\"all-stars\" + 0.138*\"battle\"')]"
      ]
     },
     "execution_count": 32,
     "metadata": {},
     "output_type": "execute_result"
    }
   ],
   "source": [
    "best_lsi.print_topics()"
   ]
  },
  {
   "cell_type": "code",
   "execution_count": null,
   "metadata": {},
   "outputs": [],
   "source": []
  },
  {
   "cell_type": "code",
   "execution_count": 33,
   "metadata": {
    "scrolled": true
   },
   "outputs": [
    {
     "data": {
      "text/plain": [
       "[(0, '0.026*\"xbox\" + 0.020*\"controller\" + 0.015*\"one\" + 0.014*\"ps3\" + 0.014*\"games\" + 0.012*\"360\" + 0.012*\"console\" + 0.011*\"system\" + 0.010*\"use\" + 0.010*\"great\"'), (1, '0.019*\"mouse\" + 0.015*\"button\" + 0.012*\"use\" + 0.012*\"screen\" + 0.010*\"kinect\" + 0.010*\"buttons\" + 0.009*\"right\" + 0.007*\"move\" + 0.007*\"control\" + 0.006*\"using\"'), (2, '0.027*\"game\" + 0.025*\"dlc\" + 0.021*\"version\" + 0.017*\"batman\" + 0.015*\"like\" + 0.015*\"fighting\" + 0.014*\"characters\" + 0.013*\"arkham\" + 0.012*\"mode\" + 0.012*\"games\"'), (3, '0.058*\"game\" + 0.033*\"games\" + 0.025*\"ps4\" + 0.023*\"play\" + 0.022*\"fun\" + 0.020*\"wii\" + 0.016*\"great\" + 0.015*\"mario\" + 0.014*\"one\" + 0.014*\"like\"'), (4, '0.034*\"game\" + 0.017*\"like\" + 0.012*\"really\" + 0.010*\"i\\'m\" + 0.010*\"get\" + 0.010*\"one\" + 0.009*\"would\" + 0.008*\"time\" + 0.007*\"even\" + 0.007*\"much\"'), (5, '0.018*\"weapons\" + 0.015*\"call\" + 0.015*\"duty\" + 0.014*\"game\" + 0.013*\"like\" + 0.013*\"missions\" + 0.012*\"battlefield\" + 0.011*\"enemies\" + 0.011*\"kill\" + 0.011*\"enemy\"'), (6, '0.067*\"game\" + 0.017*\"games\" + 0.016*\"graphics\" + 0.016*\"great\" + 0.016*\"story\" + 0.012*\"gameplay\" + 0.011*\"one\" + 0.011*\"good\" + 0.010*\"best\" + 0.009*\"like\"'), (7, '0.037*\"game\" + 0.030*\"story\" + 0.023*\"characters\" + 0.012*\"character\" + 0.009*\"series\" + 0.008*\"like\" + 0.008*\"one\" + 0.008*\"final\" + 0.006*\"sonic\" + 0.006*\"games\"'), (8, '0.027*\"game\" + 0.014*\"get\" + 0.010*\"find\" + 0.010*\"level\" + 0.009*\"levels\" + 0.008*\"time\" + 0.008*\"one\" + 0.007*\"also\" + 0.006*\"go\" + 0.006*\"around\"'), (9, '0.011*\"new\" + 0.007*\"experience\" + 0.005*\"also\" + 0.005*\"many\" + 0.005*\"system\" + 0.005*\"however\" + 0.005*\"much\" + 0.004*\"world\" + 0.004*\"even\" + 0.004*\"games\"'), (10, '0.026*\"game\" + 0.015*\"character\" + 0.011*\"enemies\" + 0.010*\"level\" + 0.009*\"get\" + 0.009*\"souls\" + 0.008*\"combat\" + 0.008*\"like\" + 0.008*\"also\" + 0.007*\"attack\"'), (11, '0.017*\"cars\" + 0.016*\"songs\" + 0.015*\"racing\" + 0.014*\"like\" + 0.014*\"car\" + 0.014*\"gamepad\" + 0.013*\"dance\" + 0.012*\"keyboard\" + 0.011*\"forza\" + 0.010*\"wheel\"'), (12, '0.056*\"game\" + 0.025*\"...\" + 0.016*\"get\" + 0.014*\"play\" + 0.012*\"like\" + 0.012*\"buy\" + 0.010*\"good\" + 0.009*\"great\" + 0.009*\"..\" + 0.009*\"one\"'), (13, '0.035*\"game\" + 0.020*\"play\" + 0.018*\"player\" + 0.018*\"mode\" + 0.016*\"online\" + 0.015*\"multiplayer\" + 0.013*\"players\" + 0.011*\"new\" + 0.010*\"fun\" + 0.008*\"single\"')]"
      ]
     },
     "execution_count": 33,
     "metadata": {},
     "output_type": "execute_result"
    }
   ],
   "source": [
    "best_lda.print_topics()"
   ]
  },
  {
   "cell_type": "code",
   "execution_count": null,
   "metadata": {},
   "outputs": [],
   "source": []
  }
 ],
 "metadata": {
  "kernelspec": {
   "display_name": "Python 3",
   "language": "python",
   "name": "python3"
  },
  "language_info": {
   "codemirror_mode": {
    "name": "ipython",
    "version": 3
   },
   "file_extension": ".py",
   "mimetype": "text/x-python",
   "name": "python",
   "nbconvert_exporter": "python",
   "pygments_lexer": "ipython3",
   "version": "3.6.9"
  }
 },
 "nbformat": 4,
 "nbformat_minor": 2
}
