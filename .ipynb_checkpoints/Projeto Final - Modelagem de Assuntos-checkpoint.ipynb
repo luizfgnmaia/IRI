{
 "cells": [
  {
   "cell_type": "code",
   "execution_count": 1,
   "metadata": {},
   "outputs": [],
   "source": [
    "import pandas as pd\n",
    "import numpy as np\n",
    "import gzip\n",
    "import re\n",
    "from string import punctuation\n",
    "import time\n",
    "from nltk import tokenize\n",
    "from nltk.stem import PorterStemmer\n",
    "import gensim\n",
    "from nltk.corpus import stopwords\n",
    "from collections import Counter\n",
    "from gensim import corpora, models\n",
    "from gensim.models.coherencemodel import CoherenceModel\n",
    "import matplotlib.pyplot as plt\n",
    "from gensim.test.utils import datapath\n",
    "from gensim import similarities"
   ]
  },
  {
   "cell_type": "markdown",
   "metadata": {},
   "source": [
    "## Modelagem de Assuntos\n",
    "1. Usando a biblioteca Gensim, treine um modelo LSI e LDA para o seu corpus propondo uma metodologia para otimizaçao do numero de assuntos"
   ]
  },
  {
   "cell_type": "markdown",
   "metadata": {},
   "source": [
    "Lendo a base de dados"
   ]
  },
  {
   "cell_type": "code",
   "execution_count": 2,
   "metadata": {},
   "outputs": [],
   "source": [
    "def parse(path):\n",
    "    g = gzip.open(path, 'rb')\n",
    "    for l in g:\n",
    "        yield eval(l)\n",
    "\n",
    "def getDF(path):\n",
    "    i = 0\n",
    "    df = {}\n",
    "    for d in parse(path):\n",
    "        df[i] = d\n",
    "        i += 1\n",
    "    return pd.DataFrame.from_dict(df, orient = 'index')\n",
    "\n",
    "df = getDF('reviews_Video_Games_5.json.gz')"
   ]
  },
  {
   "cell_type": "markdown",
   "metadata": {},
   "source": [
    "Tokenizando o texto, colocando em caixa baixa, removendo stop words, termos de um caracter e termos que apareceram menos do que 20 vezes."
   ]
  },
  {
   "cell_type": "code",
   "execution_count": 3,
   "metadata": {},
   "outputs": [],
   "source": [
    "textos = list(df['reviewText'])\n",
    "\n",
    "sw = stopwords.words('english') + list(punctuation) + [\"..\", \"...\", \"....\", \".....\"]\n",
    "\n",
    "textos_limpos = []\n",
    "c = Counter([])\n",
    "for texto in textos:\n",
    "    tlimpo = [token.lower() for token in tokenize.TweetTokenizer().tokenize(texto) if token.lower() not in sw]\n",
    "    c.update(tlimpo)\n",
    "    textos_limpos.append(tlimpo)\n",
    "\n",
    "ps = PorterStemmer()\n",
    "stemmed = []\n",
    "for t in textos_limpos:\n",
    "    txt = [ps.stem(token) for token in t]\n",
    "    stemmed.append(txt)\n",
    "stemmed = [[token for token in t if (c[token] >= 1000 and len(token) > 1)] for t in stemmed]\n",
    "\n",
    "dicionario = corpora.Dictionary(stemmed)\n",
    "\n",
    "corpus = [dicionario.doc2bow(d) for d in stemmed]"
   ]
  },
  {
   "cell_type": "markdown",
   "metadata": {},
   "source": [
    "Ajustando vários modelos lsi e lda e verificando a medida de coerência deles."
   ]
  },
  {
   "cell_type": "code",
   "execution_count": 4,
   "metadata": {
    "scrolled": true
   },
   "outputs": [
    {
     "data": {
      "text/plain": [
       "12259.74119758606"
      ]
     },
     "execution_count": 4,
     "metadata": {},
     "output_type": "execute_result"
    }
   ],
   "source": [
    "start_time = time.time()\n",
    "lsi = []\n",
    "lda = []\n",
    "co_lsi = []\n",
    "co_lda = []\n",
    "for i in range(2, 21): \n",
    "    tmp_lsi = models.LsiModel(corpus, id2word = dicionario, num_topics = i)\n",
    "    coherencemodel = CoherenceModel(model = tmp_lsi, texts = textos_limpos, dictionary = dicionario, coherence = 'c_v')\n",
    "    lsi.append(tmp_lsi)\n",
    "    co_lsi.append(coherencemodel.get_coherence())\n",
    "    tmp_lda = models.LdaModel(corpus, id2word = dicionario, num_topics = i)\n",
    "    coherencemodel = CoherenceModel(model = tmp_lda, texts = textos_limpos, dictionary = dicionario, coherence = 'c_v')\n",
    "    lda.append(tmp_lda)\n",
    "    co_lda.append(coherencemodel.get_coherence())\n",
    "end_time = time.time()\n",
    "end_time - start_time"
   ]
  },
  {
   "cell_type": "markdown",
   "metadata": {},
   "source": [
    "Selecionando um número adequado de tópicos: ajustando modelos com diferentes números de tópicos e escolhendo os que tiveram as maiores medidas de coerência."
   ]
  },
  {
   "cell_type": "code",
   "execution_count": 5,
   "metadata": {},
   "outputs": [
    {
     "data": {
      "text/plain": [
       "[0.2559688016752344,\n",
       " 0.3037336935719149,\n",
       " 0.29260717990954344,\n",
       " 0.2922109095964581,\n",
       " 0.31049761056982517,\n",
       " 0.3089088050455226,\n",
       " 0.30557314384059103,\n",
       " 0.30629770286323993,\n",
       " 0.3074563732627579,\n",
       " 0.30406956644090966,\n",
       " 0.30629139016898543,\n",
       " 0.30281129740644114,\n",
       " 0.29190360597783105,\n",
       " 0.2928038562506552,\n",
       " 0.295537850759935,\n",
       " 0.29527919157826815,\n",
       " 0.29494112102859255,\n",
       " 0.28943100212534617,\n",
       " 0.28657214351823324]"
      ]
     },
     "execution_count": 5,
     "metadata": {},
     "output_type": "execute_result"
    }
   ],
   "source": [
    "co_lsi"
   ]
  },
  {
   "cell_type": "code",
   "execution_count": 7,
   "metadata": {},
   "outputs": [
    {
     "data": {
      "text/plain": [
       "[<matplotlib.lines.Line2D at 0x8e8a008da0>]"
      ]
     },
     "execution_count": 7,
     "metadata": {},
     "output_type": "execute_result"
    },
    {
     "data": {
      "image/png": "[encoded data removed]",
      "text/plain": [
       "<Figure size 432x288 with 1 Axes>"
      ]
     },
     "metadata": {
      "needs_background": "light"
     },
     "output_type": "display_data"
    }
   ],
   "source": [
    "plt.plot(list(range(2,21)), co_lsi)"
   ]
  },
  {
   "cell_type": "code",
   "execution_count": 8,
   "metadata": {
    "scrolled": true
   },
   "outputs": [
    {
     "data": {
      "text/plain": [
       "[0.26974648247005995,\n",
       " 0.2763779083667611,\n",
       " 0.29509858230269204,\n",
       " 0.2978515232409454,\n",
       " 0.2991279679384166,\n",
       " 0.3050187913263475,\n",
       " 0.3012868661696437,\n",
       " 0.3156081456984023,\n",
       " 0.31295307651166365,\n",
       " 0.32646333209315,\n",
       " 0.31331246578948363,\n",
       " 0.3310039985489801,\n",
       " 0.32588271707438865,\n",
       " 0.33768002256566165,\n",
       " 0.3273950383449442,\n",
       " 0.3224819569217022,\n",
       " 0.33420259631041344,\n",
       " 0.32570204528267316,\n",
       " 0.32819757660078736]"
      ]
     },
     "execution_count": 8,
     "metadata": {},
     "output_type": "execute_result"
    }
   ],
   "source": [
    "co_lda"
   ]
  },
  {
   "cell_type": "code",
   "execution_count": 9,
   "metadata": {},
   "outputs": [
    {
     "data": {
      "text/plain": [
       "[<matplotlib.lines.Line2D at 0x8e8a1954e0>]"
      ]
     },
     "execution_count": 9,
     "metadata": {},
     "output_type": "execute_result"
    },
    {
     "data": {
      "image/png": "[encoded data removed]",
      "text/plain": [
       "<Figure size 432x288 with 1 Axes>"
      ]
     },
     "metadata": {
      "needs_background": "light"
     },
     "output_type": "display_data"
    }
   ],
   "source": [
    "plt.plot(list(range(2,21)), co_lda)"
   ]
  },
  {
   "cell_type": "code",
   "execution_count": 10,
   "metadata": {},
   "outputs": [],
   "source": [
    "best_lsi = lsi[4]\n",
    "best_lda = lda[13]\n",
    "\n",
    "best_lsi.save(\"lsi\")\n",
    "best_lda.save(\"lda\")"
   ]
  },
  {
   "cell_type": "code",
   "execution_count": 11,
   "metadata": {},
   "outputs": [
    {
     "data": {
      "text/plain": [
       "[(0,\n",
       "  '0.757*\"game\" + 0.216*\"play\" + 0.189*\"like\" + 0.167*\"get\" + 0.156*\"one\" + 0.134*\"time\" + 0.097*\"use\" + 0.096*\"make\" + 0.087*\"good\" + 0.086*\"also\"'),\n",
       " (1,\n",
       "  '-0.612*\"game\" + 0.267*\"get\" + 0.234*\"like\" + 0.211*\"one\" + 0.210*\"use\" + 0.165*\"time\" + 0.120*\"also\" + 0.119*\"make\" + 0.119*\"go\" + 0.110*\"thing\"'),\n",
       " (2,\n",
       "  '0.874*\"play\" + -0.151*\"game\" + 0.140*\"player\" + 0.121*\"mode\" + 0.099*\"wii\" + 0.096*\"fun\" + 0.072*\"control\" + -0.070*\"weapon\" + 0.067*\"xbox\" + 0.064*\"song\"'),\n",
       " (3,\n",
       "  '-0.433*\"control\" + -0.286*\"wii\" + 0.276*\"level\" + -0.220*\"xbox\" + -0.219*\"use\" + 0.212*\"get\" + 0.185*\"play\" + -0.166*\"3d\" + -0.156*\"ps3\" + -0.155*\"system\"'),\n",
       " (4,\n",
       "  '0.540*\"mario\" + -0.414*\"like\" + 0.346*\"level\" + 0.274*\"super\" + 0.161*\"new\" + 0.159*\"wii\" + 0.147*\"nintendo\" + 0.138*\"3d\" + 0.130*\"world\" + 0.127*\"player\"'),\n",
       " (5,\n",
       "  '0.662*\"get\" + -0.236*\"like\" + 0.205*\"car\" + -0.188*\"one\" + 0.187*\"wii\" + 0.173*\"race\" + -0.162*\"man\" + 0.161*\"control\" + -0.141*\"player\" + -0.141*\"new\"')]"
      ]
     },
     "execution_count": 11,
     "metadata": {},
     "output_type": "execute_result"
    }
   ],
   "source": [
    "best_lsi.print_topics()"
   ]
  },
  {
   "cell_type": "code",
   "execution_count": 12,
   "metadata": {
    "scrolled": true
   },
   "outputs": [
    {
     "data": {
      "text/plain": [
       "[(0,\n",
       "  '0.157*\"game\" + 0.079*\"play\" + 0.039*\"fun\" + 0.036*\"love\" + 0.031*\"great\" + 0.025*\"like\" + 0.019*\"enjoy\" + 0.016*\"one\" + 0.015*\"good\" + 0.015*\"get\"'),\n",
       " (1,\n",
       "  '0.048*\"game\" + 0.014*\"like\" + 0.013*\"one\" + 0.012*\"time\" + 0.011*\"world\" + 0.011*\"get\" + 0.011*\"make\" + 0.008*\"much\" + 0.008*\"also\" + 0.008*\"play\"'),\n",
       " (2,\n",
       "  '0.078*\"level\" + 0.061*\"game\" + 0.030*\"time\" + 0.029*\"get\" + 0.015*\"find\" + 0.014*\"play\" + 0.012*\"one\" + 0.011*\"save\" + 0.011*\"fun\" + 0.011*\"hour\"'),\n",
       " (3,\n",
       "  '0.099*\"game\" + 0.033*\"play\" + 0.022*\"one\" + 0.020*\"xbox\" + 0.020*\"like\" + 0.017*\"ps4\" + 0.014*\"get\" + 0.013*\"graphic\" + 0.013*\"ps3\" + 0.012*\"better\"'),\n",
       " (4,\n",
       "  '0.076*\"3d\" + 0.039*\"screen\" + 0.032*\"game\" + 0.030*\"case\" + 0.016*\"ds\" + 0.016*\"one\" + 0.016*\"zelda\" + 0.015*\"system\" + 0.013*\"like\" + 0.013*\"xl\"'),\n",
       " (5,\n",
       "  '0.059*\"sound\" + 0.052*\"headset\" + 0.030*\"song\" + 0.027*\"music\" + 0.017*\"game\" + 0.014*\"hear\" + 0.014*\"like\" + 0.013*\"audio\" + 0.012*\"gta\" + 0.012*\"ear\"'),\n",
       " (6,\n",
       "  '0.081*\"wii\" + 0.069*\"game\" + 0.050*\"mario\" + 0.040*\"vita\" + 0.030*\"nintendo\" + 0.028*\"super\" + 0.022*\"new\" + 0.021*\"app\" + 0.014*\"like\" + 0.014*\"sonic\"'),\n",
       " (7,\n",
       "  '0.035*\"map\" + 0.033*\"game\" + 0.030*\"campaign\" + 0.027*\"new\" + 0.026*\"mission\" + 0.022*\"player\" + 0.020*\"battlefield\" + 0.020*\"cod\" + 0.019*\"play\" + 0.016*\"call\"'),\n",
       " (8,\n",
       "  '0.031*\"game\" + 0.028*\"car\" + 0.027*\"race\" + 0.018*\"player\" + 0.017*\"drive\" + 0.016*\"get\" + 0.015*\"like\" + 0.014*\"track\" + 0.012*\"play\" + 0.012*\"time\"'),\n",
       " (9,\n",
       "  '0.058*\"game\" + 0.021*\"like\" + 0.018*\"get\" + 0.013*\"play\" + 0.013*\"weapon\" + 0.013*\"time\" + 0.012*\"kill\" + 0.010*\"one\" + 0.010*\"good\" + 0.009*\"mission\"'),\n",
       " (10,\n",
       "  '0.034*\"work\" + 0.021*\"system\" + 0.017*\"pc\" + 0.017*\"product\" + 0.016*\"problem\" + 0.016*\"use\" + 0.016*\"download\" + 0.012*\"one\" + 0.011*\"set\" + 0.011*\"connect\"'),\n",
       " (11,\n",
       "  '0.056*\"control\" + 0.043*\"use\" + 0.026*\"button\" + 0.015*\"one\" + 0.013*\"work\" + 0.013*\"like\" + 0.013*\"xbox\" + 0.012*\"feel\" + 0.011*\"get\" + 0.010*\"also\"'),\n",
       " (12,\n",
       "  '0.043*\"get\" + 0.043*\"buy\" + 0.042*\"price\" + 0.023*\"money\" + 0.023*\"worth\" + 0.020*\"like\" + 0.019*\"good\" + 0.018*\"card\" + 0.015*\"pay\" + 0.015*\"got\"'),\n",
       " (13,\n",
       "  '0.056*\"game\" + 0.032*\"gear\" + 0.029*\"batman\" + 0.026*\"lego\" + 0.023*\"arkham\" + 0.022*\"metal\" + 0.020*\"boss\" + 0.019*\"like\" + 0.017*\"collect\" + 0.017*\"fight\"'),\n",
       " (14,\n",
       "  '0.066*\"mode\" + 0.047*\"game\" + 0.032*\"player\" + 0.025*\"play\" + 0.021*\"version\" + 0.021*\"fight\" + 0.020*\"new\" + 0.016*\"match\" + 0.014*\"unlock\" + 0.013*\"move\"')]"
      ]
     },
     "execution_count": 12,
     "metadata": {},
     "output_type": "execute_result"
    }
   ],
   "source": [
    "best_lda.print_topics()"
   ]
  },
  {
   "cell_type": "markdown",
   "metadata": {},
   "source": [
    "Primeiramente, temos que como o corpus é composto de reviews de produtos um mesmo tema, a modelagem de assuntos acaba sendo uma modelagem de subtemas e a interpretação destes tópicos não é tão fácil.\n",
    "\n",
    "Os tópicos resultantes do LSI com 6 tópicos apresentam termos gerais como 'game' e 'like'. Os tópicos que mais chamam a atenção são os tópicos 4 e 5. O tópico 4 é composto de termos de jogos e consoles da nintendo como 'mario', 'super' e 'new' de 'new super mario wii'. Por sua vez, o tópico 6 tem valores positivos em alguns termos de jogos de corrida como 'car' e 'race'.\n",
    "\n",
    "A divisão em 15 tópicos do LDA que foi sugerida pela medida de coerência apresenta tópicos de mais fácil interpretação. O tópico 3 é composto de consoles voltados para a qualidade gráfica pois apresenta termos como 'xbox', 'one', 'ps4', 'ps3' e 'graphic' enquanto que o tópico 4 dá peso maior para termos dos consoles portáteis DS e 3DS: 'screen', 'case', 'ds', 'xl' e 'zelda', uma franquia presente nesses consoles. Além disso, o quinto tópico apresenta palavras ligadas ao aspecto sonoro dos jogos como 'sound', 'headset', 'song', 'music', 'audio' e 'ear' e o tópico 8 exibe termos de jogos de corrida: 'car', 'race', 'drive' e 'track'."
   ]
  },
  {
   "cell_type": "markdown",
   "metadata": {},
   "source": [
    "<hr>\n",
    "\n",
    "2. Construa Uma matriz de similaridade entre os documentos do corpus a partir dos pesos\n",
    "\n",
    "Consultei: https://radimrehurek.com/gensim/auto_examples/core/run_similarity_queries.html"
   ]
  },
  {
   "cell_type": "markdown",
   "metadata": {},
   "source": [
    "Construindo a matriz de similaridades"
   ]
  },
  {
   "cell_type": "code",
   "execution_count": 83,
   "metadata": {},
   "outputs": [],
   "source": [
    "index = similarities.MatrixSimilarity(best_lda[corpus])"
   ]
  },
  {
   "cell_type": "markdown",
   "metadata": {},
   "source": [
    "Verificando os documentos mais similares ao documento 100000."
   ]
  },
  {
   "cell_type": "code",
   "execution_count": 88,
   "metadata": {
    "scrolled": false
   },
   "outputs": [
    {
     "data": {
      "text/plain": [
       "\"I am not a big fan of the FPS genre.  I play them from time to time, but they always seem WAY too complicated to me, and they usually are not easy to sit down and then pick back up a month later.  I hate complex systems where I have to remember all these special combos in order to play the game.  That is NOT this game.You can pickup this game in a few minutes.  The controls and simple and well organized (unlike the controls in Army of TWO or RB6).The graphics are amazing.  Yes, there are glitches and places that you can't destroy everything.  But the ability to blow a wall out of a building to get at the enemy behind it awesome and very satisfying.The single player game is a movie cut scene driven system.  It is well written for an FPS and keeps the player moving into the game very well.  You unlock new weapons in the game by finding them on dead enemies for the most part.The online gameplay is amazing.  You start with a few weapons and unlock more through gameplay.  Your character has some RP elements to it by being able to spend your unlock points on things you like to do.  You can unlock sniper rifles if that is all you like to do for example rather than getting a new assault weapon.Playing online has been a lot of fun for me.  I don't normally like FPS online play (too many kids with foul mouths yelling all the time).  But this has been a lot of fun to play and level your character.  You gain ranks and medals through online play.VEHICLES!You can also drive and shoot a lot of vehicles.  In particular I love the ability to jump on a tank someone else is driving and be their gunner.  If they jump out you can then take over and drive as well.  Helicopters are included as well (hard to fly, but cool).FUN FUN FUN - Squad concept tooI have not had this much fun playing an FPS since the original Unreal series.  The maps are huge and leave a lot of room to run around.  You fight a series battles on each multiplayer map.  You can also choose to spawn with your squad, or to go back to the base.  This is a lot of fun when you have a good squad as you can look out for each other while playing.  There is a system between matches where you can rate your play with each squad mate and then you are paired up with people you like when they are online.  Makes it even more fun when you get to know people online and then play together with them.Gold edition might not have been worth it, but for me I thought it was nice to get the extra weapons.\""
      ]
     },
     "execution_count": 88,
     "metadata": {},
     "output_type": "execute_result"
    }
   ],
   "source": [
    "textos[100000]"
   ]
  },
  {
   "cell_type": "code",
   "execution_count": 89,
   "metadata": {},
   "outputs": [
    {
     "data": {
      "text/plain": [
       "['big',\n",
       " 'fan',\n",
       " 'play',\n",
       " 'time',\n",
       " 'time',\n",
       " 'seem',\n",
       " 'way',\n",
       " 'usual',\n",
       " 'sit',\n",
       " 'pick',\n",
       " 'back',\n",
       " 'month',\n",
       " 'later',\n",
       " 'hate',\n",
       " 'complex',\n",
       " 'system',\n",
       " 'special',\n",
       " 'combo',\n",
       " 'order',\n",
       " 'play',\n",
       " 'game',\n",
       " 'game',\n",
       " 'control',\n",
       " 'well',\n",
       " 'control',\n",
       " 'two',\n",
       " 'graphic',\n",
       " 'glitch',\n",
       " 'place',\n",
       " \"can't\",\n",
       " 'destroy',\n",
       " 'blow',\n",
       " 'wall',\n",
       " 'build',\n",
       " 'get',\n",
       " 'behind',\n",
       " 'player',\n",
       " 'game',\n",
       " 'cut',\n",
       " 'scene',\n",
       " 'driven',\n",
       " 'system',\n",
       " 'well',\n",
       " 'written',\n",
       " 'keep',\n",
       " 'player',\n",
       " 'move',\n",
       " 'game',\n",
       " 'well',\n",
       " 'unlock',\n",
       " 'new',\n",
       " 'weapon',\n",
       " 'game',\n",
       " 'find',\n",
       " 'dead',\n",
       " 'gameplay',\n",
       " 'start',\n",
       " 'weapon',\n",
       " 'unlock',\n",
       " 'gameplay',\n",
       " 'element',\n",
       " 'spend',\n",
       " 'unlock',\n",
       " 'point',\n",
       " 'thing',\n",
       " 'like',\n",
       " 'unlock',\n",
       " 'sniper',\n",
       " 'like',\n",
       " 'rather',\n",
       " 'get',\n",
       " 'new',\n",
       " 'assault',\n",
       " 'lot',\n",
       " 'fun',\n",
       " 'normal',\n",
       " 'like',\n",
       " 'play',\n",
       " 'kid',\n",
       " 'mouth',\n",
       " 'time',\n",
       " 'lot',\n",
       " 'fun',\n",
       " 'play',\n",
       " 'level',\n",
       " 'gain',\n",
       " 'rank',\n",
       " 'medal',\n",
       " 'also',\n",
       " 'drive',\n",
       " 'shoot',\n",
       " 'lot',\n",
       " 'particular',\n",
       " 'love',\n",
       " 'jump',\n",
       " 'tank',\n",
       " 'drive',\n",
       " 'jump',\n",
       " 'take',\n",
       " 'drive',\n",
       " 'well',\n",
       " 'well',\n",
       " 'hard',\n",
       " 'cool',\n",
       " 'fun',\n",
       " 'fun',\n",
       " 'fun',\n",
       " 'squad',\n",
       " 'concept',\n",
       " 'much',\n",
       " 'fun',\n",
       " 'play',\n",
       " 'origin',\n",
       " 'unreal',\n",
       " 'map',\n",
       " 'huge',\n",
       " 'lot',\n",
       " 'room',\n",
       " 'run',\n",
       " 'around',\n",
       " 'fight',\n",
       " 'map',\n",
       " 'also',\n",
       " 'spawn',\n",
       " 'squad',\n",
       " 'go',\n",
       " 'back',\n",
       " 'base',\n",
       " 'lot',\n",
       " 'fun',\n",
       " 'good',\n",
       " 'squad',\n",
       " 'look',\n",
       " 'play',\n",
       " 'system',\n",
       " 'match',\n",
       " 'rate',\n",
       " 'play',\n",
       " 'squad',\n",
       " 'pair',\n",
       " 'like',\n",
       " 'make',\n",
       " 'even',\n",
       " 'fun',\n",
       " 'get',\n",
       " 'know',\n",
       " 'play',\n",
       " 'edit',\n",
       " 'might',\n",
       " 'worth',\n",
       " 'thought',\n",
       " 'nice',\n",
       " 'get',\n",
       " 'extra',\n",
       " 'weapon']"
      ]
     },
     "execution_count": 89,
     "metadata": {},
     "output_type": "execute_result"
    }
   ],
   "source": [
    "stemmed[100000]"
   ]
  },
  {
   "cell_type": "code",
   "execution_count": 90,
   "metadata": {},
   "outputs": [
    {
     "name": "stdout",
     "output_type": "stream",
     "text": [
      "[(0, 0.16147031), (2, 0.057704344), (7, 0.092510834), (8, 0.036354415), (9, 0.48782796), (14, 0.16028552)]\n"
     ]
    }
   ],
   "source": [
    "vec_bow = dicionario.doc2bow(stemmed[100000])\n",
    "vec_lda = best_lda[vec_bow] \n",
    "print(vec_lda)"
   ]
  },
  {
   "cell_type": "code",
   "execution_count": 91,
   "metadata": {
    "scrolled": true
   },
   "outputs": [
    {
     "name": "stdout",
     "output_type": "stream",
     "text": [
      "(100000, 0.99999994) I am not a big fan of the FPS genre.  I play them from time to time, but they always seem WAY too complicated to me, and they usually are not easy to sit down and then pick back up a month later.  I hate complex systems where I have to remember all these special combos in order to play the game.  That is NOT this game.You can pickup this game in a few minutes.  The controls and simple and well organized (unlike the controls in Army of TWO or RB6).The graphics are amazing.  Yes, there are glitches and places that you can't destroy everything.  But the ability to blow a wall out of a building to get at the enemy behind it awesome and very satisfying.The single player game is a movie cut scene driven system.  It is well written for an FPS and keeps the player moving into the game very well.  You unlock new weapons in the game by finding them on dead enemies for the most part.The online gameplay is amazing.  You start with a few weapons and unlock more through gameplay.  Your character has some RP elements to it by being able to spend your unlock points on things you like to do.  You can unlock sniper rifles if that is all you like to do for example rather than getting a new assault weapon.Playing online has been a lot of fun for me.  I don't normally like FPS online play (too many kids with foul mouths yelling all the time).  But this has been a lot of fun to play and level your character.  You gain ranks and medals through online play.VEHICLES!You can also drive and shoot a lot of vehicles.  In particular I love the ability to jump on a tank someone else is driving and be their gunner.  If they jump out you can then take over and drive as well.  Helicopters are included as well (hard to fly, but cool).FUN FUN FUN - Squad concept tooI have not had this much fun playing an FPS since the original Unreal series.  The maps are huge and leave a lot of room to run around.  You fight a series battles on each multiplayer map.  You can also choose to spawn with your squad, or to go back to the base.  This is a lot of fun when you have a good squad as you can look out for each other while playing.  There is a system between matches where you can rate your play with each squad mate and then you are paired up with people you like when they are online.  Makes it even more fun when you get to know people online and then play together with them.Gold edition might not have been worth it, but for me I thought it was nice to get the extra weapons.\n",
      "\n",
      "(30246, 0.98997146) This is a great game. Here'e the goodies and baddies.Goodies:-Story mode/Co-op- 10 missions-Challenge mode-lots of cool guns, from different time periods-about 100 characters including the monkey-many modes in arcade-create your own map for arcade and story mode-excellent graphics-sick cut-scenes-(for you guys) loads of hot chicks-multitap for 4 players-really fast pace!-great way to get rid of stress...-and a whole lot more-possibly the HALO of PS2Baddies:-you can't jump or rollOverall this is a great gun game and it will keep you busy forever!!\n",
      "\n",
      "(182088, 0.9895374) First of all let me say that Dead Space 3 is definitely more of an action-game than a survival-horror game as its predecessors were. Whether this is a good or bad thing is going to depend on where you're coming from into the series. I am a big fan of Dead Space 1 and 2, and came into this game looking for another entry in one of the best horror-survival games series I've played. What I got was more of an action-game, that while fun in its own right, was not nearly as tense or frightening as the 1st and 2nd games were. I've detailed below what I think is good and bad depending on what you're looking for.For the 3rd Person Action Game Fans:- Dead Space 3 has solid combat mechanics complete with a cover system and plenty of ammunition. So if you were drawn away from Dead Space 1 and 2 because of the lack of things like a cover system, punishing enemies, or low amounts of ammo then Dead Space 3 might be the one for you.- There are lots of guns to mess around with and customize that can be a lot of fun to use- There's Co-op play so you can jump in with a friend to help you along the way- This is still a horror-genre game so there will still be scares and an appropriate tone throughout that can get quite creepy if you aren't into that, but it's considerably less intense than Dead Space 1&2.For the Horror-Survival Game Fans/Fans of Dead Space 1&2- The game continues the story almost directly from Dead Space 2, so you will be able to pick things up and get into the story quickly- The plot definitely progresses the overarching story of Dead Space considerably, so you will be rewarded for playing through if only for the story- The game is just plain less scary and much easier because of the plentiful ammo, easier to kill enemies, and just less emphasis on &#34;tactical dismemberment&#34; that defined the series.- Inventory management is considerably revamped and is easier to use, but they universalized ammunition so again it's less tactical/true to horror-survival games.- The co-op mode is optional, but unfortunately some side-missions are limited to co-op play only so you'll need to find a friend to complete everything/experience everything.The storyline I think is solid and has plenty of surprises and shocks to entertain both new players and veterans of the series alike. It's a fun game worth playing I think, especially with all of the sales I see for it. The graphics are great as well, and they made great use of the snow-environment effects/visuals. It adds its own unique flair to things and helps differentiate it from previous Dead Space games. I personally played through on single-player first to enjoy the story privately, and am playing through again now to help my friend who's a newcomer to the series. I highly recommend playing through yourself first and then with a friend, both because you get to enjoy more of Isaac (the main character's story) first and then also the 2nd character's story during co-op play. I appreciate that the developers make what each character sees in co-op play different. For example Isaac may be recalling a vision from his past as he looks at something, which your co-op partner will not see even though they're standing next to each other - and vice versa. This game has a lot of polish to it and is fairly lengthy so you'll have hours of enjoyment ahead.Though this isn't a horror-survival game anymore, it's still a fun game and one that I would happily recommend to newcomers and previous fans of Dead Space alike.\n",
      "\n",
      "(63273, 0.988755) This is a great sniper game I thought. Graphics are definately not for children. The box is marked 17 and over. There is no unlock for cheats.No need, there is an easy mode that will keep you busy. Many hours of play on the single mode and there is a online mode as well. Some missions especially the Scientist mission that I am confused about what is expected. I killed everyone and blew up the 3 trucks, the Officer, all the men and the one armored tank. I've done this mission three times and am still working on it. I don't give up. Happy hunting. One shot one kill. Viet Nam Vet. (No don't take this mentality out in the street, right!!!) Please,  Peace and Love!\n",
      "\n",
      "(108988, 0.98839194) This game is great!  With a lack of decent FPS games out there, I don't know why it isn't more popular.  I bought this game 2nd hand and never played it.  I popped it in one day (after the failure of MW2) and wow!  Story mode is really fun, more challenging than your simple run and gun games.  It has some interesting features such as the gadgets you use and I LOVE the run and fire from cover feature (this is something I would like to see in more FPS games)  The online is actually really cool.  Team death match has no overpowered kill streaks, its straight up skill.  You have to buy weapons and attachments like on COD Black Ops, so you actually earn what you get rather than just leveling up.  It also has some neat modes that are unique to the game.  There was just something about the online that really attracted me.  Sure the graphics aren't  5 star, the guns are hard to identify because of the use of false names to avoid copyright problems, and in multi player the characters look like they run around with a stick up their a**, but trust me, it is a fun game all around.\n",
      "\n",
      "(89269, 0.9863174) I was definately supprised by the quality of the game play as well as the fact that it's even more of a blast online!They take modern warefare to a whole new level and make it just FUN to get out there and shoot up the streets. Online play is great, I would have to say the best system for online combat ever. You have to get kills to get better weapons/rank. You also have to get rank to unlock cool extra features and so on.All in all, this game blows away a majority of the other combat games on the market. I pretty much haven't even touched Halo 3 since I picked this game up. I've gone through and beat it on the first couple difficulties and am working on getting a perfect score for the final ( I work 60-70 hours a week so yeah it takes a while).GET IT!\n",
      "\n",
      "(128701, 0.98462) I really expected more from this game.  Playing the campaign mode was uninteresting.  I could however see it being lots more enjoyable with other players.  Constant zombies from all angles eliminated the suspense of an attack.  There is some to like about the multiplayer.  You get to play as a special infected zombies.  Each Special zombie has a special attack unique to the class.  In that sense, it gives a different playing experience then killing an enemy a different color then you.  One really annoying thing playing as the zombies is that you are not able to choose which class you want to play.  Say you excel at playing a certain zombie you will have to wait till it is your turn to get that zombie.... if you ever get a chance that is.  Another big problem i have with this game is the \"pick up interface.\"  You will shocked with the amount of times you will run over something to be picked up just to walk back over it again.  This game also needs more maps for multiplayer.  I'm hoping i needed to open them as i progress through the lame singleplayer.  I really can't see myself playing this game over Modern Warfare 2.  Oh... did i mention the community that plays Left for Dead 2 online?  I have run tons of games where players vote to kick other players out of the game.  **You have been warned.**\n",
      "\n",
      "(183249, 0.9840224) If you liked the previous Army of Two games then you are gonna like this one because this is far better then the other army of two games far more fun and co op is also nice which makes it even fun to play.Pros:Easy Game too get an 100%Trophy CompletionLoads customization option like masks,outfits and weapon skin.Everything in The Devil&#8217;s Cartel is geared towards enjoyment and accessibility.Overkill mode is also nice  where powered-up bullets effortlessly tear chunks from concrete and flesh alike, virtually every piece of cover is destroyable, whether satellite dish, stone pillar, concrete breeze block or multi-pump gas station.Cons:A wonky cover system.A roughly seven-hour campaign(Depends how you play).Conclusion:So with this said i have to only say this game is fast,fun, and  never boring.\n",
      "\n"
     ]
    }
   ],
   "source": [
    "sims = index[vec_lda]\n",
    "sims = sorted(enumerate(sims), key=lambda item: -item[1])[0:8]\n",
    "ind = []\n",
    "for s in sims:\n",
    "    print(s, textos[s[0]])\n",
    "    print()\n",
    "    ind.append(s[0])"
   ]
  },
  {
   "cell_type": "code",
   "execution_count": 92,
   "metadata": {},
   "outputs": [
    {
     "data": {
      "text/html": [
       "<div>\n",
       "<style scoped>\n",
       "    .dataframe tbody tr th:only-of-type {\n",
       "        vertical-align: middle;\n",
       "    }\n",
       "\n",
       "    .dataframe tbody tr th {\n",
       "        vertical-align: top;\n",
       "    }\n",
       "\n",
       "    .dataframe thead th {\n",
       "        text-align: right;\n",
       "    }\n",
       "</style>\n",
       "<table border=\"1\" class=\"dataframe\">\n",
       "  <thead>\n",
       "    <tr style=\"text-align: right;\">\n",
       "      <th></th>\n",
       "      <th>reviewerID</th>\n",
       "      <th>asin</th>\n",
       "      <th>reviewerName</th>\n",
       "      <th>helpful</th>\n",
       "      <th>reviewText</th>\n",
       "      <th>overall</th>\n",
       "      <th>summary</th>\n",
       "      <th>unixReviewTime</th>\n",
       "      <th>reviewTime</th>\n",
       "    </tr>\n",
       "  </thead>\n",
       "  <tbody>\n",
       "    <tr>\n",
       "      <td>100000</td>\n",
       "      <td>A1ZCV0IX1PIT63</td>\n",
       "      <td>B0012FJX96</td>\n",
       "      <td>Jason Short \"Mad Scientist\"</td>\n",
       "      <td>[3, 4]</td>\n",
       "      <td>I am not a big fan of the FPS genre.  I play t...</td>\n",
       "      <td>4.0</td>\n",
       "      <td>Fantastic game for non-hardcore FPS Fans</td>\n",
       "      <td>1218067200</td>\n",
       "      <td>08 7, 2008</td>\n",
       "    </tr>\n",
       "    <tr>\n",
       "      <td>30246</td>\n",
       "      <td>A1AZ06W29THBSD</td>\n",
       "      <td>B000069D39</td>\n",
       "      <td>\"masenko182\"</td>\n",
       "      <td>[2, 2]</td>\n",
       "      <td>This is a great game. Here'e the goodies and b...</td>\n",
       "      <td>5.0</td>\n",
       "      <td>Actually, maybe 6 stars....</td>\n",
       "      <td>1062460800</td>\n",
       "      <td>09 2, 2003</td>\n",
       "    </tr>\n",
       "    <tr>\n",
       "      <td>182088</td>\n",
       "      <td>A26P08DCAHSM77</td>\n",
       "      <td>B0050SWUTQ</td>\n",
       "      <td>Genryu</td>\n",
       "      <td>[5, 6]</td>\n",
       "      <td>First of all let me say that Dead Space 3 is d...</td>\n",
       "      <td>5.0</td>\n",
       "      <td>Very accessible entry into the series for newc...</td>\n",
       "      <td>1373846400</td>\n",
       "      <td>07 15, 2013</td>\n",
       "    </tr>\n",
       "    <tr>\n",
       "      <td>63273</td>\n",
       "      <td>A10AX0UNPN5PBH</td>\n",
       "      <td>B000BHEQ1G</td>\n",
       "      <td>Rev. TomCat \"Tom\"</td>\n",
       "      <td>[2, 2]</td>\n",
       "      <td>This is a great sniper game I thought. Graphic...</td>\n",
       "      <td>5.0</td>\n",
       "      <td>Snipers</td>\n",
       "      <td>1203206400</td>\n",
       "      <td>02 17, 2008</td>\n",
       "    </tr>\n",
       "    <tr>\n",
       "      <td>108988</td>\n",
       "      <td>A1EX4410F46C8O</td>\n",
       "      <td>B001AWDFUY</td>\n",
       "      <td>Matt32 \"LIGHT WEIGHT\"</td>\n",
       "      <td>[1, 1]</td>\n",
       "      <td>This game is great!  With a lack of decent FPS...</td>\n",
       "      <td>5.0</td>\n",
       "      <td>Great FPS</td>\n",
       "      <td>1291161600</td>\n",
       "      <td>12 1, 2010</td>\n",
       "    </tr>\n",
       "    <tr>\n",
       "      <td>89269</td>\n",
       "      <td>A27QXQQOLAMRRR</td>\n",
       "      <td>B000TG530M</td>\n",
       "      <td>Bone \"JLLaser-net\"</td>\n",
       "      <td>[1, 1]</td>\n",
       "      <td>I was definately supprised by the quality of t...</td>\n",
       "      <td>5.0</td>\n",
       "      <td>One of the best games ever!</td>\n",
       "      <td>1211500800</td>\n",
       "      <td>05 23, 2008</td>\n",
       "    </tr>\n",
       "    <tr>\n",
       "      <td>128701</td>\n",
       "      <td>A34GZF55RVP25</td>\n",
       "      <td>B002BRZ852</td>\n",
       "      <td>Kyle H.</td>\n",
       "      <td>[7, 10]</td>\n",
       "      <td>I really expected more from this game.  Playin...</td>\n",
       "      <td>2.0</td>\n",
       "      <td>My opinion</td>\n",
       "      <td>1265155200</td>\n",
       "      <td>02 3, 2010</td>\n",
       "    </tr>\n",
       "    <tr>\n",
       "      <td>183249</td>\n",
       "      <td>A3UGEGG0U374I</td>\n",
       "      <td>B0050SXEM8</td>\n",
       "      <td>GujuGangstar</td>\n",
       "      <td>[1, 2]</td>\n",
       "      <td>If you liked the previous Army of Two games th...</td>\n",
       "      <td>4.0</td>\n",
       "      <td>Overall A Fun Game</td>\n",
       "      <td>1368576000</td>\n",
       "      <td>05 15, 2013</td>\n",
       "    </tr>\n",
       "  </tbody>\n",
       "</table>\n",
       "</div>"
      ],
      "text/plain": [
       "            reviewerID        asin                 reviewerName  helpful  \\\n",
       "100000  A1ZCV0IX1PIT63  B0012FJX96  Jason Short \"Mad Scientist\"   [3, 4]   \n",
       "30246   A1AZ06W29THBSD  B000069D39                 \"masenko182\"   [2, 2]   \n",
       "182088  A26P08DCAHSM77  B0050SWUTQ                       Genryu   [5, 6]   \n",
       "63273   A10AX0UNPN5PBH  B000BHEQ1G            Rev. TomCat \"Tom\"   [2, 2]   \n",
       "108988  A1EX4410F46C8O  B001AWDFUY        Matt32 \"LIGHT WEIGHT\"   [1, 1]   \n",
       "89269   A27QXQQOLAMRRR  B000TG530M           Bone \"JLLaser-net\"   [1, 1]   \n",
       "128701   A34GZF55RVP25  B002BRZ852                      Kyle H.  [7, 10]   \n",
       "183249   A3UGEGG0U374I  B0050SXEM8                 GujuGangstar   [1, 2]   \n",
       "\n",
       "                                               reviewText  overall  \\\n",
       "100000  I am not a big fan of the FPS genre.  I play t...      4.0   \n",
       "30246   This is a great game. Here'e the goodies and b...      5.0   \n",
       "182088  First of all let me say that Dead Space 3 is d...      5.0   \n",
       "63273   This is a great sniper game I thought. Graphic...      5.0   \n",
       "108988  This game is great!  With a lack of decent FPS...      5.0   \n",
       "89269   I was definately supprised by the quality of t...      5.0   \n",
       "128701  I really expected more from this game.  Playin...      2.0   \n",
       "183249  If you liked the previous Army of Two games th...      4.0   \n",
       "\n",
       "                                                  summary  unixReviewTime  \\\n",
       "100000           Fantastic game for non-hardcore FPS Fans      1218067200   \n",
       "30246                         Actually, maybe 6 stars....      1062460800   \n",
       "182088  Very accessible entry into the series for newc...      1373846400   \n",
       "63273                                             Snipers      1203206400   \n",
       "108988                                          Great FPS      1291161600   \n",
       "89269                         One of the best games ever!      1211500800   \n",
       "128701                                         My opinion      1265155200   \n",
       "183249                                 Overall A Fun Game      1368576000   \n",
       "\n",
       "         reviewTime  \n",
       "100000   08 7, 2008  \n",
       "30246    09 2, 2003  \n",
       "182088  07 15, 2013  \n",
       "63273   02 17, 2008  \n",
       "108988   12 1, 2010  \n",
       "89269   05 23, 2008  \n",
       "128701   02 3, 2010  \n",
       "183249  05 15, 2013  "
      ]
     },
     "execution_count": 92,
     "metadata": {},
     "output_type": "execute_result"
    }
   ],
   "source": [
    "df.iloc[ind]"
   ]
  },
  {
   "cell_type": "markdown",
   "metadata": {},
   "source": [
    "Temos que os textos ditos mais similares com o review de busca são First Person Shooters e possuem termos comuns deste gênero como 'FPS', 'weapon', 'bullet' e 'mission'."
   ]
  },
  {
   "cell_type": "markdown",
   "metadata": {},
   "source": [
    "Verificando os documentos mais similares ao segundo documento 57350"
   ]
  },
  {
   "cell_type": "code",
   "execution_count": 93,
   "metadata": {
    "scrolled": false
   },
   "outputs": [
    {
     "data": {
      "text/plain": [
       "\"Loved it.  Fell short of Ocarina of Time (which has ruined me for all other Zelda games), but I still loved it.Just a few things I really liked:Epona looks fantastic and the animation is just right.  I was a tad bit worried about how Epona would carry over, but she ended up being an improvement over the original.  Link can finally use his sword while riding, so that's a super plus.The graphics.  Nintendo has always been known for using the Zelda titles to push their hardware to the max, and this is no exception.  They surprised the heck outta me, even for a Gamecube title.  Link has gotten a huge update and looks gorgeous, but he's still the same fairy-boy you know and love.  The environments are almost life-like - attention to detail is phenomenal.Sound is pretty much the same to me.  Link is still silent, and I actually prefer it that way as I think a voice would ruin him.The sound effects have almost all been updated, but the entire scheme still sounds very similiar to OOT.There is one new addition, however, and that is Midna.  She is the only fully voiced character in the game - speaking a fictional language.Controls are still the same old same old, and they fit perfectly.  Link still doesn't jump (which is fine), and rolling is still a bit faster than running.The Story.  A good one, to be sure, and there is plenty to it.  Again, they have expanded on the Dark World/Light World scenario which has proven to be tried and true.  In the Dark World (Twilight), Link assumes the form of a wolf.  In the Light World, Link assumes the form of the Hero of Time.It's all very similiar to LTTP - complete with an object that allows Link to remain Hylian in the Dark World, and a mirror that allows travel between the two Worlds.The cinematics.  They looked good, and there were more of them than in past games.  There also seems to be an added element of drama that wasn't there in the past.What I didn't like:The music in this game wasn't all that great to me.  All the past games have had several catchy or memorable tunes, and this one is really lacking in that.  The only theme I enjoyed was the Kakariko theme, and I think I despised the Overworld theme.  There are some returning OOT and LTTP themes, and they sound good, but the rest are average.Epona's movement while using the bow.  She still runs straight in first-person view.  I don't think it would have been that hard to give the player use of a thumbstick here.  (Edit:  This is not the case on the Wii version - Epona's movement can be controlled while using the bow.  I may have overlooked this in the GC version.)Rupees.  There are way, way too many rupee chests in the dungeons.  I do like that you can actually put them back if you can't carry them, but jeez louise what a waste of time and effort.They weren't utilized very well in the gameplay either - the balance was off in my opinion.  Either you never had enough, or you were always full.  I never found a happy medium there.The dungeons.  Honestly, I found them to be somewhat linear.  In LTTP and OOT - I remember being lost quite frequently and having to memorize several areas before getting through a certain dungeon.  In Twilight Princess, you are almost given the route you should take instead of having to figure it out.  They also seemed smaller to me, but I'm not so sure that is true.  It's hard to say.The Cave of Ordeals.  I just didn't care for this at all.  If the rooms had been full of puzzles instead of enemies, I would have enjoyed it.  But, I found the hacking and slashing rather tedious after a bit.Sword upgrade.  Yes, you do get the Light Sword near the end of the game.  But, you only get to use it (with the pretty sparkles and stuff) for a short amount of time.  I was very disappointed with that.Shield upgrade.  Missing altogether.  No Mirror Shield here, which I was sure would have been in the Gerudo desert.The Sages.  Bringing back the 6 from OOT would have really been a special treat, but the Sages in TP are just generic characters with no real use.Comic relief.  There is hardly any of it!Finally, the characters.  This time around, the characters left much to be desired in my experience, and this is the single biggest kicker for me in a Zelda game.  I never really connected with any of them, and even though it is a long game, I hardly got to spend any moderate amount of time with any of them other than Midna.The children were a complete waste of time, effort, and game space in my opinion.  I didn't much care for them, and found them to be very annoying.  I didn't really care whether Ilia was dead or alive, and I sure as heck didn't want to go searching for her.  The parts of the story regarding them - very boring and merely a barrier to get beyond.All others - with the exception of the Yeti couple, King Bulblin, The Hero Spirit, and Coro - were just pixels with a certain use.Side quests, or lack of them.  There are poes and golden bugs to be found, but that's pretty much it.  I can't recall any special item quests.Everything else was okay.  Most of my dislikes are based on my expectations from the Zelda franchise, and Ocarina of Time, and are not based on poor or low quality development.  This game is Game of the Year material for sure - it's just not OOT.Also, in regards to the comments regarding LOTR.  I can certainly see it.  The orcish creatures added to the Overworld, the Great Fairy that looks  almost identical to the Lady of the Wood, the cutscene showing the greed and betrayal over the Triforce, and a few other similarities here and there do give me a bit of that LOTR feel.  I don't really find it to be a big deal, I just don't want it to become the norm in future installations of the franchise.Oh, and the game-world did seem a bit small to me.  After playing Okami (which is very Zelda-like and has a MASSIVE game-world) and OOT recently, TP does seem a little cramped.\""
      ]
     },
     "execution_count": 93,
     "metadata": {},
     "output_type": "execute_result"
    }
   ],
   "source": [
    "textos[57350] # peguei da lista 1"
   ]
  },
  {
   "cell_type": "code",
   "execution_count": 94,
   "metadata": {},
   "outputs": [
    {
     "data": {
      "text/plain": [
       "['love',\n",
       " 'fell',\n",
       " 'short',\n",
       " 'ocarina',\n",
       " 'time',\n",
       " 'ruin',\n",
       " 'zelda',\n",
       " 'game',\n",
       " 'still',\n",
       " 'love',\n",
       " 'thing',\n",
       " 'like',\n",
       " 'look',\n",
       " 'right',\n",
       " 'tad',\n",
       " 'bit',\n",
       " 'would',\n",
       " 'end',\n",
       " 'origin',\n",
       " 'link',\n",
       " 'final',\n",
       " 'use',\n",
       " 'sword',\n",
       " 'ride',\n",
       " 'super',\n",
       " 'graphic',\n",
       " 'nintendo',\n",
       " 'known',\n",
       " 'use',\n",
       " 'zelda',\n",
       " 'push',\n",
       " 'max',\n",
       " 'except',\n",
       " 'heck',\n",
       " 'even',\n",
       " 'link',\n",
       " 'gotten',\n",
       " 'huge',\n",
       " 'look',\n",
       " 'still',\n",
       " 'know',\n",
       " 'love',\n",
       " 'almost',\n",
       " 'detail',\n",
       " 'much',\n",
       " 'link',\n",
       " 'still',\n",
       " 'silent',\n",
       " 'actual',\n",
       " 'prefer',\n",
       " 'way',\n",
       " 'think',\n",
       " 'would',\n",
       " 'ruin',\n",
       " 'sound',\n",
       " 'effect',\n",
       " 'almost',\n",
       " 'scheme',\n",
       " 'still',\n",
       " 'sound',\n",
       " 'one',\n",
       " 'new',\n",
       " 'game',\n",
       " 'speak',\n",
       " 'still',\n",
       " 'old',\n",
       " 'old',\n",
       " 'fit',\n",
       " 'link',\n",
       " 'still',\n",
       " 'jump',\n",
       " 'fine',\n",
       " 'roll',\n",
       " 'still',\n",
       " 'bit',\n",
       " 'faster',\n",
       " 'good',\n",
       " 'one',\n",
       " 'sure',\n",
       " 'dark',\n",
       " 'world',\n",
       " 'light',\n",
       " 'world',\n",
       " 'scenario',\n",
       " 'true',\n",
       " 'dark',\n",
       " 'world',\n",
       " 'link',\n",
       " 'form',\n",
       " 'light',\n",
       " 'world',\n",
       " 'link',\n",
       " 'form',\n",
       " 'hero',\n",
       " 'object',\n",
       " 'allow',\n",
       " 'link',\n",
       " 'remain',\n",
       " 'dark',\n",
       " 'world',\n",
       " 'allow',\n",
       " 'travel',\n",
       " 'two',\n",
       " 'look',\n",
       " 'good',\n",
       " 'past',\n",
       " 'game',\n",
       " 'also',\n",
       " 'seem',\n",
       " 'element',\n",
       " 'like',\n",
       " 'music',\n",
       " 'game',\n",
       " 'great',\n",
       " 'past',\n",
       " 'game',\n",
       " 'one',\n",
       " 'lack',\n",
       " 'theme',\n",
       " 'enjoy',\n",
       " 'theme',\n",
       " 'think',\n",
       " 'theme',\n",
       " 'return',\n",
       " 'theme',\n",
       " 'sound',\n",
       " 'good',\n",
       " 'rest',\n",
       " 'movement',\n",
       " 'use',\n",
       " 'bow',\n",
       " 'still',\n",
       " 'run',\n",
       " 'straight',\n",
       " 'first-person',\n",
       " 'view',\n",
       " 'think',\n",
       " 'would',\n",
       " 'hard',\n",
       " 'give',\n",
       " 'player',\n",
       " 'use',\n",
       " 'edit',\n",
       " 'case',\n",
       " 'wii',\n",
       " 'version',\n",
       " 'movement',\n",
       " 'control',\n",
       " 'use',\n",
       " 'bow',\n",
       " 'may',\n",
       " 'version',\n",
       " 'way',\n",
       " 'way',\n",
       " 'chest',\n",
       " 'dungeon',\n",
       " 'like',\n",
       " 'actual',\n",
       " 'put',\n",
       " 'back',\n",
       " \"can't\",\n",
       " 'time',\n",
       " 'well',\n",
       " 'gameplay',\n",
       " 'either',\n",
       " 'opinion',\n",
       " 'either',\n",
       " 'never',\n",
       " 'enough',\n",
       " 'full',\n",
       " 'never',\n",
       " 'found',\n",
       " 'medium',\n",
       " 'dungeon',\n",
       " 'found',\n",
       " 'somewhat',\n",
       " 'linear',\n",
       " 'lost',\n",
       " 'quit',\n",
       " 'area',\n",
       " 'get',\n",
       " 'certain',\n",
       " 'dungeon',\n",
       " 'princess',\n",
       " 'almost',\n",
       " 'given',\n",
       " 'take',\n",
       " 'instead',\n",
       " 'also',\n",
       " 'seem',\n",
       " 'smaller',\n",
       " \"i'm\",\n",
       " 'sure',\n",
       " 'true',\n",
       " 'hard',\n",
       " 'care',\n",
       " 'room',\n",
       " 'full',\n",
       " 'instead',\n",
       " 'would',\n",
       " 'enjoy',\n",
       " 'found',\n",
       " 'hack',\n",
       " 'slash',\n",
       " 'rather',\n",
       " 'get',\n",
       " 'light',\n",
       " 'sword',\n",
       " 'near',\n",
       " 'end',\n",
       " 'game',\n",
       " 'get',\n",
       " 'use',\n",
       " 'stuff',\n",
       " 'short',\n",
       " 'amount',\n",
       " 'time',\n",
       " 'disappoint',\n",
       " 'miss',\n",
       " 'shield',\n",
       " 'sure',\n",
       " 'would',\n",
       " 'bring',\n",
       " 'back',\n",
       " 'would',\n",
       " 'special',\n",
       " 'treat',\n",
       " 'real',\n",
       " 'final',\n",
       " 'time',\n",
       " 'around',\n",
       " 'left',\n",
       " 'much',\n",
       " 'biggest',\n",
       " 'zelda',\n",
       " 'game',\n",
       " 'never',\n",
       " 'connect',\n",
       " 'even',\n",
       " 'though',\n",
       " 'long',\n",
       " 'game',\n",
       " 'got',\n",
       " 'spend',\n",
       " 'amount',\n",
       " 'time',\n",
       " 'children',\n",
       " 'time',\n",
       " 'effort',\n",
       " 'game',\n",
       " 'space',\n",
       " 'opinion',\n",
       " 'much',\n",
       " 'care',\n",
       " 'found',\n",
       " 'care',\n",
       " 'whether',\n",
       " 'dead',\n",
       " 'sure',\n",
       " 'heck',\n",
       " 'want',\n",
       " 'go',\n",
       " 'search',\n",
       " 'part',\n",
       " 'get',\n",
       " 'except',\n",
       " 'king',\n",
       " 'hero',\n",
       " 'spirit',\n",
       " 'certain',\n",
       " 'quest',\n",
       " 'lack',\n",
       " 'golden',\n",
       " 'bug',\n",
       " 'found',\n",
       " 'much',\n",
       " \"can't\",\n",
       " 'special',\n",
       " 'item',\n",
       " 'okay',\n",
       " 'base',\n",
       " 'expect',\n",
       " 'zelda',\n",
       " 'ocarina',\n",
       " 'time',\n",
       " 'base',\n",
       " 'poor',\n",
       " 'low',\n",
       " 'develop',\n",
       " 'game',\n",
       " 'game',\n",
       " 'year',\n",
       " 'sure',\n",
       " 'comment',\n",
       " 'see',\n",
       " 'great',\n",
       " 'look',\n",
       " 'almost',\n",
       " 'show',\n",
       " 'similar',\n",
       " 'give',\n",
       " 'bit',\n",
       " 'feel',\n",
       " 'find',\n",
       " 'big',\n",
       " 'deal',\n",
       " 'want',\n",
       " 'seem',\n",
       " 'bit',\n",
       " 'small',\n",
       " 'play',\n",
       " 'recent',\n",
       " 'seem']"
      ]
     },
     "execution_count": 94,
     "metadata": {},
     "output_type": "execute_result"
    }
   ],
   "source": [
    "stemmed[57350]"
   ]
  },
  {
   "cell_type": "code",
   "execution_count": 95,
   "metadata": {},
   "outputs": [
    {
     "name": "stdout",
     "output_type": "stream",
     "text": [
      "[(0, 0.040797338), (1, 0.66726893), (4, 0.12678114), (5, 0.08024621), (6, 0.02247409), (9, 0.040862996), (11, 0.01987056)]\n"
     ]
    }
   ],
   "source": [
    "vec_bow = dicionario.doc2bow(stemmed[57350])\n",
    "vec_lda = best_lda[vec_bow] \n",
    "print(vec_lda)"
   ]
  },
  {
   "cell_type": "code",
   "execution_count": 96,
   "metadata": {},
   "outputs": [
    {
     "name": "stdout",
     "output_type": "stream",
     "text": [
      "(57350, 0.9999998) Loved it.  Fell short of Ocarina of Time (which has ruined me for all other Zelda games), but I still loved it.Just a few things I really liked:Epona looks fantastic and the animation is just right.  I was a tad bit worried about how Epona would carry over, but she ended up being an improvement over the original.  Link can finally use his sword while riding, so that's a super plus.The graphics.  Nintendo has always been known for using the Zelda titles to push their hardware to the max, and this is no exception.  They surprised the heck outta me, even for a Gamecube title.  Link has gotten a huge update and looks gorgeous, but he's still the same fairy-boy you know and love.  The environments are almost life-like - attention to detail is phenomenal.Sound is pretty much the same to me.  Link is still silent, and I actually prefer it that way as I think a voice would ruin him.The sound effects have almost all been updated, but the entire scheme still sounds very similiar to OOT.There is one new addition, however, and that is Midna.  She is the only fully voiced character in the game - speaking a fictional language.Controls are still the same old same old, and they fit perfectly.  Link still doesn't jump (which is fine), and rolling is still a bit faster than running.The Story.  A good one, to be sure, and there is plenty to it.  Again, they have expanded on the Dark World/Light World scenario which has proven to be tried and true.  In the Dark World (Twilight), Link assumes the form of a wolf.  In the Light World, Link assumes the form of the Hero of Time.It's all very similiar to LTTP - complete with an object that allows Link to remain Hylian in the Dark World, and a mirror that allows travel between the two Worlds.The cinematics.  They looked good, and there were more of them than in past games.  There also seems to be an added element of drama that wasn't there in the past.What I didn't like:The music in this game wasn't all that great to me.  All the past games have had several catchy or memorable tunes, and this one is really lacking in that.  The only theme I enjoyed was the Kakariko theme, and I think I despised the Overworld theme.  There are some returning OOT and LTTP themes, and they sound good, but the rest are average.Epona's movement while using the bow.  She still runs straight in first-person view.  I don't think it would have been that hard to give the player use of a thumbstick here.  (Edit:  This is not the case on the Wii version - Epona's movement can be controlled while using the bow.  I may have overlooked this in the GC version.)Rupees.  There are way, way too many rupee chests in the dungeons.  I do like that you can actually put them back if you can't carry them, but jeez louise what a waste of time and effort.They weren't utilized very well in the gameplay either - the balance was off in my opinion.  Either you never had enough, or you were always full.  I never found a happy medium there.The dungeons.  Honestly, I found them to be somewhat linear.  In LTTP and OOT - I remember being lost quite frequently and having to memorize several areas before getting through a certain dungeon.  In Twilight Princess, you are almost given the route you should take instead of having to figure it out.  They also seemed smaller to me, but I'm not so sure that is true.  It's hard to say.The Cave of Ordeals.  I just didn't care for this at all.  If the rooms had been full of puzzles instead of enemies, I would have enjoyed it.  But, I found the hacking and slashing rather tedious after a bit.Sword upgrade.  Yes, you do get the Light Sword near the end of the game.  But, you only get to use it (with the pretty sparkles and stuff) for a short amount of time.  I was very disappointed with that.Shield upgrade.  Missing altogether.  No Mirror Shield here, which I was sure would have been in the Gerudo desert.The Sages.  Bringing back the 6 from OOT would have really been a special treat, but the Sages in TP are just generic characters with no real use.Comic relief.  There is hardly any of it!Finally, the characters.  This time around, the characters left much to be desired in my experience, and this is the single biggest kicker for me in a Zelda game.  I never really connected with any of them, and even though it is a long game, I hardly got to spend any moderate amount of time with any of them other than Midna.The children were a complete waste of time, effort, and game space in my opinion.  I didn't much care for them, and found them to be very annoying.  I didn't really care whether Ilia was dead or alive, and I sure as heck didn't want to go searching for her.  The parts of the story regarding them - very boring and merely a barrier to get beyond.All others - with the exception of the Yeti couple, King Bulblin, The Hero Spirit, and Coro - were just pixels with a certain use.Side quests, or lack of them.  There are poes and golden bugs to be found, but that's pretty much it.  I can't recall any special item quests.Everything else was okay.  Most of my dislikes are based on my expectations from the Zelda franchise, and Ocarina of Time, and are not based on poor or low quality development.  This game is Game of the Year material for sure - it's just not OOT.Also, in regards to the comments regarding LOTR.  I can certainly see it.  The orcish creatures added to the Overworld, the Great Fairy that looks  almost identical to the Lady of the Wood, the cutscene showing the greed and betrayal over the Triforce, and a few other similarities here and there do give me a bit of that LOTR feel.  I don't really find it to be a big deal, I just don't want it to become the norm in future installations of the franchise.Oh, and the game-world did seem a bit small to me.  After playing Okami (which is very Zelda-like and has a MASSIVE game-world) and OOT recently, TP does seem a little cramped.\n",
      "\n",
      "(146102, 0.9967503) Charm is something that is almost impossible to define but whatever charm means \"Drawn\" has it. This enchanting game is a delight for everyone. It is one of the few games that is hard enough for an adult to enjoy and cute enough to enthrall a kid. The two of you can play together side by side in mutual satisfaction. \"Drawn\" is also one of the few games to score highly on all fronts: the beautiful graphics, the excellent voice acting (the narrator's husky tones, especially), and the appropriate music from gloomy and soft piano notes to joyous violins and full symphony exuberance.The environments include dark and muted scenes like the decaying tower in which Princess Iris, our heroine, is imprisoned, and an eerie primeval forest, to the paintings Iris has created, which are rich in color and filled with wonderful effects such as flickering candles, bees and dragonflies flitting about, a dragon breathing fire. And we meet colorful characters such as a scarecrow, quirky magicians, a hilarious witchdoctor and even some amusing talking shrunken heads, which are not scary.Once upon a time there was a prosperous kingdom ruled by a benevolent king. Members of the royal family had the ability to bring paintings to life and by enchantment, you could step into a new brilliant world of your dreams. But a malevolent dragon and his master conquered the kingdom, burning down the houses, creating turmoil, and the Queen, desperate to save her new born baby daughter, Iris, gives the baby to a trusted servant, imploring him to hide her. They are safe for a while in a tower near the sea, but the usurping king finally discovers them and turns the steward into stone and Iris is placed high on the top of the tower.Of course you have to find and free the little princess, but the way is full of snares and booby traps as you slowly make your way to the top of the tower, entering Iris' gloriously colored paintings as you go. The puzzles you encounter are not hard, they're often quirky and they're fun, too. You'll be looking around for tools to help you on your journey, such as an axe, colored stones, a chisel-  plenty of stuff to keep you busy. Bon voyage!\n",
      "\n",
      "(167738, 0.9964713) The good stuff: every now and then this game will feel like a 3D version of the old 2D Baldur's Gate games.  But it is just a whiff.  The larger storyline is inert, but the characters are interesting.  The voice work is often great, but the visual character models of both allies and enemies are way too generic.  Oh look there a mage in a robe and all of the robes look nearly the same.The disappointing stuff:  Oh geez, the combat.  Everything is on cool-down timers like a MMORPG style game.  And \"fatigue\" will slow your character's timers.  That is the basic concept.  That by itself isn't a deal-breaker but the combat uses grossly overpowered area-of-effect spells like firestorm and icestorm and earthquake that will decimate 95% of your foes before they ever get to you.  Rinse.  Repeat.  At hard difficulty, there's more tactics needed but it is still a simple process of spamming elemental spells at your enemies.  Ice and rock fist are lower level spells that can stop just about anything other than a boss.  The only time you have a challenge is on the rare occasion where there is an enemy mage.  Then you have to make a bee-line for that mage and _then_ spam your elemental spells at the other enemies.BioWare made a genuine effort to make something like a modern version of Baldur's Gate but they also tried to please every kind of gamer.  Some will like this game and that's cool, but the old BG games still rock.  DA not so much.\n",
      "\n",
      "(203321, 0.9941774) For some reason I could  never get into the Persona series. I tried them, then it would almost immediately be decided that this style of JRPG just wasn'r for me. Then, when Persona 3 went on special, I decided to give it another try. After 96 hours later, I was hooked! When I heard of P4G, I just couldn't believe it. Immediately I felt at home. The presentation, the colors, the sound track, the characters and the relationships (Social Links), and the mystery story, all come together perfectly to make a truly engrossing experience. Sure, it definetely helps if you are a fan of JRPG's (lots of grinding), slice of life social sims (every day life) and definetely Anime in general (all the usual tropes surface). I definetely recommend this title as it perfectly fits in a mobile environment. Finally I put away buyer's remorse for my VITA.\n",
      "\n",
      "(130798, 0.9940981) Legend of Zelda games were defining moments for me growing up. Discovering the original NES game, spending months with ocarina songs in my head, and the pitch-perfect story of Twilight Princess. In fact, I still wrestle with the idea of getting a tri-force tattoo on a regular basis. The first couple hours of this game triggered all those memories and hands-down the thing that tugs at my heart strings the most: the sound design. Every little sound that's been carried through each incarnation makes me indescribably happy. That's why it's almost painful to admit that Skyward Sword was only an average game when compared to the rest.Two-thirds of the game can be described as a fetch quest. This painful aspect comes in the form of, \"Oh you've collected A, B and C? Now you can collect D, E and F!\" However the best example I can give- at a certain point you must gather a piece of song from a forest god. You talk to this person, they recognize that you were sent from the Goddess herself (thus, the Creator has vouched for Link's journey) but still they feel the need to test you and scatter twenty objects across the land. Those objects don't add up to a new weapon or heart piece, they're just a pointless exercise to waste your time. This can be summed up saying that I rarely felt like any of these missions directly related to my final goal.Most locations have rather clever design and throughout the game they keep it interesting by transforming the landscape. However, in the more detailed temples I'm never given context for the design or past importance of these areas. Previous Zelda games had unique tribes living in each area that would give you the history of the land. However Skyward Sword takes place in a land that's been vacant for a very long time. Literally and figuratively it robs the game of life, story and a level of subtext that, in previous games, gave reason and purpose to each new land. The only constant resident here is your new guide, Fi, who is annoying as ever, even more so than Navi. She will state the obvious, \"this door appears to be blocked by a gate,\" and chime at you each time you should change the batteries in your Wii-mote.My biggest gripe however is that I was expecting something new in the way that Twilight Princess accomplished. I had high hopes that as Zelda takes out on her own journey early on, that she might rise up and become a hero as well. They position Zelda and Link as two heroes on the same journey, just on different sides. As such I was excited to see Zelda channeling the powers of the Goddess so that they would literally be fighting side-by-side in the end. No such luck, even with all the powers of creation inside her, she's relegated to a damsel-in-distress that is either on the sidelines or needs to be rescued. It's been said before but when Zelda is constantly dismissed in this way, it begs the question of how it became known as the Legend of \"Zelda.\" This game was an opportunity to finally make this her story and it completely dropped the ball.The good aspects of this game are everything you most likely already know. The sound design is some of the best in videogame history. The clawshot, bow, Master Sword and even a few new clever devices. A vital part of the story always worth telling is the underlying mythos of the tri-force and Link/Zelda. One of my favorite things about this franchise is that they essentially tell this story for each game but every time they add something new to the mix. This game does so, but only in a vague way by lightly hinting that the struggle is cyclical. Trying to tie the stories together isn't necessary, after this long we've come to accept that each Zelda game is an alternate version of the same story.The game is not all bad, in fact it's still better than the majority of the games out there. My level of comparison for this game is based on past Zelda games and what I expect out of this franchise. I'm not comparing it to other AAA titles and I'm far more in favor of an adventure game such as this as opposed to an ultra-violent space marine shooter. So if you're a huge Zelda fan it's still worth picking up (it clocks in at 40hrs) but you're also not missing out by skipping this one.\n",
      "\n",
      "(120126, 0.99403715) There used to be an old notion that handheld videogames were designed with the idea of being able to play quickly and relatively easily without the gamer getting super involved.  Knights in the Nightmare on the DS from Atlus not only dispels any ideas of that notion, but annihilates them entirely.  An RPG strategy game, Knights in the Nightmare features mystical kingdoms, a huge cast of deeply developed characters, and an incredibly epic storyline that shifts throughout time; all of which help combine for a unique experience.  But that is only the tip of the iceberg, as Knights in the Nightmare involves an overly intricate battle scheme that is nearly like chess in its precision and tactics, while still managing to be fun and ever-rewarding.  Technically speaking, the game looks good and is fluidly animated with a simply beautiful musical score to boot, while the game makes solid use of the DS' touch screen capabilities.  While Knights in the Nightmare is an excellent game on its own accord, it is definitely not a game that just anyone can pick up and play.  While it does offer helpful tutorials to help get you going, Knights in the Nightmare is so involving in its methods and gameplay that casual RPG/strategy gamers may feel alienated, put off, and just plain frustrated just by how deep it is.  Still, even though Knights in the Nightmare isn't something for noobs, it is still a unique experience that has found a more than fitting place on the DS, and if any of what you've read here sounds interesting to you in the least, then this game is definitely worth picking up if you're looking for a hearty and rewarding challenge.\n",
      "\n",
      "(663, 0.9939548) Zelda: OOT is centered around a massive, circular field called Hyrule. Around this field are pathways which lead off to various different locations such as dungeons, castles, villages, volcanoes, etc... Each path will lead to usually one destination like a castle, and once explored, you travel back across Hyrule field and visist another pathway which leads to a different location. This makes areas more accessible, and it makes backtracking as less tedius as possible, due to the fact that you're not endessly travelling through pre-explored ares. Backtracking is an important feature of OOT, due to the fact that when you progress through the game you aquire objects which give you the ability to explore areas more thoroughly ... bombs for instance blow up walls that hide secret paths. Hockshots give you the ability to ascend to higher ledges. The Ocarina of Time opens secret doors. Thus, pre explored areas which you thought were unimportant can in fact conceal the most important instruments and dungeons in the game. This is compounded, when at one point in the game you aquire the Master Sword. This is a special sword which, upon claiming, makes you and the world age by seven years, and by doing the reverse, putting the sword back in it's mold, makes you and the world 7 years younger. The good thing about this is that the past and future are profoundly different. The future is controlled by evil, whereas the past is controled by good. Needless to say, your mission in the game is to liberate peice by peice the future world from the evil Ganondolf. However, in order to do so you must travel back and forth in time creating situations which will have an impact on the future world.A main part of this game is the ocarina of time. Depending on what tune you play, the ocarina will turn night in to day, make it rain, open secret doors, or make blocks disappear, amoung other things.  This adds an important layer to the game, for you have to use your brain in order to work out which song is necessary to progress. For instance, after spending hours wondering what to do, the idea could suddenly hit you, \"Should I play Zelda's Lullaby in front of the waterfall?\" If successful, the waterfall will stop and a passageway will display itself, thus giving you a tremendous satisfied feeling. The actual songs you learn in the game are some of the best songs in computer game history. In fact, only Computer World by Kraftswerk can compare to the greatness of the music in OOT.By the time Zelda: OOT was released the difficulty in games was just perfect. Your heart was racing when you met a worthy adversary, you were fustrated when you died, you were delighted when you succeeded. Fustration and anger are both necessary in games because it's those feelings which make you truly delighted when you succeed...  Unfortunetly, since OOT, games have become so easy that a huge part of the joy in completeting them isn't there anymore.\n",
      "\n",
      "(230023, 0.99353373) No matter what angle you look at it from, this is a special game. What started out as a 3DS remake ofone of the greatest video games ever made, has quickly taken on a life of its own. Now, it's a spiritual successor/sequel to one of the greatest games of all time, something that fans have waited over 20 years for. If I'm not mistaken, it's also the first *traditionally-controlled*, top-down, 2-D Zelda game made exclusively by Nintendo sinceLink's Awakening(my 2nd favorite Zelda game). The big question, then, is can The Legend of Zelda: A Link Between Worlds stand up to the hyperbolic hype and expectations that it released to? To put it simply, yes, it absolutely can. I have a strong feeling this one will be up there in the consciousness of most gamers in the long term. Not only is ALBW a nostalgic throwback for fans of classic Zelda games, it is a huge step forward for the series and full of brand new, pretty groundbreaking changes to the traditional Zelda formula. I will try to be concise and avoid overlong exposition, but this will be a long, detailed review, as I want to be as informative and helpful as possible; you've been warned. As of 11/24, I've beaten the game, having been playing this ever since picking it up at a midnight release party, unable to put it down unless I had to because of adult responsibilities and blah blah blah. I can confidently say that this game gives Zelda fans a cause for rejoicing. This is a true masterpiece!The story in ALBW may seem at first to be a retread of A Link to the Past. It takes place in Hyrule several generations after the events of ALttP. A new villain, named Yuga, has arrived on the scene. He plays a similar role to Agahnim from ALttP, turning the descendants of the seven sages into still paintings with his magic paintbrush staff, presumably with some nefarious purpose relating to Ganon. He himself can turn into a living painting as well. Very quickly, however, the story turns into something much bigger than you may expect. The Dark World concept returns in ALBW, but has been expanded to new depths. In fact, this game's Dark World feels much closer to the Twilight Realm fromTwilight Princess, and especially Termina fromMajora's Mask. This game's dark world is actually an alternate version of Link's world, with its own inverted Tri-force, a once brilliant but now forsaken kingdom named Lorule, and its own wise princess named Hilda. Of course, Link will set out to save both Hyrule and Lorule, and by the game's end, he will have met with many twists and turns, as well as encountered many interesting and likable characters. I absolutely love stories that incorporate alternate dimensions/worlds that have their own different version of the same characters, and ALBW uses that plot device to great effect, in my opinion.The storytelling is exceptionally well done in this game, with cutscenes showcasing great writing and localization. New characters are really enjoyable, and the returning characters that are a staple of the series (Zelda, Impa, etc) all have interesting traits that make this game's version of them unique. Hilda is mysterious and has a cunning wisdom, which is a nice contrast to Zelda's warmth and sagely wisdom. As a villain, Yuga is a great balance between psychotic/creepy and silly. He is what you'd get if you put Lord Ghirahim, Agahnim, andKefkainto a pot and then threw in a dash of Ganondorf. Believe it or not, in terms of plot and the way the story unfolds, this felt more along the lines of the darker, moodier Twilight Princess and Majora's Mask, and I love it. The ending is incredible. If you're expecting \"just another Zelda story,\" you'll be pleasantly surprised by how deep and interesting this one is.The visuals are something that may polarize some folks. The gorgeous concept art looks likeSkyward Sword'spainterly style meeting theOracle of Seasons/Agesdesign, but the actual in-game graphics looks more like A Link to the Past meetsThe Wind Waker. Character models have the \"Toon\" proportions of WW, whereas everything else, from scenery to character details, all has an undeniable LttP design. Personally, I think the game looks gorgeous (The Wind Waker is my personal favorite Zelda game). It's quite detailed in places and very colorful, and there's a ton of variety in the different locales. Rather than just being a recolor, Lorule actually looks quite different than Hyrule. Many landmarks are in the same place, but Lorule's version are almost always startlingly different and fresh, and I really enjoyed that. Dungeons all have unique designs as well. There's fantastic variety and attention to detail in this game visually. ALBW does an exceptional job of delivering that sense of discovery and adventure Zelda games are known for. It all runs at a smooth 60 fps too, which is great. When it comes to the 3-D visual effect, I didn't think I'd use it much with this game but I love it! As gimmicky as it may sound, the 3-D effect really makes it feel like you're getting a bird's eye view into a living, breathing world. The dungeons feature more vertical designs, full of things that utilize the 3-D in very cool ways. You'll see what I mean when you play. Overall, this is a splendidly beautiful game with many nods to Zelda's past and a meticulous attention to detail.The audio is equally wonderful. Sound effects are very nostalgic, even down to the sound scrolling text makes. The biggest stand out with the sound, however, is the soundtrack. I don't know what it is about 3DS games having exceptional soundtracks, but ALBW is no exception. Many classic tunes get a huge overhaul and sound stupendous. Rather than be the more string symphony you'd expect from a Zelda game, there's quite a few brassy big band orchestra type songs, and I love it. Overall, though, the whimsical music sounds like it was played by a roaming band of skilled Minstrels, and I mean that in the best way possible. New songs fit in with the old perfectly and are just as good in their compositions. I LOVE Hilda's theme, and it stands proud alongside other great modern Zelda character themes like \"Midna's Lament\" and \"Follow Fi.\" Overall, the soundtrack is absolutely amazing, maybe the best Zelda soundtrack in terms of pure composition bliss since Wind Waker.The gameplay in ALBW can be divided into two categories: the nostalgic, traditional Zelda aspects, and the groundbreaking, new changes to the Zelda series' formula. Let's start with the traditional aspects first: The game undeniably feels like a true-to-form classical Zelda adventure. You'll be exploring a huge, fantastical world, with memorable temples and dungeons interspersed throughout. These temples are filled with unique, engaging puzzles centered around special items, with excellent (brand new) boss fights that are thrilling and challenging. You'll be going to various towns, meeting the memorable characters living in Hyrule/Lorule, and undertaking interesting side-quests. All of these core concepts in Zelda are intact and at the top of their game in ALBW. Much of the overworld in the game is very, very similar to ALttP. The temples are in the same locations, for example, but the temple/dungeons are brand new on the inside, as are their awesome bosses. Some features of the overworld are quite different as well. Treasure chests, pieces of heart, etc. are all in new locations. So while the overworld map may make the game feel more like a remake than a sequel at first, you'll find both Hyrule and the very different Lorule to be surprisingly fresh to adventure through. Again, this game feels like a true Zelda game, and all of the core aspects I've discussed here are wonderfully executed.So what is different, you may ask? For one thing, all special items are available from the get-go via a shop run by a new character named Ravio. These items range from series' staples such as the bow and arrow, to new items never seen before but that fit the series perfectly. They're too expensive to buy early in the game, however, so you'll be forced to rent one item at a time until you acquire enough rupees to buy them outright. If you die with a rented item in your possession, it will merely reset and you'll have to go rent the item again. By the end of the game, you'll own every item. Under this system, rupees take on a much more important role. Whereas in past games, I rarely ever used my rupees for much, acruing massive amounts for Link's retirement instead, ALBW makes rupees a very valuable commodity indeed. I really like that. This new item system also means that the game is much less linear than past Zelda games. In theory, you can go to whatever temple you want in whatever order, as long as you know which item(s) will be needed for that dungeon so you can rent it. Some dungeons can't be accessed until you have multiple items, but the game features a very nice fast-travel system that alleviates any tedium and frustration from trying to enter a temple, only to find out you don't have the prerequisite gear yet. For the most part, I love this new item system. It allows for a lot of choice when playing the game, ditching the characteristic linearity past Zelda titles have had.The biggest addition to Link's repertoire is the new ability of Link to become a living painting. At any point, you can go up to a wall, press A, and Link will go into the wall, depicted in a style very reminiscent of Wind Waker's prologue. This ability is really neat by itself, but the way the developers designed puzzles around it is nothing short of brilliant. This game features some of the most clever, mind-bending level/puzzle design for a Zelda game in years. No joke. There are so many great examples of that, but I don't want to spoil it, so I'll just leave it up to you to discover the ingenious examples of this for yourself. Even bosses require you to take full advantage of this ability, and it is so amazing! This painting ability is also the only way to transport between Hyrule and Lorule, by way of thin slivers of teleporation in various walls in the overworld. Needless to say, there have been many times I've been incredibly impressed by the plethora of ways the living-painting mechanic is utilized. You truly have to think outside the box and I really love that. The painting idea is fresh, it's engaging, and it's absolutely brilliant. Bravo Nintendo!So the item-based system and the painting concept are the biggest new ideas in the game, but there are several others worth mentioning as well. All special items can be upgraded by finding and bringing the children of a massive squid-like alien (?) called Maiamai to their mama. Using this upgrade/collectible system, a bow that could shoot only one arrow can be upgraded to shoot three at once, for example. Very cool. It takes Skyward Sword's concept of upgrading gear to the next level. The streetpass feature in this game is amazing. When exchanging streetpass with someone who also has this game, their uniquely designed DARK LINK will appear in your world to fight you. Approach him and you can enter a battle with him. If you win, you'll win a certain number of rupees as a bounty. You get to design your own Dark Link for others to fight as well, determining which items he'll have when other players fight him. The better stocked a Dark Link is and the harder he is to beat, the bigger the bounty you'll win. I absolutely love this feature. It encourages people to use streetpass, and it does so in a meaningful way that doesn't feel at all like a gimmick. I love that.So are there any issues with the game? Objectively, this game is about as close to perfect as they come, but there are some nitpicky things I noticed that I'll voice for the sake of objectivity. For one thing, the game is pretty short by modern Zelda standards. If you play this through for the story alone, it'll easily take you about 15-16 hours, and if you're a completionist, 20 at most. After playing for roughly 17.5 hours, I had done and seen everything in the game, every Maiamai found, every piece of heart discovered, every special item and upgrade acquired, etc. Is that a huge problem? Not really. After all, the original ALttP has a comparable amount of content, but ALBW is so fun, this amount of time flies by. Another issue I had was with totally unbalanced difficulty. Since the new item system allows you to tackle the dungeons in virtually any order, there can be a rather uneven experience when it comes to difficulty. When I played, I went from the incredibly easy early dungeons straight into a water temple that gives OoT's Water Temple a run for its money. Then I went to the equivalent of OoT's Spirit Temple, another challenging dungeon. After that, I went to a temple that was super easy by comparison. Granted, this isn't really a huge flaw, but I imagine a lot of people's first time playing this game will be somewhat chaotic because of that, so I figured I'd give you fair warning. Finally, one more nitpicky thing: Link's voice is kind of strange at first. At times it's deeper like a young man's voice, at others he sounds like a kid, and sometimes he almost sounds like a gremlin (lol). It took me a little while to get used to it, but I eventually warmed up to it and enjoyed it. It grew on me. Really, those are the only \"complaints\" I have with the game, and none of them are bullet points you'd use to knock the game's score down, but it is good to keep these things in mind so you can know what you're getting with the game.All in all, this is a truly special Zelda game. While it is a very nostalgic experience full of nods to the legendary ALttP and several other Zelda games, I actually find the exciting new elements and design choices to be what makes ALBW such a special game. To play a Zelda game with such an overhauled item system with massively increased level of freedom and openness, the brilliantly conceived/executed painting idea, as well as a plethora of other unique elements, has been a genuine delight. I love the Legend of Zelda series, it is my favorite in all video games, but ALBW truly feels special. Its changes to the traditional Zelda formula ultimately are much better and more meaningful than the ones in Skyward Sword are, and truly makes me excited for the direction the series will go from here. So do I recommend it? Absolutely. I enjoyed the game so much that I couldn't put it down until I beat it once I started it (I did stop for food and sleep though, lol). After beating it for the first time, I wanted to jump right back in and start a new game, and that is incredibly rare for me to do. I've always been a 3-D Zelda guy (even though Link's Awakening is one of my favorite Zelda titles), but ALBW has seriously won me over and I'd place it in my top five Zelda games, easily. I'd even go so far as to say it is another flawless Zelda masterpiece that stands proud right alongside its 20-year-old legendary predecessor. So buy it, get ready for an awesome new adventure between worlds, and go save, not one, but two magical kingdoms in need of a true hero of courage!\n",
      "\n"
     ]
    }
   ],
   "source": [
    "sims = index[vec_lda]\n",
    "sims = sorted(enumerate(sims), key=lambda item: -item[1])[0:8]\n",
    "ind = []\n",
    "for s in sims:\n",
    "    print(s, textos[s[0]])\n",
    "    print()\n",
    "    ind.append(s[0])"
   ]
  },
  {
   "cell_type": "code",
   "execution_count": 97,
   "metadata": {},
   "outputs": [
    {
     "data": {
      "text/html": [
       "<div>\n",
       "<style scoped>\n",
       "    .dataframe tbody tr th:only-of-type {\n",
       "        vertical-align: middle;\n",
       "    }\n",
       "\n",
       "    .dataframe tbody tr th {\n",
       "        vertical-align: top;\n",
       "    }\n",
       "\n",
       "    .dataframe thead th {\n",
       "        text-align: right;\n",
       "    }\n",
       "</style>\n",
       "<table border=\"1\" class=\"dataframe\">\n",
       "  <thead>\n",
       "    <tr style=\"text-align: right;\">\n",
       "      <th></th>\n",
       "      <th>reviewerID</th>\n",
       "      <th>asin</th>\n",
       "      <th>reviewerName</th>\n",
       "      <th>helpful</th>\n",
       "      <th>reviewText</th>\n",
       "      <th>overall</th>\n",
       "      <th>summary</th>\n",
       "      <th>unixReviewTime</th>\n",
       "      <th>reviewTime</th>\n",
       "    </tr>\n",
       "  </thead>\n",
       "  <tbody>\n",
       "    <tr>\n",
       "      <td>57350</td>\n",
       "      <td>A33AJ1MSMEIA3C</td>\n",
       "      <td>B0009UBR3A</td>\n",
       "      <td>Anne</td>\n",
       "      <td>[5, 5]</td>\n",
       "      <td>Loved it.  Fell short of Ocarina of Time (whic...</td>\n",
       "      <td>5.0</td>\n",
       "      <td>Almost as good as OOT . . . Almost.</td>\n",
       "      <td>1197590400</td>\n",
       "      <td>12 14, 2007</td>\n",
       "    </tr>\n",
       "    <tr>\n",
       "      <td>146102</td>\n",
       "      <td>A22F3BWM7RAHDA</td>\n",
       "      <td>B002RSQX0Y</td>\n",
       "      <td>P. B. Sharp</td>\n",
       "      <td>[6, 6]</td>\n",
       "      <td>Charm is something that is almost impossible t...</td>\n",
       "      <td>5.0</td>\n",
       "      <td>A rare delight!</td>\n",
       "      <td>1272931200</td>\n",
       "      <td>05 4, 2010</td>\n",
       "    </tr>\n",
       "    <tr>\n",
       "      <td>167738</td>\n",
       "      <td>A2YJ1K8M0KPHMF</td>\n",
       "      <td>B0045ZB66I</td>\n",
       "      <td>techmannn \"techmannn\"</td>\n",
       "      <td>[1, 2]</td>\n",
       "      <td>The good stuff: every now and then this game w...</td>\n",
       "      <td>3.0</td>\n",
       "      <td>For fans of the Baldur's Gate games? Theres lo...</td>\n",
       "      <td>1395792000</td>\n",
       "      <td>03 26, 2014</td>\n",
       "    </tr>\n",
       "    <tr>\n",
       "      <td>203321</td>\n",
       "      <td>AGC75EPFB7CYD</td>\n",
       "      <td>B007W8S2MG</td>\n",
       "      <td>Insomniak1 \"Insomniak\"</td>\n",
       "      <td>[0, 0]</td>\n",
       "      <td>For some reason I could  never get into the Pe...</td>\n",
       "      <td>5.0</td>\n",
       "      <td>Great JRPG, highly recommended for fans of the...</td>\n",
       "      <td>1362268800</td>\n",
       "      <td>03 3, 2013</td>\n",
       "    </tr>\n",
       "    <tr>\n",
       "      <td>130798</td>\n",
       "      <td>A2KJXEXBBUDHXA</td>\n",
       "      <td>B002BSC54I</td>\n",
       "      <td>B. Gentry</td>\n",
       "      <td>[0, 0]</td>\n",
       "      <td>Legend of Zelda games were defining moments fo...</td>\n",
       "      <td>3.0</td>\n",
       "      <td>Same Great Game, Nothing New</td>\n",
       "      <td>1336780800</td>\n",
       "      <td>05 12, 2012</td>\n",
       "    </tr>\n",
       "    <tr>\n",
       "      <td>120126</td>\n",
       "      <td>AJKWF4W7QD4NS</td>\n",
       "      <td>B001QTW2IC</td>\n",
       "      <td>N. Durham \"Big Evil\"</td>\n",
       "      <td>[0, 0]</td>\n",
       "      <td>There used to be an old notion that handheld v...</td>\n",
       "      <td>4.0</td>\n",
       "      <td>An incredibly involving experience</td>\n",
       "      <td>1247356800</td>\n",
       "      <td>07 12, 2009</td>\n",
       "    </tr>\n",
       "    <tr>\n",
       "      <td>663</td>\n",
       "      <td>A1QXN22NDLTQTS</td>\n",
       "      <td>B00000DMB3</td>\n",
       "      <td>David</td>\n",
       "      <td>[3, 3]</td>\n",
       "      <td>Zelda: OOT is centered around a massive, circu...</td>\n",
       "      <td>5.0</td>\n",
       "      <td>Fly Free Bird</td>\n",
       "      <td>1094342400</td>\n",
       "      <td>09 5, 2004</td>\n",
       "    </tr>\n",
       "    <tr>\n",
       "      <td>230023</td>\n",
       "      <td>A27OW0P38B28OP</td>\n",
       "      <td>B00GANWVJE</td>\n",
       "      <td>T. Hill \"Relytia\"</td>\n",
       "      <td>[3, 3]</td>\n",
       "      <td>No matter what angle you look at it from, this...</td>\n",
       "      <td>5.0</td>\n",
       "      <td>This new Legend of Zelda does its lineage proud</td>\n",
       "      <td>1385078400</td>\n",
       "      <td>11 22, 2013</td>\n",
       "    </tr>\n",
       "  </tbody>\n",
       "</table>\n",
       "</div>"
      ],
      "text/plain": [
       "            reviewerID        asin            reviewerName helpful  \\\n",
       "57350   A33AJ1MSMEIA3C  B0009UBR3A                    Anne  [5, 5]   \n",
       "146102  A22F3BWM7RAHDA  B002RSQX0Y             P. B. Sharp  [6, 6]   \n",
       "167738  A2YJ1K8M0KPHMF  B0045ZB66I   techmannn \"techmannn\"  [1, 2]   \n",
       "203321   AGC75EPFB7CYD  B007W8S2MG  Insomniak1 \"Insomniak\"  [0, 0]   \n",
       "130798  A2KJXEXBBUDHXA  B002BSC54I               B. Gentry  [0, 0]   \n",
       "120126   AJKWF4W7QD4NS  B001QTW2IC    N. Durham \"Big Evil\"  [0, 0]   \n",
       "663     A1QXN22NDLTQTS  B00000DMB3                   David  [3, 3]   \n",
       "230023  A27OW0P38B28OP  B00GANWVJE       T. Hill \"Relytia\"  [3, 3]   \n",
       "\n",
       "                                               reviewText  overall  \\\n",
       "57350   Loved it.  Fell short of Ocarina of Time (whic...      5.0   \n",
       "146102  Charm is something that is almost impossible t...      5.0   \n",
       "167738  The good stuff: every now and then this game w...      3.0   \n",
       "203321  For some reason I could  never get into the Pe...      5.0   \n",
       "130798  Legend of Zelda games were defining moments fo...      3.0   \n",
       "120126  There used to be an old notion that handheld v...      4.0   \n",
       "663     Zelda: OOT is centered around a massive, circu...      5.0   \n",
       "230023  No matter what angle you look at it from, this...      5.0   \n",
       "\n",
       "                                                  summary  unixReviewTime  \\\n",
       "57350                 Almost as good as OOT . . . Almost.      1197590400   \n",
       "146102                                    A rare delight!      1272931200   \n",
       "167738  For fans of the Baldur's Gate games? Theres lo...      1395792000   \n",
       "203321  Great JRPG, highly recommended for fans of the...      1362268800   \n",
       "130798                       Same Great Game, Nothing New      1336780800   \n",
       "120126                 An incredibly involving experience      1247356800   \n",
       "663                                         Fly Free Bird      1094342400   \n",
       "230023    This new Legend of Zelda does its lineage proud      1385078400   \n",
       "\n",
       "         reviewTime  \n",
       "57350   12 14, 2007  \n",
       "146102   05 4, 2010  \n",
       "167738  03 26, 2014  \n",
       "203321   03 3, 2013  \n",
       "130798  05 12, 2012  \n",
       "120126  07 12, 2009  \n",
       "663      09 5, 2004  \n",
       "230023  11 22, 2013  "
      ]
     },
     "execution_count": 97,
     "metadata": {},
     "output_type": "execute_result"
    }
   ],
   "source": [
    "df.iloc[ind]"
   ]
  },
  {
   "cell_type": "markdown",
   "metadata": {},
   "source": [
    "O texto de busca apresenta um extensivo review do jogo The Legend of Zelda: Twilight Princess em que o autor comenta de maneira positiva algumas características do jogo como gameplay, história, cenário e efeitos sonoros. Dentre os textos mais similares, temos algumas reviews positivas de outros jogos desta franquia como os reviews de índice 130798, 663 e 230023. Além disso, as outras reviews descrevem outros jogos de maneira similar a que foi descrita no texto de busca."
   ]
  }
 ],
 "metadata": {
  "kernelspec": {
   "display_name": "Python 3",
   "language": "python",
   "name": "python3"
  },
  "language_info": {
   "codemirror_mode": {
    "name": "ipython",
    "version": 3
   },
   "file_extension": ".py",
   "mimetype": "text/x-python",
   "name": "python",
   "nbconvert_exporter": "python",
   "pygments_lexer": "ipython3",
   "version": "3.6.9"
  }
 },
 "nbformat": 4,
 "nbformat_minor": 2
}
