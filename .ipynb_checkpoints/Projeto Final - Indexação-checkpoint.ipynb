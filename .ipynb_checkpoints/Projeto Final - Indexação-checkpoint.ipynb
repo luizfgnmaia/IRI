{
 "cells": [
  {
   "cell_type": "code",
   "execution_count": 1,
   "metadata": {},
   "outputs": [],
   "source": [
    "import pandas as pd\n",
    "import gzip\n",
    "import re\n",
    "\n",
    "from whoosh.index import create_in\n",
    "from whoosh.fields import *\n",
    "from whoosh.qparser import QueryParser, PhrasePlugin, SequencePlugin\n",
    "from whoosh import scoring, columns, fields, index, sorting\n",
    "\n",
    "from IPython.core.display import display, HTML"
   ]
  },
  {
   "cell_type": "markdown",
   "metadata": {},
   "source": [
    "## Base de dados utilizada\n",
    "\n",
    "A base de dados utilizada está disponível em: http://jmcauley.ucsd.edu/data/amazon/ e contém o texto e notas de reviews da seção de video games da Amazon."
   ]
  },
  {
   "cell_type": "code",
   "execution_count": 2,
   "metadata": {},
   "outputs": [],
   "source": [
    "def parse(path):\n",
    "    g = gzip.open(path, 'rb')\n",
    "    for l in g:\n",
    "        yield eval(l)\n",
    "\n",
    "def getDF(path):\n",
    "    i = 0\n",
    "    df = {}\n",
    "    for d in parse(path):\n",
    "        df[i] = d\n",
    "        i += 1\n",
    "    return pd.DataFrame.from_dict(df, orient = 'index')\n",
    "\n",
    "df = getDF('reviews_Video_Games_5.json.gz')"
   ]
  },
  {
   "cell_type": "code",
   "execution_count": 3,
   "metadata": {
    "scrolled": true
   },
   "outputs": [
    {
     "data": {
      "text/html": [
       "<div>\n",
       "<style scoped>\n",
       "    .dataframe tbody tr th:only-of-type {\n",
       "        vertical-align: middle;\n",
       "    }\n",
       "\n",
       "    .dataframe tbody tr th {\n",
       "        vertical-align: top;\n",
       "    }\n",
       "\n",
       "    .dataframe thead th {\n",
       "        text-align: right;\n",
       "    }\n",
       "</style>\n",
       "<table border=\"1\" class=\"dataframe\">\n",
       "  <thead>\n",
       "    <tr style=\"text-align: right;\">\n",
       "      <th></th>\n",
       "      <th>reviewerID</th>\n",
       "      <th>asin</th>\n",
       "      <th>reviewerName</th>\n",
       "      <th>helpful</th>\n",
       "      <th>reviewText</th>\n",
       "      <th>overall</th>\n",
       "      <th>summary</th>\n",
       "      <th>unixReviewTime</th>\n",
       "      <th>reviewTime</th>\n",
       "    </tr>\n",
       "  </thead>\n",
       "  <tbody>\n",
       "    <tr>\n",
       "      <td>0</td>\n",
       "      <td>A2HD75EMZR8QLN</td>\n",
       "      <td>0700099867</td>\n",
       "      <td>123</td>\n",
       "      <td>[8, 12]</td>\n",
       "      <td>Installing the game was a struggle (because of...</td>\n",
       "      <td>1.0</td>\n",
       "      <td>Pay to unlock content? I don't think so.</td>\n",
       "      <td>1341792000</td>\n",
       "      <td>07 9, 2012</td>\n",
       "    </tr>\n",
       "    <tr>\n",
       "      <td>1</td>\n",
       "      <td>A3UR8NLLY1ZHCX</td>\n",
       "      <td>0700099867</td>\n",
       "      <td>Alejandro Henao \"Electronic Junky\"</td>\n",
       "      <td>[0, 0]</td>\n",
       "      <td>If you like rally cars get this game you will ...</td>\n",
       "      <td>4.0</td>\n",
       "      <td>Good rally game</td>\n",
       "      <td>1372550400</td>\n",
       "      <td>06 30, 2013</td>\n",
       "    </tr>\n",
       "    <tr>\n",
       "      <td>2</td>\n",
       "      <td>A1INA0F5CWW3J4</td>\n",
       "      <td>0700099867</td>\n",
       "      <td>Amazon Shopper \"Mr.Repsol\"</td>\n",
       "      <td>[0, 0]</td>\n",
       "      <td>1st shipment received a book instead of the ga...</td>\n",
       "      <td>1.0</td>\n",
       "      <td>Wrong key</td>\n",
       "      <td>1403913600</td>\n",
       "      <td>06 28, 2014</td>\n",
       "    </tr>\n",
       "    <tr>\n",
       "      <td>3</td>\n",
       "      <td>A1DLMTOTHQ4AST</td>\n",
       "      <td>0700099867</td>\n",
       "      <td>ampgreen</td>\n",
       "      <td>[7, 10]</td>\n",
       "      <td>I got this version instead of the PS3 version,...</td>\n",
       "      <td>3.0</td>\n",
       "      <td>awesome game, if it did not crash frequently !!</td>\n",
       "      <td>1315958400</td>\n",
       "      <td>09 14, 2011</td>\n",
       "    </tr>\n",
       "    <tr>\n",
       "      <td>4</td>\n",
       "      <td>A361M14PU2GUEG</td>\n",
       "      <td>0700099867</td>\n",
       "      <td>Angry Ryan \"Ryan A. Forrest\"</td>\n",
       "      <td>[2, 2]</td>\n",
       "      <td>I had Dirt 2 on Xbox 360 and it was an okay ga...</td>\n",
       "      <td>4.0</td>\n",
       "      <td>DIRT 3</td>\n",
       "      <td>1308009600</td>\n",
       "      <td>06 14, 2011</td>\n",
       "    </tr>\n",
       "  </tbody>\n",
       "</table>\n",
       "</div>"
      ],
      "text/plain": [
       "       reviewerID        asin                        reviewerName  helpful  \\\n",
       "0  A2HD75EMZR8QLN  0700099867                                 123  [8, 12]   \n",
       "1  A3UR8NLLY1ZHCX  0700099867  Alejandro Henao \"Electronic Junky\"   [0, 0]   \n",
       "2  A1INA0F5CWW3J4  0700099867          Amazon Shopper \"Mr.Repsol\"   [0, 0]   \n",
       "3  A1DLMTOTHQ4AST  0700099867                            ampgreen  [7, 10]   \n",
       "4  A361M14PU2GUEG  0700099867        Angry Ryan \"Ryan A. Forrest\"   [2, 2]   \n",
       "\n",
       "                                          reviewText  overall  \\\n",
       "0  Installing the game was a struggle (because of...      1.0   \n",
       "1  If you like rally cars get this game you will ...      4.0   \n",
       "2  1st shipment received a book instead of the ga...      1.0   \n",
       "3  I got this version instead of the PS3 version,...      3.0   \n",
       "4  I had Dirt 2 on Xbox 360 and it was an okay ga...      4.0   \n",
       "\n",
       "                                           summary  unixReviewTime  \\\n",
       "0         Pay to unlock content? I don't think so.      1341792000   \n",
       "1                                  Good rally game      1372550400   \n",
       "2                                        Wrong key      1403913600   \n",
       "3  awesome game, if it did not crash frequently !!      1315958400   \n",
       "4                                           DIRT 3      1308009600   \n",
       "\n",
       "    reviewTime  \n",
       "0   07 9, 2012  \n",
       "1  06 30, 2013  \n",
       "2  06 28, 2014  \n",
       "3  09 14, 2011  \n",
       "4  06 14, 2011  "
      ]
     },
     "execution_count": 3,
     "metadata": {},
     "output_type": "execute_result"
    }
   ],
   "source": [
    "df.head()"
   ]
  },
  {
   "cell_type": "markdown",
   "metadata": {},
   "source": [
    "Renomeando os missings"
   ]
  },
  {
   "cell_type": "code",
   "execution_count": 4,
   "metadata": {
    "scrolled": true
   },
   "outputs": [
    {
     "data": {
      "text/plain": [
       "reviewerID           0\n",
       "asin                 0\n",
       "reviewerName      2813\n",
       "helpful              0\n",
       "reviewText           0\n",
       "overall              0\n",
       "summary              0\n",
       "unixReviewTime       0\n",
       "reviewTime           0\n",
       "dtype: int64"
      ]
     },
     "execution_count": 4,
     "metadata": {},
     "output_type": "execute_result"
    }
   ],
   "source": [
    "df.isnull().sum()"
   ]
  },
  {
   "cell_type": "code",
   "execution_count": 5,
   "metadata": {},
   "outputs": [],
   "source": [
    "df = df.fillna(\"-\")"
   ]
  },
  {
   "cell_type": "markdown",
   "metadata": {},
   "source": [
    "Mudando o formato da data para facilitar ordenação"
   ]
  },
  {
   "cell_type": "code",
   "execution_count": 6,
   "metadata": {},
   "outputs": [],
   "source": [
    "df['reviewTime'] = [re.sub(',' , '', x) for x in df['reviewTime']]\n",
    "data = []\n",
    "\n",
    "for row in range(len(df)):\n",
    "    s = df['reviewTime'][row].split()\n",
    "    if len(s[0]) == 1:\n",
    "        s[0] = '0' + s[0]\n",
    "    if len(s[1]) == 1:\n",
    "        s[1] = '0' + s[1]\n",
    "    data.append(s[2] + '-' + s[0] + '-' + s[1])\n",
    "\n",
    "df['reviewTime'] = data"
   ]
  },
  {
   "cell_type": "code",
   "execution_count": 7,
   "metadata": {},
   "outputs": [
    {
     "data": {
      "text/html": [
       "<div>\n",
       "<style scoped>\n",
       "    .dataframe tbody tr th:only-of-type {\n",
       "        vertical-align: middle;\n",
       "    }\n",
       "\n",
       "    .dataframe tbody tr th {\n",
       "        vertical-align: top;\n",
       "    }\n",
       "\n",
       "    .dataframe thead th {\n",
       "        text-align: right;\n",
       "    }\n",
       "</style>\n",
       "<table border=\"1\" class=\"dataframe\">\n",
       "  <thead>\n",
       "    <tr style=\"text-align: right;\">\n",
       "      <th></th>\n",
       "      <th>reviewerID</th>\n",
       "      <th>asin</th>\n",
       "      <th>reviewerName</th>\n",
       "      <th>helpful</th>\n",
       "      <th>reviewText</th>\n",
       "      <th>overall</th>\n",
       "      <th>summary</th>\n",
       "      <th>unixReviewTime</th>\n",
       "      <th>reviewTime</th>\n",
       "    </tr>\n",
       "  </thead>\n",
       "  <tbody>\n",
       "    <tr>\n",
       "      <td>0</td>\n",
       "      <td>A2HD75EMZR8QLN</td>\n",
       "      <td>0700099867</td>\n",
       "      <td>123</td>\n",
       "      <td>[8, 12]</td>\n",
       "      <td>Installing the game was a struggle (because of...</td>\n",
       "      <td>1.0</td>\n",
       "      <td>Pay to unlock content? I don't think so.</td>\n",
       "      <td>1341792000</td>\n",
       "      <td>2012-07-09</td>\n",
       "    </tr>\n",
       "    <tr>\n",
       "      <td>1</td>\n",
       "      <td>A3UR8NLLY1ZHCX</td>\n",
       "      <td>0700099867</td>\n",
       "      <td>Alejandro Henao \"Electronic Junky\"</td>\n",
       "      <td>[0, 0]</td>\n",
       "      <td>If you like rally cars get this game you will ...</td>\n",
       "      <td>4.0</td>\n",
       "      <td>Good rally game</td>\n",
       "      <td>1372550400</td>\n",
       "      <td>2013-06-30</td>\n",
       "    </tr>\n",
       "    <tr>\n",
       "      <td>2</td>\n",
       "      <td>A1INA0F5CWW3J4</td>\n",
       "      <td>0700099867</td>\n",
       "      <td>Amazon Shopper \"Mr.Repsol\"</td>\n",
       "      <td>[0, 0]</td>\n",
       "      <td>1st shipment received a book instead of the ga...</td>\n",
       "      <td>1.0</td>\n",
       "      <td>Wrong key</td>\n",
       "      <td>1403913600</td>\n",
       "      <td>2014-06-28</td>\n",
       "    </tr>\n",
       "    <tr>\n",
       "      <td>3</td>\n",
       "      <td>A1DLMTOTHQ4AST</td>\n",
       "      <td>0700099867</td>\n",
       "      <td>ampgreen</td>\n",
       "      <td>[7, 10]</td>\n",
       "      <td>I got this version instead of the PS3 version,...</td>\n",
       "      <td>3.0</td>\n",
       "      <td>awesome game, if it did not crash frequently !!</td>\n",
       "      <td>1315958400</td>\n",
       "      <td>2011-09-14</td>\n",
       "    </tr>\n",
       "    <tr>\n",
       "      <td>4</td>\n",
       "      <td>A361M14PU2GUEG</td>\n",
       "      <td>0700099867</td>\n",
       "      <td>Angry Ryan \"Ryan A. Forrest\"</td>\n",
       "      <td>[2, 2]</td>\n",
       "      <td>I had Dirt 2 on Xbox 360 and it was an okay ga...</td>\n",
       "      <td>4.0</td>\n",
       "      <td>DIRT 3</td>\n",
       "      <td>1308009600</td>\n",
       "      <td>2011-06-14</td>\n",
       "    </tr>\n",
       "    <tr>\n",
       "      <td>...</td>\n",
       "      <td>...</td>\n",
       "      <td>...</td>\n",
       "      <td>...</td>\n",
       "      <td>...</td>\n",
       "      <td>...</td>\n",
       "      <td>...</td>\n",
       "      <td>...</td>\n",
       "      <td>...</td>\n",
       "      <td>...</td>\n",
       "    </tr>\n",
       "    <tr>\n",
       "      <td>231775</td>\n",
       "      <td>A1ICREREXO9J81</td>\n",
       "      <td>B00KHECZXO</td>\n",
       "      <td>Frustrated gamer</td>\n",
       "      <td>[0, 1]</td>\n",
       "      <td>Funny people on here are rating sellers that a...</td>\n",
       "      <td>5.0</td>\n",
       "      <td>this is for rating the system not the seller</td>\n",
       "      <td>1405814400</td>\n",
       "      <td>2014-07-20</td>\n",
       "    </tr>\n",
       "    <tr>\n",
       "      <td>231776</td>\n",
       "      <td>A3VVMIMMTYQV5F</td>\n",
       "      <td>B00KHECZXO</td>\n",
       "      <td>Johnny Saigon</td>\n",
       "      <td>[8, 11]</td>\n",
       "      <td>All this is is the Deluxe 32GB Wii U with Mari...</td>\n",
       "      <td>1.0</td>\n",
       "      <td>Get the Other Bundle Which Includes Extra Whee...</td>\n",
       "      <td>1403308800</td>\n",
       "      <td>2014-06-21</td>\n",
       "    </tr>\n",
       "    <tr>\n",
       "      <td>231777</td>\n",
       "      <td>A1DD4B97M4DUC5</td>\n",
       "      <td>B00KHECZXO</td>\n",
       "      <td>migit</td>\n",
       "      <td>[62, 66]</td>\n",
       "      <td>The package should have more red on it and sho...</td>\n",
       "      <td>1.0</td>\n",
       "      <td>Fake bundle</td>\n",
       "      <td>1401321600</td>\n",
       "      <td>2014-05-29</td>\n",
       "    </tr>\n",
       "    <tr>\n",
       "      <td>231778</td>\n",
       "      <td>A2Q9CNJ4T6ZK99</td>\n",
       "      <td>B00KHECZXO</td>\n",
       "      <td>Philip Brown \"Philip &amp; Chana\"</td>\n",
       "      <td>[33, 36]</td>\n",
       "      <td>Can get this at Newegg for $329.00 and the pac...</td>\n",
       "      <td>1.0</td>\n",
       "      <td>Looks Like We Have Gougers Again.</td>\n",
       "      <td>1401667200</td>\n",
       "      <td>2014-06-02</td>\n",
       "    </tr>\n",
       "    <tr>\n",
       "      <td>231779</td>\n",
       "      <td>A27CD59R5U58GG</td>\n",
       "      <td>B00KHECZXO</td>\n",
       "      <td>ThommyGunn</td>\n",
       "      <td>[23, 28]</td>\n",
       "      <td>This is not real, you can go to ANY retail sto...</td>\n",
       "      <td>1.0</td>\n",
       "      <td>DO NOT BUY HERE LOOKS TO BE EUROPEAN VERSION</td>\n",
       "      <td>1401840000</td>\n",
       "      <td>2014-06-04</td>\n",
       "    </tr>\n",
       "  </tbody>\n",
       "</table>\n",
       "<p>231780 rows × 9 columns</p>\n",
       "</div>"
      ],
      "text/plain": [
       "            reviewerID        asin                        reviewerName  \\\n",
       "0       A2HD75EMZR8QLN  0700099867                                 123   \n",
       "1       A3UR8NLLY1ZHCX  0700099867  Alejandro Henao \"Electronic Junky\"   \n",
       "2       A1INA0F5CWW3J4  0700099867          Amazon Shopper \"Mr.Repsol\"   \n",
       "3       A1DLMTOTHQ4AST  0700099867                            ampgreen   \n",
       "4       A361M14PU2GUEG  0700099867        Angry Ryan \"Ryan A. Forrest\"   \n",
       "...                ...         ...                                 ...   \n",
       "231775  A1ICREREXO9J81  B00KHECZXO                    Frustrated gamer   \n",
       "231776  A3VVMIMMTYQV5F  B00KHECZXO                       Johnny Saigon   \n",
       "231777  A1DD4B97M4DUC5  B00KHECZXO                               migit   \n",
       "231778  A2Q9CNJ4T6ZK99  B00KHECZXO       Philip Brown \"Philip & Chana\"   \n",
       "231779  A27CD59R5U58GG  B00KHECZXO                          ThommyGunn   \n",
       "\n",
       "         helpful                                         reviewText  overall  \\\n",
       "0        [8, 12]  Installing the game was a struggle (because of...      1.0   \n",
       "1         [0, 0]  If you like rally cars get this game you will ...      4.0   \n",
       "2         [0, 0]  1st shipment received a book instead of the ga...      1.0   \n",
       "3        [7, 10]  I got this version instead of the PS3 version,...      3.0   \n",
       "4         [2, 2]  I had Dirt 2 on Xbox 360 and it was an okay ga...      4.0   \n",
       "...          ...                                                ...      ...   \n",
       "231775    [0, 1]  Funny people on here are rating sellers that a...      5.0   \n",
       "231776   [8, 11]  All this is is the Deluxe 32GB Wii U with Mari...      1.0   \n",
       "231777  [62, 66]  The package should have more red on it and sho...      1.0   \n",
       "231778  [33, 36]  Can get this at Newegg for $329.00 and the pac...      1.0   \n",
       "231779  [23, 28]  This is not real, you can go to ANY retail sto...      1.0   \n",
       "\n",
       "                                                  summary  unixReviewTime  \\\n",
       "0                Pay to unlock content? I don't think so.      1341792000   \n",
       "1                                         Good rally game      1372550400   \n",
       "2                                               Wrong key      1403913600   \n",
       "3         awesome game, if it did not crash frequently !!      1315958400   \n",
       "4                                                  DIRT 3      1308009600   \n",
       "...                                                   ...             ...   \n",
       "231775       this is for rating the system not the seller      1405814400   \n",
       "231776  Get the Other Bundle Which Includes Extra Whee...      1403308800   \n",
       "231777                                        Fake bundle      1401321600   \n",
       "231778                  Looks Like We Have Gougers Again.      1401667200   \n",
       "231779       DO NOT BUY HERE LOOKS TO BE EUROPEAN VERSION      1401840000   \n",
       "\n",
       "        reviewTime  \n",
       "0       2012-07-09  \n",
       "1       2013-06-30  \n",
       "2       2014-06-28  \n",
       "3       2011-09-14  \n",
       "4       2011-06-14  \n",
       "...            ...  \n",
       "231775  2014-07-20  \n",
       "231776  2014-06-21  \n",
       "231777  2014-05-29  \n",
       "231778  2014-06-02  \n",
       "231779  2014-06-04  \n",
       "\n",
       "[231780 rows x 9 columns]"
      ]
     },
     "execution_count": 7,
     "metadata": {},
     "output_type": "execute_result"
    }
   ],
   "source": [
    "df"
   ]
  },
  {
   "cell_type": "markdown",
   "metadata": {},
   "source": [
    "<hr>\n",
    "\n",
    "## Indexação\n",
    "\n",
    "1. Utilizando o Whoosh indexar o seu corpus e implementar uma funçao que apresentes para os top 10 documentos da resposta a uma consulta, trechos dos documentos contendo os termos da consulta."
   ]
  },
  {
   "cell_type": "markdown",
   "metadata": {},
   "source": [
    "Indexando o corpus"
   ]
  },
  {
   "cell_type": "code",
   "execution_count": 8,
   "metadata": {},
   "outputs": [],
   "source": [
    "schema = Schema(reviewerID = TEXT(sortable = True), asin = TEXT(sortable = True, stored = True), reviewerName = TEXT(stored = True),\n",
    "                reviewText = TEXT(stored = True), overall = NUMERIC(sortable = True, stored = True), summary = TEXT(stored = True), \n",
    "                unixReviewTime = NUMERIC(sortable = True, stored = True), reviewTime = TEXT(sortable = True, stored = True))"
   ]
  },
  {
   "cell_type": "code",
   "execution_count": 9,
   "metadata": {},
   "outputs": [],
   "source": [
    "myindex = create_in(\"indexdir\", schema)\n",
    "writer = myindex.writer()"
   ]
  },
  {
   "cell_type": "code",
   "execution_count": 10,
   "metadata": {},
   "outputs": [],
   "source": [
    "for row in df.iterrows():\n",
    "    writer.add_document(reviewerID = row[1][0], asin = row[1][1], reviewerName = row[1][2], reviewText = row[1][4],\n",
    "                        overall = row[1][5], summary = row[1][6], unixReviewTime = row[1][7], reviewTime = row[1][8])"
   ]
  },
  {
   "cell_type": "code",
   "execution_count": 11,
   "metadata": {},
   "outputs": [],
   "source": [
    "writer.commit()"
   ]
  },
  {
   "cell_type": "markdown",
   "metadata": {},
   "source": [
    "Realizando consultas"
   ]
  },
  {
   "cell_type": "code",
   "execution_count": 12,
   "metadata": {},
   "outputs": [],
   "source": [
    "def busca(consulta, limit = 10):\n",
    "    query = QueryParser('reviewText', myindex.schema).parse(consulta)\n",
    "    with myindex.searcher(weighting = scoring.TF_IDF()) as searcher: # utilizando tf-idf\n",
    "        results = [(dict(hit), hit.highlights('reviewText')) for hit in searcher.search(query, limit = limit)]\n",
    "    return results"
   ]
  },
  {
   "cell_type": "code",
   "execution_count": 13,
   "metadata": {},
   "outputs": [],
   "source": [
    "res = busca('smash bros melee')"
   ]
  },
  {
   "cell_type": "code",
   "execution_count": 14,
   "metadata": {
    "scrolled": true
   },
   "outputs": [
    {
     "data": {
      "text/plain": [
       "10"
      ]
     },
     "execution_count": 14,
     "metadata": {},
     "output_type": "execute_result"
    }
   ],
   "source": [
    "len(res)"
   ]
  },
  {
   "cell_type": "code",
   "execution_count": 15,
   "metadata": {
    "scrolled": false
   },
   "outputs": [
    {
     "data": {
      "text/html": [
       "character in Super <b class=\"match term0\">Smash</b> <b class=\"match term1\">Bros</b>. Brawl).Each character...her debut in Super <b class=\"match term0\">Smash</b> <b class=\"match term1\">Bros</b>. <b class=\"match term2\">Melee</b>) . . . if you hold the jump...in the first Super <b class=\"match term0\">Smash</b> <b class=\"match term1\">Bros</b>. on the Classic Mushroom"
      ],
      "text/plain": [
       "<IPython.core.display.HTML object>"
      ]
     },
     "metadata": {},
     "output_type": "display_data"
    },
    {
     "data": {
      "text/html": [
       "and beyond Super <b class=\"match term0\">Smash</b> <b class=\"match term1\">Bros</b>. <b class=\"match term2\">Melee</b> in almost every way...thrown in from Super <b class=\"match term0\">Smash</b> <b class=\"match term1\">Bros</b>. <b class=\"match term2\">Melee</b>.  There are also new...as well.Super <b class=\"match term0\">Smash</b> <b class=\"match term1\">Bros</b>. Brawl also supports"
      ],
      "text/plain": [
       "<IPython.core.display.HTML object>"
      ]
     },
     "metadata": {},
     "output_type": "display_data"
    },
    {
     "data": {
      "text/html": [
       "and so on). The <b class=\"match term0\">Smash</b> <b class=\"match term1\">Bros</b> cast must team up - splintered...in detail on the <b class=\"match term0\">Smash</b> <b class=\"match term1\">Bros</b>. site), and the final boss...the jump from Super <b class=\"match term0\">Smash</b> <b class=\"match term1\">Bros</b>. to <b class=\"match term2\">Melee</b> feels stronger than"
      ],
      "text/plain": [
       "<IPython.core.display.HTML object>"
      ]
     },
     "metadata": {},
     "output_type": "display_data"
    },
    {
     "data": {
      "text/html": [
       "addicted to Super <b class=\"match term0\">Smash</b> <b class=\"match term1\">Bros</b>. <b class=\"match term2\">Melee</b> for a good 7 years (pretty...reveals that the <b class=\"match term0\">Smash</b> <b class=\"match term1\">Bros</b>. series was constructed...end of the day Super <b class=\"match term0\">Smash</b> <b class=\"match term1\">Bros</b>. Brawl is a thoroughly"
      ],
      "text/plain": [
       "<IPython.core.display.HTML object>"
      ]
     },
     "metadata": {},
     "output_type": "display_data"
    },
    {
     "data": {
      "text/html": [
       "stages from Super <b class=\"match term0\">Smash</b> <b class=\"match term1\">Bros</b>.: <b class=\"match term2\">Melee</b>. I rather like the Donkey...problem with Super <b class=\"match term0\">Smash</b> <b class=\"match term1\">Bros</b>. is its online mode. Lag...good to own a Super <b class=\"match term0\">Smash</b> <b class=\"match term1\">Bros</b>. game that you can play"
      ],
      "text/plain": [
       "<IPython.core.display.HTML object>"
      ]
     },
     "metadata": {},
     "output_type": "display_data"
    },
    {
     "data": {
      "text/html": [
       "a Wii. The Super <b class=\"match term0\">Smash</b> <b class=\"match term1\">Bros</b>. games won me over from...that made the first <b class=\"match term0\">Smash</b> <b class=\"match term1\">Bros</b>. so great. The Final <b class=\"match term0\">Smash</b> mechanic in particular...entry in the Super <b class=\"match term0\">Smash</b> <b class=\"match term1\">Bros</b>. series, and worthy of"
      ],
      "text/plain": [
       "<IPython.core.display.HTML object>"
      ]
     },
     "metadata": {},
     "output_type": "display_data"
    },
    {
     "data": {
      "text/html": [
       "platforms, 10-man <b class=\"match term3\">melee</b>, 100-man <b class=\"match term3\">melee</b>, endless <b class=\"match term3\">melee</b>, cruel <b class=\"match term3\">melee</b> which is extremely...me by my name.Super <b class=\"match term0\">Smash</b> Brothers <b class=\"match term2\">Melee</b> Evaluation:Fun Factor...Read my other <b class=\"match term0\">Smash</b> <b class=\"match term1\">Bros</b>. <b class=\"match term2\">Melee</b> review to find out"
      ],
      "text/plain": [
       "<IPython.core.display.HTML object>"
      ]
     },
     "metadata": {},
     "output_type": "display_data"
    },
    {
     "data": {
      "text/html": [
       "and I are Super <b class=\"match term0\">Smash</b> <b class=\"match term1\">Bros</b>. Addicts. We played the...would have foreseen. <b class=\"match term0\">Smash</b> Balls are irritating...rest of this game to <b class=\"match term2\">Melee</b>, because <b class=\"match term2\">Melee</b> did it so right. My family"
      ],
      "text/plain": [
       "<IPython.core.display.HTML object>"
      ]
     },
     "metadata": {},
     "output_type": "display_data"
    },
    {
     "data": {
      "text/html": [
       "the wolf.Super <b class=\"match term0\">Smash</b> <b class=\"match term1\">Bros</b>. Brawl is another major...to <b class=\"match term0\">Smash</b> <b class=\"match term1\">Bros</b>. <b class=\"match term2\">Melee</b> for the GameCube, Brawl...you've experienced <b class=\"match term2\">Melee</b> or the original <b class=\"match term0\">Smash</b> <b class=\"match term1\">Bros</b>.; Brawl is a disgrace"
      ],
      "text/plain": [
       "<IPython.core.display.HTML object>"
      ]
     },
     "metadata": {},
     "output_type": "display_data"
    },
    {
     "data": {
      "text/html": [
       "<b class=\"match term0\">Smash</b> <b class=\"match term1\">Bros</b> series that started...before in Super <b class=\"match term0\">Smash</b> <b class=\"match term1\">Bros</b> <b class=\"match term2\">Melee</b> that made its way into...long before the next <b class=\"match term0\">Smash</b> <b class=\"match term1\">Bros</b> game will be released"
      ],
      "text/plain": [
       "<IPython.core.display.HTML object>"
      ]
     },
     "metadata": {},
     "output_type": "display_data"
    }
   ],
   "source": [
    "for i in range(10):\n",
    "    display(HTML(res[i][1]))"
   ]
  },
  {
   "cell_type": "markdown",
   "metadata": {},
   "source": [
    "<hr>\n",
    "\n",
    "2. Contruir uma funçao de busca que aceite consultas frasais e facetaçao dos resultados."
   ]
  },
  {
   "cell_type": "code",
   "execution_count": 16,
   "metadata": {
    "scrolled": true
   },
   "outputs": [],
   "source": [
    "def busca2(consulta, limit = 10, frasal = False, sort_by = [], reverse = []): # sort_by = vetor de char das variáveis de ordenação, reverse = vetor booleano que indica se é pra reverter a ordem do sort\n",
    "    \n",
    "    if len(sort_by) != len(reverse):\n",
    "         raise Exception('Tamanho do sort_by deve ser igual ao tamanho do reverse')\n",
    "    \n",
    "    if frasal:\n",
    "        consulta = '\"' + consulta + '\"'\n",
    "        \n",
    "    query = QueryParser('reviewText', myindex.schema).parse(consulta)\n",
    "    \n",
    "    if len(sort_by) > 0:\n",
    "        \n",
    "        if type(sort_by) != list:\n",
    "            sort_by = [sort_by]\n",
    "        if type(reverse) != list:\n",
    "            reverse = [reverse]\n",
    "\n",
    "        facets = []\n",
    "        for i in range(len(sort_by)):\n",
    "            if sort_by[i] == 'score':\n",
    "                 facets.append(sorting.ScoreFacet())\n",
    "            else:\n",
    "                facets.append(sorting.FieldFacet(sort_by[i], reverse[i]))\n",
    "\n",
    "        with myindex.searcher(weighting = scoring.TF_IDF()) as searcher:\n",
    "            results = [(dict(hit), hit.highlights('reviewText')) for hit in searcher.search(query, limit = limit, sortedby = facets)]\n",
    "        return results\n",
    "    \n",
    "    else:\n",
    "        with myindex.searcher(weighting = scoring.TF_IDF()) as searcher: \n",
    "            results = [(dict(hit), hit.highlights('reviewText')) for hit in searcher.search(query, limit = limit)]\n",
    "        return results"
   ]
  },
  {
   "cell_type": "code",
   "execution_count": 17,
   "metadata": {},
   "outputs": [
    {
     "data": {
      "text/plain": [
       "86"
      ]
     },
     "execution_count": 17,
     "metadata": {},
     "output_type": "execute_result"
    }
   ],
   "source": [
    "res = busca2('the legend of zelda: twilight princess', limit = 9999, frasal = True) \n",
    "len(res)"
   ]
  },
  {
   "cell_type": "code",
   "execution_count": 18,
   "metadata": {
    "scrolled": false
   },
   "outputs": [
    {
     "data": {
      "text/plain": [
       "162"
      ]
     },
     "execution_count": 18,
     "metadata": {},
     "output_type": "execute_result"
    }
   ],
   "source": [
    "res2 = busca2('the legend of zelda: twilight princess', limit = 9999, frasal = False) \n",
    "len(res2)"
   ]
  },
  {
   "cell_type": "markdown",
   "metadata": {},
   "source": [
    "Podemos ver que quando utilizamos **frasal = True**, a função retorna menos resultados como esperado."
   ]
  },
  {
   "cell_type": "markdown",
   "metadata": {},
   "source": [
    "No entanto, o highlight acaba marcando todos os tokens e não apenas a frase, tem uma issue disso em:\n",
    "https://github.com/whoosh-community/whoosh/issues/486."
   ]
  },
  {
   "cell_type": "code",
   "execution_count": 19,
   "metadata": {
    "scrolled": true
   },
   "outputs": [
    {
     "data": {
      "text/html": [
       "too bold to say that <b class=\"match term0\">Legend</b> Of <b class=\"match term1\">Zelda</b>: <b class=\"match term2\">Twilight</b> <b class=\"match term3\">Princess</b> is the greatest...70 hours of gameplay. <b class=\"match term0\">Legend</b> Of <b class=\"match term1\">Zelda</b>: <b class=\"match term2\">Twilight</b> <b class=\"match term3\">Princess</b> breaks a traditional...of video games. <b class=\"match term0\">Legend</b> Of <b class=\"match term1\">Zelda</b>: <b class=\"match term2\">Twilight</b> <b class=\"match term3\">Princess</b> is an epic, and nothing"
      ],
      "text/plain": [
       "<IPython.core.display.HTML object>"
      ]
     },
     "metadata": {},
     "output_type": "display_data"
    },
    {
     "data": {
      "text/html": [
       "worth the money.The <b class=\"match term0\">Legend</b> Of <b class=\"match term1\">Zelda</b>: <b class=\"match term2\">Twilight</b> <b class=\"match term3\">Princess</b> brings out the...time to buy The <b class=\"match term0\">Legend</b> Of <b class=\"match term1\">Zelda</b>: <b class=\"match term2\">Twilight</b> <b class=\"match term3\">Princess</b>. It really is a epic...I loved playing The <b class=\"match term0\">Legend</b> Of <b class=\"match term1\">Zelda</b>: <b class=\"match term2\">Twilight</b> <b class=\"match term3\">Princess</b> when it came out"
      ],
      "text/plain": [
       "<IPython.core.display.HTML object>"
      ]
     },
     "metadata": {},
     "output_type": "display_data"
    },
    {
     "data": {
      "text/html": [
       "Nintendo Wii, The <b class=\"match term0\">Legend</b> of <b class=\"match term1\">Zelda</b>: <b class=\"match term2\">Twilight</b> <b class=\"match term3\">Princess</b> is finally here.Twilight...From the get go, The <b class=\"match term0\">Legend</b> of <b class=\"match term1\">Zelda</b> <b class=\"match term2\">Twilight</b> <b class=\"match term3\">Princess</b> is instantly absorbing...what its worth, The <b class=\"match term0\">Legend</b> of <b class=\"match term1\">Zelda</b>: <b class=\"match term2\">Twilight</b> <b class=\"match term3\">Princess</b> is very good. Its"
      ],
      "text/plain": [
       "<IPython.core.display.HTML object>"
      ]
     },
     "metadata": {},
     "output_type": "display_data"
    },
    {
     "data": {
      "text/html": [
       "Nintendo Wii, The <b class=\"match term0\">Legend</b> of <b class=\"match term1\">Zelda</b>: <b class=\"match term2\">Twilight</b> <b class=\"match term3\">Princess</b> is finally here...From the get go, The <b class=\"match term0\">Legend</b> of <b class=\"match term1\">Zelda</b> <b class=\"match term2\">Twilight</b> <b class=\"match term3\">Princess</b> is instantly absorbing...what its worth, The <b class=\"match term0\">Legend</b> of <b class=\"match term1\">Zelda</b>: <b class=\"match term2\">Twilight</b> <b class=\"match term3\">Princess</b> is very good. Its"
      ],
      "text/plain": [
       "<IPython.core.display.HTML object>"
      ]
     },
     "metadata": {},
     "output_type": "display_data"
    },
    {
     "data": {
      "text/html": [
       "not only moves the <b class=\"match term0\">Legend</b> of <b class=\"match term1\">Zelda</b> franchise forward...of the excellent The <b class=\"match term0\">Legend</b> of <b class=\"match term1\">Zelda</b>: <b class=\"match term2\">Twilight</b> <b class=\"match term3\">Princess</b>, but as gamers make...adventure game (The <b class=\"match term0\">Legend</b> of <b class=\"match term1\">Zelda</b>), one of the earliest"
      ],
      "text/plain": [
       "<IPython.core.display.HTML object>"
      ]
     },
     "metadata": {},
     "output_type": "display_data"
    },
    {
     "data": {
      "text/html": [
       "my friends is The <b class=\"match term0\">Legend</b> Of <b class=\"match term1\">Zelda</b> <b class=\"match term2\">Twilight</b> <b class=\"match term3\">Princess</b>.  I'm not going to...game....put simply..<b class=\"match term2\">Twilight</b> <b class=\"match term3\">Princess</b> is an awesome game...is something I wish <b class=\"match term2\">Twilight</b> <b class=\"match term3\">Princess</b> did.  Don't get me"
      ],
      "text/plain": [
       "<IPython.core.display.HTML object>"
      ]
     },
     "metadata": {},
     "output_type": "display_data"
    },
    {
     "data": {
      "text/html": [
       "the release of The <b class=\"match term0\">Legend</b> of <b class=\"match term1\">Zelda</b>: The <b class=\"match term2\">Twilight</b> <b class=\"match term3\">Princess</b>, Nintendo shows...t go thinking that <b class=\"match term2\">Twilight</b> <b class=\"match term3\">Princess</b> is an exact port...the story of the <b class=\"match term2\">Twilight</b> <b class=\"match term3\">Princess</b>, there are \"<b class=\"match term2\">Twilight</b>\" versions of the"
      ],
      "text/plain": [
       "<IPython.core.display.HTML object>"
      ]
     },
     "metadata": {},
     "output_type": "display_data"
    },
    {
     "data": {
      "text/html": [
       "though, The <b class=\"match term0\">Legend</b> of <b class=\"match term1\">Zelda</b>: <b class=\"match term2\">Twilight</b> <b class=\"match term3\">Princess</b> is engaging, challenging...the events of The <b class=\"match term0\">Legend</b> of <b class=\"match term1\">Zelda</b>: Ocarina of Time, the...of Hyrule while <b class=\"match term1\">Zelda</b> is, as always, the <b class=\"match term4\">princess</b> of Hyrule.  In an"
      ],
      "text/plain": [
       "<IPython.core.display.HTML object>"
      ]
     },
     "metadata": {},
     "output_type": "display_data"
    },
    {
     "data": {
      "text/html": [
       "Mario\" series, the \"<b class=\"match term0\">Legend</b> of <b class=\"match term1\">Zelda</b>\" series, and \"Star Fox...around the time \"The <b class=\"match term0\">Legend</b> of <b class=\"match term1\">Zelda</b>: The <b class=\"match term2\">Twilight</b> <b class=\"match term3\">Princess</b>\" came about:\"The...you can bet that '<b class=\"match term2\">Twilight</b> <b class=\"match term3\">Princess</b>' will be the kind"
      ],
      "text/plain": [
       "<IPython.core.display.HTML object>"
      ]
     },
     "metadata": {},
     "output_type": "display_data"
    },
    {
     "data": {
      "text/html": [
       "you have played The <b class=\"match term0\">Legend</b> of <b class=\"match term1\">Zelda</b> <b class=\"match term2\">Twilight</b> <b class=\"match term3\">Princess</b> on the GameCube...of. They advertised <b class=\"match term2\">Twilight</b> <b class=\"match term3\">Princess</b> and made statements...the Wii version of <b class=\"match term2\">Twilight</b> <b class=\"match term3\">Princess</b>, Super Mario Galaxy"
      ],
      "text/plain": [
       "<IPython.core.display.HTML object>"
      ]
     },
     "metadata": {},
     "output_type": "display_data"
    }
   ],
   "source": [
    "for i in range(10):\n",
    "    display(HTML(res[i][1]))"
   ]
  },
  {
   "cell_type": "markdown",
   "metadata": {},
   "source": [
    "Ordenando os resultados pela nota (maior pro menor) e data (mais recente para mais antigo)"
   ]
  },
  {
   "cell_type": "code",
   "execution_count": 20,
   "metadata": {},
   "outputs": [],
   "source": [
    "res = busca2('the legend of zelda twilight princess', limit = 9999, frasal = False, sort_by = ['overall', 'reviewTime'], \n",
    "             reverse = [True, True])"
   ]
  },
  {
   "cell_type": "code",
   "execution_count": 22,
   "metadata": {},
   "outputs": [
    {
     "data": {
      "text/plain": [
       "[({'asin': 'B0009UBR3A',\n",
       "   'overall': 5.0,\n",
       "   'reviewText': \"the legend of zelda twilight princess is the greatest video game in the universe a true classic the best of the best the legend of zelda twilight princess rocks the legend of zelda twilight princess storyline is the greatest storyline in the universe a true classic the best of the best the legend of zelda twilight princess storyline rocks metroid other m is the greatest video game in the universe true classic the best of the best metroid other m rocks nintendo is the greatest video game company in the universe there true genius's the best of the best nintendo rocks all the games that nintendo made over the years are the greatest games in the universe there true classics the best of the best all of nintendo games rocks\",\n",
       "   'reviewTime': '2014-04-25',\n",
       "   'reviewerName': 'Ivan Orozco',\n",
       "   'summary': 'the legend of zelda twilight princess is classic',\n",
       "   'unixReviewTime': 1398384000},\n",
       "  'the <b class=\"match term0\">legend</b> of <b class=\"match term1\">zelda</b> <b class=\"match term2\">twilight</b> <b class=\"match term3\">princess</b> is the greatest...best of the best the <b class=\"match term0\">legend</b> of <b class=\"match term1\">zelda</b> <b class=\"match term2\">twilight</b> <b class=\"match term3\">princess</b> rocks the <b class=\"match term0\">legend</b> of <b class=\"match term1\">zelda</b> <b class=\"match term2\">twilight</b> <b class=\"match term3\">princess</b> storyline is the...best of the best the <b class=\"match term0\">legend</b> of <b class=\"match term1\">zelda</b> <b class=\"match term2\">twilight</b> <b class=\"match term3\">princess</b> storyline rocks'),\n",
       " ({'asin': 'B000FQBPCQ',\n",
       "   'overall': 5.0,\n",
       "   'reviewText': 'The Legend of Zelda Twilight Princess is an adventure to be treasured, with its vast landscaping, easy battle maneuverability, treasure hunting, and moments where you want to stop and gaze at the beautiful scenery. Twilight Princess is definitely a push forward in The Legend of Zelda franchise!',\n",
       "   'reviewTime': '2014-04-16',\n",
       "   'reviewerName': 'Transcendent Sacred Courage',\n",
       "   'summary': 'Hero of Twilight',\n",
       "   'unixReviewTime': 1397606400},\n",
       "  'The <b class=\"match term4\">Legend</b> of <b class=\"match term0\">Zelda</b> <b class=\"match term1\">Twilight</b> <b class=\"match term2\">Princess</b> is an adventure...beautiful scenery. <b class=\"match term1\">Twilight</b> <b class=\"match term2\">Princess</b> is definitely...push forward in The <b class=\"match term4\">Legend</b> of <b class=\"match term0\">Zelda</b> franchise'),\n",
       " ({'asin': 'B00002STXN',\n",
       "   'overall': 5.0,\n",
       "   'reviewText': \"It's the Legend of Zelda on SNES. This game is so dope you don't even need to know the damn tagline! We're taking about the same amount of fun you had on your NES with your lil gold cartridge except with better graphics, better sound, and most importantly, a bigger world and better gameplay! What else could be better? Good question - the answer is NOTHING.I can hear the cries of fan boys now &#34;b bu bu but what about Twilight Princess?&#34; they will say. Yeah? Well, what about the Twilight Princess is so damn important? Oh you mean that title on the Wii that no one will remember in 30 years? Oh yeah - that one was fun if you like weird motion controls that humiliate you and arthritis by the age of 30.No thanks!Give me my old dog-bone shaped SNES controller and a 12 pack of Rolling Rock. That sounds much better than waving a stick of butter around like a dying insect for hours on end.\",\n",
       "   'reviewTime': '2014-03-09',\n",
       "   'reviewerName': 'OhNoMyTurn',\n",
       "   'summary': \"The Legend of Zelda: Doesn't even need a tagline... BUY THIS GAME!\",\n",
       "   'unixReviewTime': 1394323200},\n",
       "  'It\\'s the <b class=\"match term4\">Legend</b> of <b class=\"match term0\">Zelda</b> on SNES. This game is...bu bu but what about <b class=\"match term1\">Twilight</b> <b class=\"match term2\">Princess</b>?&amp;#34; they will say...Well, what about the <b class=\"match term1\">Twilight</b> <b class=\"match term2\">Princess</b> is so damn important'),\n",
       " ({'asin': 'B002BSC54I',\n",
       "   'overall': 5.0,\n",
       "   'reviewText': 'I have played every Legend of Zelda game since the original NES release (except the games for the handhelds). I have enjoyed every one of them. In my personal rankings, I would place this between Ocarina of Time and Twilight Princess as my favorite order(since Zelda going to 3D). It was a lot of fun and kept me busy for hours at a time. It has all the elements of a typical Zelda game and it was lots of fun. Great game play, great graphics for a Wii game and typical Zelda music. If you like the 3D zelda games, you will want to add this one to your collection.',\n",
       "   'reviewTime': '2014-02-12',\n",
       "   'reviewerName': 'Scottypiper \"Scottypiper\"',\n",
       "   'summary': 'Loved this game',\n",
       "   'unixReviewTime': 1392163200},\n",
       "  'I have played every <b class=\"match term4\">Legend</b> of <b class=\"match term0\">Zelda</b> game since the original...Ocarina of Time and <b class=\"match term1\">Twilight</b> <b class=\"match term2\">Princess</b> as my favorite...3D <b class=\"match term1\">zelda</b> games, you will want'),\n",
       " ({'asin': 'B003O6E800',\n",
       "   'overall': 5.0,\n",
       "   'reviewText': \"The most incredible game ever forged by the hand of man or the gods that is Ocarina Of Time just became better.When done right Zelda is not simply a videogame but akin to having a religious experience.Well like its predecessor Link To The Past before it all it seems that Ocarina ever does is the right things to move the Zelda series forward.If only Eiji Aonuma had never been born, then Zelda's progress would not of taken 200 steps back from this epic acheivement in gaming and human history that was and is The Legend Of Zelda: Ocarina Of Time.As a hero character Link has so much untapped potential and marketability it is ridiculous and yet as a character he is horrifically and pathetically mismanaged by Aonuma and underutilized by Nintendo.Link and the Zelda series deserves far better than this clown Eiji Aonuma and I hope to either a loving god/s or even an uncaring universe that one day justice is served and Eiji Aonuma FINALLY is removed from the Zelda series development along with the entire Zelda team which he assembled after OOT which he selected who share the same sick ideas he has about what the series is supposed to be.Well moving on to the rest of my review...Ocarina Of Time has become better with this edition to re-iterate a previous point.And NO its betterment is not owed to Nintendo's atrociously horrible 3D idea but rather because of the beautiful graphical reworking the company has done to an already good looking game that really held up in appearance quite respectably since it's original 1998 release on the Nintendo 64 home game console.Also owing to its superiority when compared to it's previous incarnations is how much more functional and fluid the game has become due to the accompaniment of the 3DS's dual screen feature which allows you to access items such as the iron boots much quicker than could be done in the past on the home console versions of the game.In anycase though this greatest game of all time is often criticized by fools and traitors ie Aonuma Zelda fans and related Nintendo damage controllists for having a mostly empty Hyrule field, yet the fact of the matter is the Hyrule field in this game is the greatest ever created since the series conception only rivalled by The Legend Of Zelda: A Link To The Past's version of Hyrule.A testament to the ridiculously pleasing design of the field is that despite all of these long years passing as videogames became increasingly sophisticated, powerful with awe inspiring graphics Zelda OOT's Hyrule field is still preferred over the newer &#34;Aonuma Zelda&#34; Hyrule field in Twilight Princess and thats despite the Aonuma Zelda title's field being filled with far more action and things to do in general.This speaks to the superiority of Shigeru Miyamoto and others as Zelda directors and the utter inferiority of Eiji Aonuma in that same position over Zelda.In anycase to touch on the dual screen functionality again I will say it really is quite incredible, it makes having to remember your Ocarina songs to trigger certain game actions such as warping to a new location or summoning your horse Epona into a thing of the past.Bottom line is this is a 5 star game.Reason being?Amazon's system won't allow me to rate it any higher.Buy this game!Especially so if you've grown up never having experienced it before.You'll soon see how inferior Eiji Aonuma's so called &#34;Zelda&#34; games are in comparison.The man is a hack that MUST be fired from Nintendo, he and his Zelda team for the series to ever produce a game at or beyond Ocarina Of Time's level ever again.\",\n",
       "   'reviewTime': '2013-12-11',\n",
       "   'reviewerName': 'FightForTheLost',\n",
       "   'summary': 'Ocarina Of Time is the greatest acheivement of mankind forget the moon landing',\n",
       "   'unixReviewTime': 1386720000},\n",
       "  'that was and is The <b class=\"match term4\">Legend</b> Of <b class=\"match term0\">Zelda</b>: Ocarina Of Time.As...only rivalled by The <b class=\"match term4\">Legend</b> Of <b class=\"match term0\">Zelda</b>: A Link To The Past\\'s...<b class=\"match term1\">Twilight</b> <b class=\"match term2\">Princess</b> and thats despite'),\n",
       " ({'asin': 'B00GANWVJE',\n",
       "   'overall': 5.0,\n",
       "   'reviewText': \"I've been a fan of The Legend of Zelda series since 1999.  Much later than some whom have been there since the beginning, but still a good long stretch of 14 years.  I purposefully avoided as much information as possible about this game except for a single early video of the Eastern Palace, and I'm glad I did.  With my new Zelda-edition 3DS XL, I was immediately slapped in the face by the bright, vibrant colors of LBW.  The 3D effect is used wonderfully to make it feel as if you're looking through a window at the Kingdom of Hyrule.  And I'm really glad I upgraded from the standard 3DS to the XL.  It was the perfect time.The game starts off simply enough, giving you a choice between two dungeons.  And then you get a choice between seven that you can do in almost any order.  I thought this was an excellent move to stray from the usual of: Get an item - get into the dungeon locked by its use - get an item in that dungeon - go to the next one unlocked by that item.  It was a system of long hallways with locked doors at the end of each.  That's all gone, and the items are all freely available from the start.  Just save up some rupees and buy as many as you feel you want.The various items greatly help in the way you can deal with enemy encounters, offering things like damage at range, damage to airborne enemies, flying ones, ones below or to either side.  You'll find you can deal with big shielded enemies by yanking the shield away with your Hookshot, or raising them up and roasting them with a pillar of fire, or dropping a bomb and using your own shield to keep them hovering on it to get caught in the blast.  Every encounter becomes a mini puzzle in itself rather than the Ocarina of Time style of Z Target, block with shield, hit with sword.Speaking of puzzles, LBW excels in not having strictly themed dungeons.  Most require a combination of skills rather than just using the dungeon's item.  It's more about thinking and overall skills and sometimes there's more than one way to do a puzzle.  The Desert Palace with the Sand Rod is an exception, but in general the areas seem more inventive and with a nice, large scale to them.  You feel like you're in a big place, changing parts of the level itself rather than finding a key to open a door to open another door.The dungeons are the main course of any Zelda game, but I found the sidequests enjoyable too.  My favorite is the search for the lost Maiamais, baby pink squids in shells hidden all over Hyrule.  Gold Skulltullas and Heart Pieces are nice, but there's just something rewarding about bringing the little guys back to their giant pink squid mom for her to upgrade one of your items, plus that adorable song in her cave.Speaking of music, LBW pretty much perfected it.  Ocarina of Time's soundtrack will be hitting me with joy and nostalgia forever, and Majora's Mask has an excellent and moody score, but if we're talking overall quality, it's got to be Link Between Worlds.  Some may say Twilight Princess did it better, but honestly I didn't really get into any of that.If there's anything negative to say, several dungeons feel very short.  I'd often find myself at the boss door with the key asking myself, &#34;Really?  Already?&#34;  But I guess that could be a case of time flies when you're having fun.  The bosses were also very easy.  I think only ONE was able to do me in.  For sure they were all enjoyable to fight, but a couple were just plain embarrassing themselves.  The wall merging trick made one particular boss a case of merge into wall, pop out, hit with sword, repeat.  You could literally go the fight without taking more than a few steps.  I wasn't asking for a series of grueling, punishing affairs, but more challenge would have been a good thing.  I never even needed to use any fairies (and also never found the net, so that could be a reason.)I could go on for a long time, but it's time to wrap this up.  If you're already a Zelda fan, you probably already have this or are just browsing reviews before ordering it.  To you guys: yeah, it's extremely fun and there's basically nothing here I'm dissatisfied with.  It exceeded every expectation.  To newcomers to the franchise: this might be the most condensed, pure essence of Zelda.  In fact, this might be the ideal first Zelda for a person.  Not too hard, smart and fun puzzles and enemies, excellent soundtrack and graphics.  The story is even better than usual!  Not terribly deep but a cut above the rest.Five out of five stars, no contest.  This isn't a 4.5 or a 4.9, it's a 5.0.  Buy it.\",\n",
       "   'reviewTime': '2013-12-01',\n",
       "   'reviewerName': 'Lucas Black',\n",
       "   'summary': \"It's Really Good!  (I couldn't think of a pun)\",\n",
       "   'unixReviewTime': 1385856000},\n",
       "  've been a fan of The <b class=\"match term4\">Legend</b> of <b class=\"match term0\">Zelda</b> series since 1999...Some may say <b class=\"match term1\">Twilight</b> <b class=\"match term2\">Princess</b> did it better, but...If you\\'re already a <b class=\"match term0\">Zelda</b> fan, you probably already'),\n",
       " ({'asin': 'B00DC7G0GG',\n",
       "   'overall': 5.0,\n",
       "   'reviewText': 'Bleary-eyed, two other people and I finally put this game down at around four in the morning, after a good bit over eight hours of play. In one marathon sitting, we had cleared the game, and were plowing into the bonus levels before we had to call it quits due to the fatigue that comes with sitting in front of a screen for prolonged periods of time. We laughed, we yelled, we gasped, and most of all, we had the time of our lives working together, competing head-to-head, and screwing each other over the entire time. As I almost passed out from my caffeine and adrenaline-fueled binge, many things were going through my head. But one thought predominately kept popping up, and after sleeping and dreaming of the game all night, it was cemented. \"Super Mario 3D World\" is not only perhaps the best game of this year, but the best Mario game since \"Super Mario Galaxy\", and the best Nintendo game in ages.Right from the beginning, players expectations are subverted. Mario, Luigi, Peach and Toad are strolling along during a fireworks show and run into a clear pipe, which in turn leads them into stumbling upon a little fairy-esque creature called a Sprixie. It warns the heroes of the return of their old nemesis, Bowser, who is capturing these little things and keeping them in bottles (perhaps taking a cue from a certain warrior in a green tunic.) Before long, Peach leads the rest of the gang into the Sprixie Kingdom, and they task themselves with rescuing the entire race from enslavement by their perennial foe. That\\'s right, no princess to save, no Toads to free... even with how minimal of a role it takes, the story is very innovative by series standards, which sets the tone for the rest of the experience.That experience is, in a word, sublime. From the beginning of the first level, players know to expect something different from this game than they have historically gotten, with the introduction of a new power-up, new music, new enemies, and a new visual aesthetic. Unlike the past few Mario games, which have passed themselves off as \"new\", before eventually devolving into the same formula, \"3D World\" keeps upping the ante until the very end, to the point where players are being given new power-ups in the penultimate levels of the game. Even bosses which reappear act in somewhat different ways, and pose a bigger threat than before. Up until the very last stage, which is without a doubt my favorite boss stage in the franchise, and possibly one of my favorites of all time, players are kept on their toes, never feeling bogged down in repetition or formula.Which is a really nice thing to experience, considering the core gameplay itself is so ridiculously fast, fluid and fun. Giving a throwback to \"Super Mario Brothers 2\", or \"Doki Doki Panic\" if you prefer, each character feels incredibly distinct and have their own advantages and disadvantages. Mario is completely balanced, Luigi\\'s jumps are high and flutter, Peach can float, and Toad is blazing fast. Playing as all of them, it\\'s clear that no character is \"better\" than the other, but all of them have attributes which help them in certain situations, and if you\\'re gunning for all the stars and stamps in the game, you\\'ll actually need to become proficient with all four mains in order succeed. This prevents players from simply choosing a character and unquestioningly sticking with them, and forces them to experience the true variety that Nintendo has served up here.That variety expands beyond much more than the gameplay. As mentioned above, the sheer magnitude of how different each stage is becomes staggering as you go on, as levels consistently trick players into thinking it will be one thing, then switching it up. Eventually, elements of different levels are merged into single levels, leading to what can only be described as blissful chaos, especially when playing with a few friends. Giant waterslides atop the back of a familiar series creature, a level that references \"Super Mario Kart\" which exhibits speed that would put Sonic to shame, crazy Boo Houses that perform constant visual trickery... all of these stages are incredibly different, and not once did I feel as if I was doing the same stuff over and over again. Levels in certain worlds will even break the world\\'s theming, adding to this feeling of variety. Furthermore, this is the first Mario game where I thoroughly enjoyed every stage, and not once did I end a level with a feeling of disappointment.The new power-ups also lend themselves well to the environment of creativity. Sure, you\\'ve got your Fire Flowers and Tanuki Suits. But players are also given the Cat Suit, which allows you scale vertical walls and perform a deadly pounce. Then there\\'s the Double Cherry, which allows whoever\\'s playing to control clones of themselves. And even then there are level-exclusive power-ups, like mobile cannons, hats which let players blend in with Goombas, and lights that kill Boos and other ghost creatures. Add all of that in with other returning powers, like the boomerang suit and the coin block suit, and it becomes clear that \"3D World\" has truly mastered the art of the power-up, with none of them feeling extraneous in the least. Oh, yeah, did I mention you could hop into a giant ice skate and zip around? Because you totally can, and it\\'s freaking adorable.Right about now, this would be the part where I say, \"the graphics are good for a Nintendo game.\" Not this time. The Xbox One and PlayStation 4 might have more advanced processors, but with what they have right now, players are given upscaled version of the same grey, black and brown color schemes they\\'ve been pushing for the entire seventh generation. Nintendo, on the other hand, has produced one of the most positively gorgeous games on the market, period. Bright, vibrant colors splash beautifully rendered and gloriously creative stages, producing a beautiful canvas that is a delight to gawk at. In fact, I would encourage players to take a few seconds out of the timed stages to simply look at the the beautiful visuals on display here. While some publishers and software developers are duking it out over what wartorn battlefield they can make look the most realistic, Nintendo has hands-down produced the most next-gen game in terms of visual prowess yet, outdoing even the beautiful \"Pikmin 3\" and \"The Wonderful 101.\"That goes double for the music, which isn\\'t just one of the best Mario, Nintendo, or game soundtracks I\\'ve ever heard. This is, with no hesitation, one of the best soundtracks produced for anything. Musically, the game is all over the place in terms of style, yet somehow it all blends together into an effective and forceful series of compositions. Uptempo jazz pieces go hand-in-hand with thrilling rock pieces that sound like they came straight out of the 80\\'s, and synthesizers which have a very New Age vibe transition flawlessly into hauntingly beautiful pieces of orchestral string music. A soundtrack has not impressed me this much since I heard the opening strains of, ironically, \"The Legend of Zelda: Twilight Princess\" back in 2006. This soundtrack is perfect for the game, but also stands on its own as a perfect work of art.Given that there are a few other games this year which have merited perfect scores from, I almost wish that there was some other scoring system for Nintendo\\'s newest title. Alas, there is not, and hopefully, my words will convey how amazing this game truly is. It is in a league of its own, up there with greats like \"Uncharted 2\" and \"Bioshock.\" This is unquestioningly one the greatest games ever published, proving that 16-player deathmatches, extensive downloadable content, and PC-caliber graphics are not what make great games. Not by a long shot.\"Super Mario 3D World\" has changed my standards for how I review games, and dare I say it, is easily one of the top ten games I\\'ve ever had the joy of playing. Young or old, veteran or newbie, this is an experience that has something to offer for every age and demographic. It is a purely sublime combination of innovation and fun, and is the definitive reason to own a Wii U.Score: 10 (Perfect)',\n",
       "   'reviewTime': '2013-11-24',\n",
       "   'reviewerName': 'Elias B. \"The Atlanta Fried Critic\"',\n",
       "   'summary': 'The Most \"Super\" of Them All',\n",
       "   'unixReviewTime': 1385251200},\n",
       "  'That\\'s right, no <b class=\"match term3\">princess</b> to save, no Toads...of, ironically, \"The <b class=\"match term4\">Legend</b> of <b class=\"match term0\">Zelda</b>: <b class=\"match term1\">Twilight</b> <b class=\"match term2\">Princess</b>\" back in 2006. This'),\n",
       " ({'asin': 'B00GANWVJE',\n",
       "   'overall': 5.0,\n",
       "   'reviewText': \"Disclaimer: no major spoilers.For over 20 years I've been waiting for a Zelda like this. My favorite game in the series is A Link to the Past, and this newest release is like that excellent game on steroids. In my opinion, the last great Zelda game was Wind Waker. The previous two home console games, Twilight Princess and Skyward Sword, were very good but lacked the magic that gave me any motivation to play through them again, and the two DS games were average. Boredom kept me from even finishing Phantom Hourglass.This one is different though. I like the fact that the item acquisition and usage system has changed. You have access to pretty much everything from the beginning of the game, so no waiting until the midpoint of your adventure to acquire the hookshot like in all the other games in the series. All items are used and replenished through a magic-type meter that automatically replenishes itself, so no more need to roam around the overworld slicing down bushes to replenish your arrows and bombs. These two significant changes are a drastic departure from the typical Zelda formula, and it's a welcome change because it allows the player to focus more on the one thing that I always felt was one of the best parts of playing any Zelda game: exploration. Since you have access to most of the essential items from the start, the quest is not nearly as linear as it has been in the previous games, and this encourages one to just walk around shooting and blowing up stuff and seeing what happens. Even more so than A Link to the Past, the heart and soul of this game is very reminiscent of the original NES Legend of Zelda where you just walk around exploring and discovering things as you go along.One drawback that I hope Nintendo addresses in the future: I wish there were an option to turn off the hint system. At times, there's a little too much hand holding in the game, and while this may be necessary for a novice, if you're a seasoned Zelda veteran, it really does detract from the experience.I'm a little over halfway into the game, and I can say with confidence that A Link Between Worlds is at least in my top 3 favorite Zelda games of all time. Until I finish the entire game, I can't say for sure if this one will stand the test of time and beat out Zelda III for my number one spot. But either way, this game is a spectacular masterpiece, and if you have a 3DS you should go out and get this right now.\",\n",
       "   'reviewTime': '2013-11-23',\n",
       "   'reviewerName': 'G. Lee',\n",
       "   'summary': 'The best Zelda game in recent memory',\n",
       "   'unixReviewTime': 1385164800},\n",
       "  'the last great <b class=\"match term0\">Zelda</b> game was Wind Waker...home console games, <b class=\"match term1\">Twilight</b> <b class=\"match term2\">Princess</b> and Skyward Sword...of the original NES <b class=\"match term4\">Legend</b> of <b class=\"match term0\">Zelda</b> where you just walk'),\n",
       " ({'asin': 'B00GANWVJE',\n",
       "   'overall': 5.0,\n",
       "   'reviewText': 'No matter what angle you look at it from, this is a special game. What started out as a 3DS remake ofone of the greatest video games ever made, has quickly taken on a life of its own. Now, it\\'s a spiritual successor/sequel to one of the greatest games of all time, something that fans have waited over 20 years for. If I\\'m not mistaken, it\\'s also the first *traditionally-controlled*, top-down, 2-D Zelda game made exclusively by Nintendo sinceLink\\'s Awakening(my 2nd favorite Zelda game). The big question, then, is can The Legend of Zelda: A Link Between Worlds stand up to the hyperbolic hype and expectations that it released to? To put it simply, yes, it absolutely can. I have a strong feeling this one will be up there in the consciousness of most gamers in the long term. Not only is ALBW a nostalgic throwback for fans of classic Zelda games, it is a huge step forward for the series and full of brand new, pretty groundbreaking changes to the traditional Zelda formula. I will try to be concise and avoid overlong exposition, but this will be a long, detailed review, as I want to be as informative and helpful as possible; you\\'ve been warned. As of 11/24, I\\'ve beaten the game, having been playing this ever since picking it up at a midnight release party, unable to put it down unless I had to because of adult responsibilities and blah blah blah. I can confidently say that this game gives Zelda fans a cause for rejoicing. This is a true masterpiece!The story in ALBW may seem at first to be a retread of A Link to the Past. It takes place in Hyrule several generations after the events of ALttP. A new villain, named Yuga, has arrived on the scene. He plays a similar role to Agahnim from ALttP, turning the descendants of the seven sages into still paintings with his magic paintbrush staff, presumably with some nefarious purpose relating to Ganon. He himself can turn into a living painting as well. Very quickly, however, the story turns into something much bigger than you may expect. The Dark World concept returns in ALBW, but has been expanded to new depths. In fact, this game\\'s Dark World feels much closer to the Twilight Realm fromTwilight Princess, and especially Termina fromMajora\\'s Mask. This game\\'s dark world is actually an alternate version of Link\\'s world, with its own inverted Tri-force, a once brilliant but now forsaken kingdom named Lorule, and its own wise princess named Hilda. Of course, Link will set out to save both Hyrule and Lorule, and by the game\\'s end, he will have met with many twists and turns, as well as encountered many interesting and likable characters. I absolutely love stories that incorporate alternate dimensions/worlds that have their own different version of the same characters, and ALBW uses that plot device to great effect, in my opinion.The storytelling is exceptionally well done in this game, with cutscenes showcasing great writing and localization. New characters are really enjoyable, and the returning characters that are a staple of the series (Zelda, Impa, etc) all have interesting traits that make this game\\'s version of them unique. Hilda is mysterious and has a cunning wisdom, which is a nice contrast to Zelda\\'s warmth and sagely wisdom. As a villain, Yuga is a great balance between psychotic/creepy and silly. He is what you\\'d get if you put Lord Ghirahim, Agahnim, andKefkainto a pot and then threw in a dash of Ganondorf. Believe it or not, in terms of plot and the way the story unfolds, this felt more along the lines of the darker, moodier Twilight Princess and Majora\\'s Mask, and I love it. The ending is incredible. If you\\'re expecting \"just another Zelda story,\" you\\'ll be pleasantly surprised by how deep and interesting this one is.The visuals are something that may polarize some folks. The gorgeous concept art looks likeSkyward Sword\\'spainterly style meeting theOracle of Seasons/Agesdesign, but the actual in-game graphics looks more like A Link to the Past meetsThe Wind Waker. Character models have the \"Toon\" proportions of WW, whereas everything else, from scenery to character details, all has an undeniable LttP design. Personally, I think the game looks gorgeous (The Wind Waker is my personal favorite Zelda game). It\\'s quite detailed in places and very colorful, and there\\'s a ton of variety in the different locales. Rather than just being a recolor, Lorule actually looks quite different than Hyrule. Many landmarks are in the same place, but Lorule\\'s version are almost always startlingly different and fresh, and I really enjoyed that. Dungeons all have unique designs as well. There\\'s fantastic variety and attention to detail in this game visually. ALBW does an exceptional job of delivering that sense of discovery and adventure Zelda games are known for. It all runs at a smooth 60 fps too, which is great. When it comes to the 3-D visual effect, I didn\\'t think I\\'d use it much with this game but I love it! As gimmicky as it may sound, the 3-D effect really makes it feel like you\\'re getting a bird\\'s eye view into a living, breathing world. The dungeons feature more vertical designs, full of things that utilize the 3-D in very cool ways. You\\'ll see what I mean when you play. Overall, this is a splendidly beautiful game with many nods to Zelda\\'s past and a meticulous attention to detail.The audio is equally wonderful. Sound effects are very nostalgic, even down to the sound scrolling text makes. The biggest stand out with the sound, however, is the soundtrack. I don\\'t know what it is about 3DS games having exceptional soundtracks, but ALBW is no exception. Many classic tunes get a huge overhaul and sound stupendous. Rather than be the more string symphony you\\'d expect from a Zelda game, there\\'s quite a few brassy big band orchestra type songs, and I love it. Overall, though, the whimsical music sounds like it was played by a roaming band of skilled Minstrels, and I mean that in the best way possible. New songs fit in with the old perfectly and are just as good in their compositions. I LOVE Hilda\\'s theme, and it stands proud alongside other great modern Zelda character themes like \"Midna\\'s Lament\" and \"Follow Fi.\" Overall, the soundtrack is absolutely amazing, maybe the best Zelda soundtrack in terms of pure composition bliss since Wind Waker.The gameplay in ALBW can be divided into two categories: the nostalgic, traditional Zelda aspects, and the groundbreaking, new changes to the Zelda series\\' formula. Let\\'s start with the traditional aspects first: The game undeniably feels like a true-to-form classical Zelda adventure. You\\'ll be exploring a huge, fantastical world, with memorable temples and dungeons interspersed throughout. These temples are filled with unique, engaging puzzles centered around special items, with excellent (brand new) boss fights that are thrilling and challenging. You\\'ll be going to various towns, meeting the memorable characters living in Hyrule/Lorule, and undertaking interesting side-quests. All of these core concepts in Zelda are intact and at the top of their game in ALBW. Much of the overworld in the game is very, very similar to ALttP. The temples are in the same locations, for example, but the temple/dungeons are brand new on the inside, as are their awesome bosses. Some features of the overworld are quite different as well. Treasure chests, pieces of heart, etc. are all in new locations. So while the overworld map may make the game feel more like a remake than a sequel at first, you\\'ll find both Hyrule and the very different Lorule to be surprisingly fresh to adventure through. Again, this game feels like a true Zelda game, and all of the core aspects I\\'ve discussed here are wonderfully executed.So what is different, you may ask? For one thing, all special items are available from the get-go via a shop run by a new character named Ravio. These items range from series\\' staples such as the bow and arrow, to new items never seen before but that fit the series perfectly. They\\'re too expensive to buy early in the game, however, so you\\'ll be forced to rent one item at a time until you acquire enough rupees to buy them outright. If you die with a rented item in your possession, it will merely reset and you\\'ll have to go rent the item again. By the end of the game, you\\'ll own every item. Under this system, rupees take on a much more important role. Whereas in past games, I rarely ever used my rupees for much, acruing massive amounts for Link\\'s retirement instead, ALBW makes rupees a very valuable commodity indeed. I really like that. This new item system also means that the game is much less linear than past Zelda games. In theory, you can go to whatever temple you want in whatever order, as long as you know which item(s) will be needed for that dungeon so you can rent it. Some dungeons can\\'t be accessed until you have multiple items, but the game features a very nice fast-travel system that alleviates any tedium and frustration from trying to enter a temple, only to find out you don\\'t have the prerequisite gear yet. For the most part, I love this new item system. It allows for a lot of choice when playing the game, ditching the characteristic linearity past Zelda titles have had.The biggest addition to Link\\'s repertoire is the new ability of Link to become a living painting. At any point, you can go up to a wall, press A, and Link will go into the wall, depicted in a style very reminiscent of Wind Waker\\'s prologue. This ability is really neat by itself, but the way the developers designed puzzles around it is nothing short of brilliant. This game features some of the most clever, mind-bending level/puzzle design for a Zelda game in years. No joke. There are so many great examples of that, but I don\\'t want to spoil it, so I\\'ll just leave it up to you to discover the ingenious examples of this for yourself. Even bosses require you to take full advantage of this ability, and it is so amazing! This painting ability is also the only way to transport between Hyrule and Lorule, by way of thin slivers of teleporation in various walls in the overworld. Needless to say, there have been many times I\\'ve been incredibly impressed by the plethora of ways the living-painting mechanic is utilized. You truly have to think outside the box and I really love that. The painting idea is fresh, it\\'s engaging, and it\\'s absolutely brilliant. Bravo Nintendo!So the item-based system and the painting concept are the biggest new ideas in the game, but there are several others worth mentioning as well. All special items can be upgraded by finding and bringing the children of a massive squid-like alien (?) called Maiamai to their mama. Using this upgrade/collectible system, a bow that could shoot only one arrow can be upgraded to shoot three at once, for example. Very cool. It takes Skyward Sword\\'s concept of upgrading gear to the next level. The streetpass feature in this game is amazing. When exchanging streetpass with someone who also has this game, their uniquely designed DARK LINK will appear in your world to fight you. Approach him and you can enter a battle with him. If you win, you\\'ll win a certain number of rupees as a bounty. You get to design your own Dark Link for others to fight as well, determining which items he\\'ll have when other players fight him. The better stocked a Dark Link is and the harder he is to beat, the bigger the bounty you\\'ll win. I absolutely love this feature. It encourages people to use streetpass, and it does so in a meaningful way that doesn\\'t feel at all like a gimmick. I love that.So are there any issues with the game? Objectively, this game is about as close to perfect as they come, but there are some nitpicky things I noticed that I\\'ll voice for the sake of objectivity. For one thing, the game is pretty short by modern Zelda standards. If you play this through for the story alone, it\\'ll easily take you about 15-16 hours, and if you\\'re a completionist, 20 at most. After playing for roughly 17.5 hours, I had done and seen everything in the game, every Maiamai found, every piece of heart discovered, every special item and upgrade acquired, etc. Is that a huge problem? Not really. After all, the original ALttP has a comparable amount of content, but ALBW is so fun, this amount of time flies by. Another issue I had was with totally unbalanced difficulty. Since the new item system allows you to tackle the dungeons in virtually any order, there can be a rather uneven experience when it comes to difficulty. When I played, I went from the incredibly easy early dungeons straight into a water temple that gives OoT\\'s Water Temple a run for its money. Then I went to the equivalent of OoT\\'s Spirit Temple, another challenging dungeon. After that, I went to a temple that was super easy by comparison. Granted, this isn\\'t really a huge flaw, but I imagine a lot of people\\'s first time playing this game will be somewhat chaotic because of that, so I figured I\\'d give you fair warning. Finally, one more nitpicky thing: Link\\'s voice is kind of strange at first. At times it\\'s deeper like a young man\\'s voice, at others he sounds like a kid, and sometimes he almost sounds like a gremlin (lol). It took me a little while to get used to it, but I eventually warmed up to it and enjoyed it. It grew on me. Really, those are the only \"complaints\" I have with the game, and none of them are bullet points you\\'d use to knock the game\\'s score down, but it is good to keep these things in mind so you can know what you\\'re getting with the game.All in all, this is a truly special Zelda game. While it is a very nostalgic experience full of nods to the legendary ALttP and several other Zelda games, I actually find the exciting new elements and design choices to be what makes ALBW such a special game. To play a Zelda game with such an overhauled item system with massively increased level of freedom and openness, the brilliantly conceived/executed painting idea, as well as a plethora of other unique elements, has been a genuine delight. I love the Legend of Zelda series, it is my favorite in all video games, but ALBW truly feels special. Its changes to the traditional Zelda formula ultimately are much better and more meaningful than the ones in Skyward Sword are, and truly makes me excited for the direction the series will go from here. So do I recommend it? Absolutely. I enjoyed the game so much that I couldn\\'t put it down until I beat it once I started it (I did stop for food and sleep though, lol). After beating it for the first time, I wanted to jump right back in and start a new game, and that is incredibly rare for me to do. I\\'ve always been a 3-D Zelda guy (even though Link\\'s Awakening is one of my favorite Zelda titles), but ALBW has seriously won me over and I\\'d place it in my top five Zelda games, easily. I\\'d even go so far as to say it is another flawless Zelda masterpiece that stands proud right alongside its 20-year-old legendary predecessor. So buy it, get ready for an awesome new adventure between worlds, and go save, not one, but two magical kingdoms in need of a true hero of courage!',\n",
       "   'reviewTime': '2013-11-22',\n",
       "   'reviewerName': 'T. Hill \"Relytia\"',\n",
       "   'summary': 'This new Legend of Zelda does its lineage proud',\n",
       "   'unixReviewTime': 1385078400},\n",
       "  'then, is can The <b class=\"match term4\">Legend</b> of <b class=\"match term0\">Zelda</b>: A Link Between Worlds...the darker, moodier <b class=\"match term1\">Twilight</b> <b class=\"match term2\">Princess</b> and Majora\\'s Mask...delight. I love the <b class=\"match term4\">Legend</b> of <b class=\"match term0\">Zelda</b> series, it is my favorite'),\n",
       " ({'asin': 'B00EV4O8VS',\n",
       "   'overall': 5.0,\n",
       "   'reviewText': 'First things first, the Five Stars goes to the game. I cannot rate the console itself because I\\'ve never owned a Wii-U before (still been using the Wii instead), so once I get more games for it, I\\'ll get back and update this review here. That said, I have to say, I am very well amazed with the HD treatment of Legend of Zelda: Wind Waker. Spectacular visuals for a beautiful gem from the last decade.For those who aren\\'t aware, no, an HD remaster isn\\'t necessary to play a game on an HD monitor/telly. The thing is, then you\\'ll have to do with either grainy picture formats, crosstalk/ghosting, or the occasional rigid/cutting line effect on certain polygons. The last two are very common when playing a 480p game on an HDTV. I have to admit, when I was playing my Wii on my HDTV monitor, I couldn\\'t play without feeling \"letdown\" by the loss of quality on my experience, forcing me to have to use a 480p LCD screen or a tube-telly (stuff happens). So it\\'s always nice to have a great game have an HD remaster (Unless your name is Konami and you ruin Silent Hill 2 and 3).For those who never played LoZ: Wind Waker, the game was quite phenomenal, and very unique for it\\'s time. The Gamecube was capable of doing very quality graphics (as shown with Resident Evil REmake, Resident Evil 0, Resident Evil 4, Blood Omen 2). A lot of people disliked the fact that Zelda went with the more cartoon route. Yes, the details/graphics aren\\'t as great compared to Twilight Princess. The thing with the cartoon-like detailing, is that it actually works. The environments are life-like/fluid, Link\\'s eyes paid attention to the environment, which in my opinion, was the best innovation. It\\'s very nice to see the game have an HD remaster.Comparison between the original Wind Waker and WW-HD on an HDTV. The original, on an HDTV you have jagged edges, and all sorts of off-looking colors. The quality of the game is honestly sub-par when compared to an older TV set, or a flat-screen computer monitor. In the remaster, I have noticed clearer visuals, and no jagged polygons. However, I have noticed a loss in some details, although for the casual person, you likely wont notice it. The HD remaster is also very cool in that it incorporates the goofy Wii-U Gamepad. If you get used to it, you\\'ll love that it shows the inventory screen, and you can drag and drop items to designated parts of the inventory. It\\'s very nice. Also, a new Hero mode, which looks to be a more challenging difficulty mode.For anyone who wants a collector\\'s bundle, or doesn\\'t have a Wii-U, I\\'d go for this bundle. What you get in the box is as listed-1: The Wii-U Zelda system/gamepad.2: An HDMI cable.3: A digital copy of Zelda Hyrule Historia book/timeline.4: Legend of Zeld: Wind Waker HD.For $300, it\\'s not a bad bundle.',\n",
       "   'reviewTime': '2013-10-04',\n",
       "   'reviewerName': 'Andrew Ward \"Alister\"',\n",
       "   'summary': 'Wii U console and game.',\n",
       "   'unixReviewTime': 1380844800},\n",
       "  'the HD treatment of <b class=\"match term4\">Legend</b> of <b class=\"match term0\">Zelda</b>: Wind Waker. Spectacular...as great compared to <b class=\"match term1\">Twilight</b> <b class=\"match term2\">Princess</b>. The thing with...timeline.4: <b class=\"match term4\">Legend</b> of Zeld: Wind Waker')]"
      ]
     },
     "execution_count": 22,
     "metadata": {},
     "output_type": "execute_result"
    }
   ],
   "source": [
    "res[0:10]"
   ]
  }
 ],
 "metadata": {
  "kernelspec": {
   "display_name": "Python 3",
   "language": "python",
   "name": "python3"
  },
  "language_info": {
   "codemirror_mode": {
    "name": "ipython",
    "version": 3
   },
   "file_extension": ".py",
   "mimetype": "text/x-python",
   "name": "python",
   "nbconvert_exporter": "python",
   "pygments_lexer": "ipython3",
   "version": "3.6.9"
  }
 },
 "nbformat": 4,
 "nbformat_minor": 2
}
