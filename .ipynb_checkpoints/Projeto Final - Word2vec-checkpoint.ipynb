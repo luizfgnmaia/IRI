{
 "cells": [
  {
   "cell_type": "code",
   "execution_count": 1,
   "metadata": {},
   "outputs": [],
   "source": [
    "import pandas as pd\n",
    "import gzip\n",
    "import re\n",
    "from nltk import tokenize\n",
    "import gensim\n",
    "import time"
   ]
  },
  {
   "cell_type": "markdown",
   "metadata": {},
   "source": [
    "## Word2vec\n",
    "\n",
    "1. Ainda usando a biblioteca Gensim, Construa uma representaçao vetorial semantica(word2vec) do seu corpus de escolha. Podem seguir este <a href=\"https://rare-technologies.com/word2vec-tutorial/\">tutorial</a>"
   ]
  },
  {
   "cell_type": "markdown",
   "metadata": {},
   "source": [
    "Lendo a base de dados"
   ]
  },
  {
   "cell_type": "code",
   "execution_count": 2,
   "metadata": {},
   "outputs": [],
   "source": [
    "def parse(path):\n",
    "    g = gzip.open(path, 'rb')\n",
    "    for l in g:\n",
    "        yield eval(l)\n",
    "\n",
    "def getDF(path):\n",
    "    i = 0\n",
    "    df = {}\n",
    "    for d in parse(path):\n",
    "        df[i] = d\n",
    "        i += 1\n",
    "    return pd.DataFrame.from_dict(df, orient = 'index')\n",
    "\n",
    "df = getDF('reviews_Video_Games_5.json.gz')"
   ]
  },
  {
   "cell_type": "markdown",
   "metadata": {},
   "source": [
    "Arrumando o input do w2v"
   ]
  },
  {
   "cell_type": "code",
   "execution_count": 3,
   "metadata": {
    "scrolled": true
   },
   "outputs": [
    {
     "data": {
      "text/plain": [
       "231780"
      ]
     },
     "execution_count": 3,
     "metadata": {},
     "output_type": "execute_result"
    }
   ],
   "source": [
    "text = list(df['reviewText'].values)\n",
    "tmp = []\n",
    "for row in range(len(df)):\n",
    "    tmp.append(tokenize.sent_tokenize(text[row]))\n",
    "len(tmp)"
   ]
  },
  {
   "cell_type": "code",
   "execution_count": 4,
   "metadata": {},
   "outputs": [
    {
     "data": {
      "text/plain": [
       "2310748"
      ]
     },
     "execution_count": 4,
     "metadata": {},
     "output_type": "execute_result"
    }
   ],
   "source": [
    "tmp = [y for x in tmp for y in x]\n",
    "len(tmp)"
   ]
  },
  {
   "cell_type": "code",
   "execution_count": 5,
   "metadata": {},
   "outputs": [
    {
     "data": {
      "text/plain": [
       "'Installing the game was a struggle (because of games for windows live bugs).Some championship races and cars can only be \"unlocked\" by buying them as an addon to the game.'"
      ]
     },
     "execution_count": 5,
     "metadata": {},
     "output_type": "execute_result"
    }
   ],
   "source": [
    "tmp[0]"
   ]
  },
  {
   "cell_type": "code",
   "execution_count": 6,
   "metadata": {},
   "outputs": [
    {
     "data": {
      "text/plain": [
       "2310748"
      ]
     },
     "execution_count": 6,
     "metadata": {},
     "output_type": "execute_result"
    }
   ],
   "source": [
    "sentences = []\n",
    "for i in range(len(tmp)):\n",
    "    sentences.append([token.lower() for token in tokenize.TweetTokenizer().tokenize(tmp[i])])\n",
    "len(sentences)"
   ]
  },
  {
   "cell_type": "code",
   "execution_count": 7,
   "metadata": {
    "scrolled": true
   },
   "outputs": [
    {
     "data": {
      "text/plain": [
       "['installing',\n",
       " 'the',\n",
       " 'game',\n",
       " 'was',\n",
       " 'a',\n",
       " 'struggle',\n",
       " '(',\n",
       " 'because',\n",
       " 'of',\n",
       " 'games',\n",
       " 'for',\n",
       " 'windows',\n",
       " 'live',\n",
       " 'bugs',\n",
       " ')',\n",
       " '.',\n",
       " 'some',\n",
       " 'championship',\n",
       " 'races',\n",
       " 'and',\n",
       " 'cars',\n",
       " 'can',\n",
       " 'only',\n",
       " 'be',\n",
       " '\"',\n",
       " 'unlocked',\n",
       " '\"',\n",
       " 'by',\n",
       " 'buying',\n",
       " 'them',\n",
       " 'as',\n",
       " 'an',\n",
       " 'addon',\n",
       " 'to',\n",
       " 'the',\n",
       " 'game',\n",
       " '.']"
      ]
     },
     "execution_count": 7,
     "metadata": {},
     "output_type": "execute_result"
    }
   ],
   "source": [
    "sentences[0]"
   ]
  },
  {
   "cell_type": "markdown",
   "metadata": {},
   "source": [
    "Rodando o modelo"
   ]
  },
  {
   "cell_type": "code",
   "execution_count": 8,
   "metadata": {},
   "outputs": [
    {
     "data": {
      "text/plain": [
       "181.59107446670532"
      ]
     },
     "execution_count": 8,
     "metadata": {},
     "output_type": "execute_result"
    }
   ],
   "source": [
    "start_time = time.time()\n",
    "w2v = gensim.models.Word2Vec(sentences, min_count = 5, workers = 4)\n",
    "end_time = time.time()\n",
    "w2v.save('w2v')\n",
    "end_time - start_time"
   ]
  },
  {
   "cell_type": "markdown",
   "metadata": {},
   "source": [
    "<hr>\n",
    "\n",
    "2. Construa uma representaçao similar usando <a href=\"https://radimrehurek.com/gensim/models/fasttext.html#gensim.models.fasttext.FastText\">FastText</a>. Veja este <a href=\"https://github.com/RaRe-Technologies/gensim/blob/develop/docs/notebooks/FastText_Tutorial.ipynb\">Tutorial</a>"
   ]
  },
  {
   "cell_type": "markdown",
   "metadata": {},
   "source": [
    "Rodando o modelo"
   ]
  },
  {
   "cell_type": "code",
   "execution_count": 9,
   "metadata": {},
   "outputs": [
    {
     "data": {
      "text/plain": [
       "758.1923456192017"
      ]
     },
     "execution_count": 9,
     "metadata": {},
     "output_type": "execute_result"
    }
   ],
   "source": [
    "start_time = time.time()\n",
    "ft = gensim.models.FastText(sentences, min_count = 5, workers = 4)\n",
    "end_time = time.time()\n",
    "ft.save('fasttext')\n",
    "end_time - start_time"
   ]
  },
  {
   "cell_type": "markdown",
   "metadata": {},
   "source": [
    "Testando algumas similaridades"
   ]
  },
  {
   "cell_type": "code",
   "execution_count": 10,
   "metadata": {},
   "outputs": [
    {
     "data": {
      "text/plain": [
       "[('sony', 0.746025562286377),\n",
       " ('sega', 0.7008744478225708),\n",
       " (\"nintendo's\", 0.6681839227676392),\n",
       " ('atari', 0.6525640487670898),\n",
       " ('atlus', 0.6485507488250732),\n",
       " ('konami', 0.6462914943695068),\n",
       " ('nes', 0.6452116370201111),\n",
       " ('3ds', 0.6361825466156006),\n",
       " ('nitendo', 0.6297237873077393),\n",
       " ('ds', 0.6290820837020874)]"
      ]
     },
     "execution_count": 10,
     "metadata": {},
     "output_type": "execute_result"
    }
   ],
   "source": [
    "w2v.wv.most_similar(positive = ['nintendo'])"
   ]
  },
  {
   "cell_type": "code",
   "execution_count": 11,
   "metadata": {},
   "outputs": [
    {
     "data": {
      "text/plain": [
       "[('nintendos', 0.9591295719146729),\n",
       " ('nintendog', 0.9469686150550842),\n",
       " ('anintendo', 0.9458414912223816),\n",
       " ('nintendo.com', 0.942043662071228),\n",
       " ('thenintendo', 0.9235060214996338),\n",
       " ('supernintendo', 0.9201270341873169),\n",
       " ('nintendo-made', 0.9085538983345032),\n",
       " ('it.nintendo', 0.9072474241256714),\n",
       " ('nintendo-brand', 0.9065431952476501),\n",
       " ('non-nintendo', 0.9017015695571899)]"
      ]
     },
     "execution_count": 11,
     "metadata": {},
     "output_type": "execute_result"
    }
   ],
   "source": [
    "ft.wv.most_similar(positive = ['nintendo'])"
   ]
  },
  {
   "cell_type": "code",
   "execution_count": 12,
   "metadata": {},
   "outputs": [
    {
     "data": {
      "text/plain": [
       "[('castlevania', 0.8458266258239746),\n",
       " ('metroid', 0.7542155981063843),\n",
       " ('loz', 0.725094199180603),\n",
       " ('tr', 0.7163528203964233),\n",
       " ('hm', 0.692588210105896),\n",
       " ('legaia', 0.6878681778907776),\n",
       " ('banjo-kazooie', 0.676301121711731),\n",
       " ('starfox', 0.6748642921447754),\n",
       " ('myst', 0.6715503931045532),\n",
       " ('mario', 0.6698758602142334)]"
      ]
     },
     "execution_count": 12,
     "metadata": {},
     "output_type": "execute_result"
    }
   ],
   "source": [
    "w2v.wv.most_similar(positive = ['zelda'])"
   ]
  },
  {
   "cell_type": "code",
   "execution_count": 13,
   "metadata": {},
   "outputs": [
    {
     "data": {
      "text/plain": [
       "[('zeldas', 0.8933054804801941),\n",
       " ('zeldo', 0.8625293374061584),\n",
       " ('castlevania', 0.8604421615600586),\n",
       " (\"zelda's\", 0.8432172536849976),\n",
       " ('metroid-vania', 0.8391014337539673),\n",
       " ('metroidvania', 0.8363252878189087),\n",
       " ('zelda-esque', 0.824447512626648),\n",
       " ('castlevanias', 0.7987856864929199),\n",
       " (\"castlevania's\", 0.7947939038276672),\n",
       " ('metroid', 0.7800246477127075)]"
      ]
     },
     "execution_count": 13,
     "metadata": {},
     "output_type": "execute_result"
    }
   ],
   "source": [
    "ft.wv.most_similar(positive = ['zelda'])"
   ]
  },
  {
   "cell_type": "code",
   "execution_count": 14,
   "metadata": {},
   "outputs": [
    {
     "data": {
      "text/plain": [
       "[('metroid', 0.6962027549743652),\n",
       " ('kirby', 0.6870484352111816),\n",
       " ('warner', 0.6744368076324463),\n",
       " ('zelda', 0.6698759198188782),\n",
       " ('supermario', 0.6663423180580139),\n",
       " ('wario', 0.6574634313583374),\n",
       " ('starfox', 0.6556668877601624),\n",
       " ('monkeyball', 0.6457191109657288),\n",
       " ('saiyan', 0.6268875598907471),\n",
       " ('bonanza', 0.6061796545982361)]"
      ]
     },
     "execution_count": 14,
     "metadata": {},
     "output_type": "execute_result"
    }
   ],
   "source": [
    "w2v.wv.most_similar(positive = ['mario'])"
   ]
  },
  {
   "cell_type": "code",
   "execution_count": 15,
   "metadata": {},
   "outputs": [
    {
     "data": {
      "text/plain": [
       "[('2mario', 0.9722429513931274),\n",
       " ('wario', 0.8911115527153015),\n",
       " ('mariokart', 0.886152982711792),\n",
       " ('supermario', 0.885037899017334),\n",
       " ('mariocart', 0.8799968957901001),\n",
       " ('mario-kart', 0.8782605528831482),\n",
       " ('mario-type', 0.8742079734802246),\n",
       " ('dario', 0.8702232837677002),\n",
       " ('mini-mario', 0.8621791005134583),\n",
       " ('lucario', 0.8429136276245117)]"
      ]
     },
     "execution_count": 15,
     "metadata": {},
     "output_type": "execute_result"
    }
   ],
   "source": [
    "ft.wv.most_similar(positive = ['mario'])"
   ]
  },
  {
   "cell_type": "code",
   "execution_count": 16,
   "metadata": {},
   "outputs": [
    {
     "data": {
      "text/plain": [
       "[('ps3', 0.9190915822982788),\n",
       " ('ps2', 0.8087536692619324),\n",
       " ('pc', 0.7995539903640747),\n",
       " ('vita', 0.7937562465667725),\n",
       " ('psp', 0.7813653945922852),\n",
       " ('360', 0.7798373103141785),\n",
       " ('xb1', 0.7796568870544434),\n",
       " ('console', 0.7637836933135986),\n",
       " ('gamecube', 0.7504855394363403),\n",
       " ('x360', 0.7358340620994568)]"
      ]
     },
     "execution_count": 16,
     "metadata": {},
     "output_type": "execute_result"
    }
   ],
   "source": [
    "w2v.wv.most_similar(positive = ['ps4'])"
   ]
  },
  {
   "cell_type": "code",
   "execution_count": 17,
   "metadata": {},
   "outputs": [
    {
     "data": {
      "text/plain": [
       "[('ps4s', 0.9687203168869019),\n",
       " ('ps3', 0.9222215414047241),\n",
       " ('ps3i', 0.9183893799781799),\n",
       " ('ps33', 0.9164329171180725),\n",
       " ('ps360', 0.9078466296195984),\n",
       " ('ps-vita', 0.8999121785163879),\n",
       " ('s4', 0.8929064869880676),\n",
       " ('ps3s', 0.8925232887268066),\n",
       " ('psv', 0.8922436833381653),\n",
       " ('ps-x', 0.89200758934021)]"
      ]
     },
     "execution_count": 17,
     "metadata": {},
     "output_type": "execute_result"
    }
   ],
   "source": [
    "ft.wv.most_similar(positive = ['ps4'])"
   ]
  },
  {
   "cell_type": "code",
   "execution_count": 18,
   "metadata": {},
   "outputs": [
    {
     "data": {
      "text/plain": [
       "[('nhl', 0.9066072106361389),\n",
       " ('madden', 0.8956878185272217),\n",
       " ('ncaa', 0.8922380805015564),\n",
       " ('pes', 0.8519359827041626),\n",
       " ('svr', 0.8002434968948364),\n",
       " ('mlb', 0.7940255999565125),\n",
       " ('nfl', 0.757750391960144),\n",
       " ('08', 0.7525604367256165),\n",
       " ('wwe', 0.7504540085792542),\n",
       " ('motogp', 0.7453729510307312)]"
      ]
     },
     "execution_count": 18,
     "metadata": {},
     "output_type": "execute_result"
    }
   ],
   "source": [
    "w2v.wv.most_similar(positive = ['fifa'])"
   ]
  },
  {
   "cell_type": "code",
   "execution_count": 19,
   "metadata": {},
   "outputs": [
    {
     "data": {
      "text/plain": [
       "[('ncaa', 0.8889089822769165),\n",
       " ('nhl', 0.8797092437744141),\n",
       " ('madden', 0.8374800086021423),\n",
       " ('gfa', 0.8200472593307495),\n",
       " ('khl', 0.8063870072364807),\n",
       " ('ncc', 0.8026140332221985),\n",
       " ('svr', 0.7794976830482483),\n",
       " ('hl', 0.774090051651001),\n",
       " ('nfc', 0.7660230994224548),\n",
       " ('mlbpa', 0.761073112487793)]"
      ]
     },
     "execution_count": 19,
     "metadata": {},
     "output_type": "execute_result"
    }
   ],
   "source": [
    "ft.wv.most_similar(positive = ['fifa'])"
   ]
  }
 ],
 "metadata": {
  "kernelspec": {
   "display_name": "Python 3",
   "language": "python",
   "name": "python3"
  },
  "language_info": {
   "codemirror_mode": {
    "name": "ipython",
    "version": 3
   },
   "file_extension": ".py",
   "mimetype": "text/x-python",
   "name": "python",
   "nbconvert_exporter": "python",
   "pygments_lexer": "ipython3",
   "version": "3.6.9"
  }
 },
 "nbformat": 4,
 "nbformat_minor": 2
}
