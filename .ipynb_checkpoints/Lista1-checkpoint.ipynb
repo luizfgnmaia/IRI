{
 "cells": [
  {
   "cell_type": "markdown",
   "metadata": {},
   "source": [
    "# Introdução à Recuperação de Informações\n",
    "\n",
    "## Lista de exercícios 1\n",
    "\n",
    "<hr>"
   ]
  },
  {
   "cell_type": "code",
   "execution_count": 41,
   "metadata": {},
   "outputs": [],
   "source": [
    "from nltk.tokenize import word_tokenize\n",
    "from nltk.corpus import stopwords\n",
    "import string\n",
    "from nltk.tokenize import WordPunctTokenizer\n",
    "import re"
   ]
  },
  {
   "cell_type": "markdown",
   "metadata": {},
   "source": [
    "## Base de dados utilizada"
   ]
  },
  {
   "cell_type": "markdown",
   "metadata": {},
   "source": [
    "A base de dados utilizada está disponível em: http://jmcauley.ucsd.edu/data/amazon/ e contém o texto e notas de reviews da seção de video games da Amazon."
   ]
  },
  {
   "cell_type": "code",
   "execution_count": 2,
   "metadata": {},
   "outputs": [],
   "source": [
    "import pandas as pd\n",
    "import gzip\n",
    "\n",
    "def parse(path):\n",
    "  g = gzip.open(path, 'rb')\n",
    "  for l in g:\n",
    "    yield eval(l)\n",
    "\n",
    "def getDF(path):\n",
    "  i = 0\n",
    "  df = {}\n",
    "  for d in parse(path):\n",
    "    df[i] = d\n",
    "    i += 1\n",
    "  return pd.DataFrame.from_dict(df, orient='index')\n",
    "\n",
    "df = getDF('reviews_Video_Games_5.json.gz')"
   ]
  },
  {
   "cell_type": "code",
   "execution_count": 3,
   "metadata": {},
   "outputs": [
    {
     "data": {
      "text/html": [
       "<div>\n",
       "<style scoped>\n",
       "    .dataframe tbody tr th:only-of-type {\n",
       "        vertical-align: middle;\n",
       "    }\n",
       "\n",
       "    .dataframe tbody tr th {\n",
       "        vertical-align: top;\n",
       "    }\n",
       "\n",
       "    .dataframe thead th {\n",
       "        text-align: right;\n",
       "    }\n",
       "</style>\n",
       "<table border=\"1\" class=\"dataframe\">\n",
       "  <thead>\n",
       "    <tr style=\"text-align: right;\">\n",
       "      <th></th>\n",
       "      <th>reviewerID</th>\n",
       "      <th>asin</th>\n",
       "      <th>reviewerName</th>\n",
       "      <th>helpful</th>\n",
       "      <th>reviewText</th>\n",
       "      <th>overall</th>\n",
       "      <th>summary</th>\n",
       "      <th>unixReviewTime</th>\n",
       "      <th>reviewTime</th>\n",
       "    </tr>\n",
       "  </thead>\n",
       "  <tbody>\n",
       "    <tr>\n",
       "      <td>0</td>\n",
       "      <td>A2HD75EMZR8QLN</td>\n",
       "      <td>0700099867</td>\n",
       "      <td>123</td>\n",
       "      <td>[8, 12]</td>\n",
       "      <td>Installing the game was a struggle (because of...</td>\n",
       "      <td>1.0</td>\n",
       "      <td>Pay to unlock content? I don't think so.</td>\n",
       "      <td>1341792000</td>\n",
       "      <td>07 9, 2012</td>\n",
       "    </tr>\n",
       "    <tr>\n",
       "      <td>1</td>\n",
       "      <td>A3UR8NLLY1ZHCX</td>\n",
       "      <td>0700099867</td>\n",
       "      <td>Alejandro Henao \"Electronic Junky\"</td>\n",
       "      <td>[0, 0]</td>\n",
       "      <td>If you like rally cars get this game you will ...</td>\n",
       "      <td>4.0</td>\n",
       "      <td>Good rally game</td>\n",
       "      <td>1372550400</td>\n",
       "      <td>06 30, 2013</td>\n",
       "    </tr>\n",
       "    <tr>\n",
       "      <td>2</td>\n",
       "      <td>A1INA0F5CWW3J4</td>\n",
       "      <td>0700099867</td>\n",
       "      <td>Amazon Shopper \"Mr.Repsol\"</td>\n",
       "      <td>[0, 0]</td>\n",
       "      <td>1st shipment received a book instead of the ga...</td>\n",
       "      <td>1.0</td>\n",
       "      <td>Wrong key</td>\n",
       "      <td>1403913600</td>\n",
       "      <td>06 28, 2014</td>\n",
       "    </tr>\n",
       "    <tr>\n",
       "      <td>3</td>\n",
       "      <td>A1DLMTOTHQ4AST</td>\n",
       "      <td>0700099867</td>\n",
       "      <td>ampgreen</td>\n",
       "      <td>[7, 10]</td>\n",
       "      <td>I got this version instead of the PS3 version,...</td>\n",
       "      <td>3.0</td>\n",
       "      <td>awesome game, if it did not crash frequently !!</td>\n",
       "      <td>1315958400</td>\n",
       "      <td>09 14, 2011</td>\n",
       "    </tr>\n",
       "    <tr>\n",
       "      <td>4</td>\n",
       "      <td>A361M14PU2GUEG</td>\n",
       "      <td>0700099867</td>\n",
       "      <td>Angry Ryan \"Ryan A. Forrest\"</td>\n",
       "      <td>[2, 2]</td>\n",
       "      <td>I had Dirt 2 on Xbox 360 and it was an okay ga...</td>\n",
       "      <td>4.0</td>\n",
       "      <td>DIRT 3</td>\n",
       "      <td>1308009600</td>\n",
       "      <td>06 14, 2011</td>\n",
       "    </tr>\n",
       "  </tbody>\n",
       "</table>\n",
       "</div>"
      ],
      "text/plain": [
       "       reviewerID        asin                        reviewerName  helpful  \\\n",
       "0  A2HD75EMZR8QLN  0700099867                                 123  [8, 12]   \n",
       "1  A3UR8NLLY1ZHCX  0700099867  Alejandro Henao \"Electronic Junky\"   [0, 0]   \n",
       "2  A1INA0F5CWW3J4  0700099867          Amazon Shopper \"Mr.Repsol\"   [0, 0]   \n",
       "3  A1DLMTOTHQ4AST  0700099867                            ampgreen  [7, 10]   \n",
       "4  A361M14PU2GUEG  0700099867        Angry Ryan \"Ryan A. Forrest\"   [2, 2]   \n",
       "\n",
       "                                          reviewText  overall  \\\n",
       "0  Installing the game was a struggle (because of...      1.0   \n",
       "1  If you like rally cars get this game you will ...      4.0   \n",
       "2  1st shipment received a book instead of the ga...      1.0   \n",
       "3  I got this version instead of the PS3 version,...      3.0   \n",
       "4  I had Dirt 2 on Xbox 360 and it was an okay ga...      4.0   \n",
       "\n",
       "                                           summary  unixReviewTime  \\\n",
       "0         Pay to unlock content? I don't think so.      1341792000   \n",
       "1                                  Good rally game      1372550400   \n",
       "2                                        Wrong key      1403913600   \n",
       "3  awesome game, if it did not crash frequently !!      1315958400   \n",
       "4                                           DIRT 3      1308009600   \n",
       "\n",
       "    reviewTime  \n",
       "0   07 9, 2012  \n",
       "1  06 30, 2013  \n",
       "2  06 28, 2014  \n",
       "3  09 14, 2011  \n",
       "4  06 14, 2011  "
      ]
     },
     "execution_count": 3,
     "metadata": {},
     "output_type": "execute_result"
    }
   ],
   "source": [
    "df.head()"
   ]
  },
  {
   "cell_type": "markdown",
   "metadata": {},
   "source": [
    "Exemplo de review"
   ]
  },
  {
   "cell_type": "code",
   "execution_count": 4,
   "metadata": {},
   "outputs": [
    {
     "data": {
      "text/plain": [
       "'I got this version instead of the PS3 version, which turned out to be a mistake. Console versions of games look 95 percent as good as their PC versions, but you do not have to deal with driver issues and the numerous things that can go wrong with windows. First off the installation takes about 30 minutes, which is ridiculous. I have never had a game take this long to load, Shift 2 took about 20 minutes which seemed too long also. Next many of the latest games for PC are forcing you to have an internet connection in order to install the game, regardless of whether you want to play only offline single player games. Shift 2 unleashed is also like this, so be forewarned. Internet requirements are not prominently displayed on the boxes. The game pushes you, but does not require you to, sign up for a Games For Windows Live account, which is required to get the game patches and updates. More time wasted signing up for that. Finally after about one hour the game was up and running , but the menu screen text had red blocky borders, and the sun in the game screens was ugly pink red, with red reflections on the car and everywhere. So more time spent googling to find a solution to this. I had to download a hot-fix driver update for my AMD videocard driver, which solved that red text and sun problem. Finally after nearly 2 hours I was able to play the game, which is perhaps the prettiest racing game I have ever played. Magnificent graphics, and fun excellent gameplay. Good forcefeedback effects with a steering wheel, and excellent sense of speed and immersion, makes this a top notch sim racer with just a hint of arcade feeling to it.I was really, finally enjoying the game , when suddenly about 30 minutes in to a race the game suddenly crashed. No error message or anything, it just hung up and crashed to desktop, under windows 7. I later tried it with Windows XP on the same machine, and it crashed less frequently, usually only when exiting the game, but random crashes really kill the fun of a racing game, since it might not crash during an entire 20 lap race or it might crash on the 2nd lap.It is a great game when it works, and if you are lucky enough to have a machine that it runs stably on then by all means get this game. But hang on to your receipt just in case.I am tired of fiddling with my computer trying to find a totally reliable setup for this game, so I think I am going to buy a copy for my PS3, which has never crashed, in over 3 years of game playing. I have been buying the top notch PC versions of videogames and spent thousands of dollars over the years on faster videocards and cpu\\'s , but I have finally grown tired of fiddling with incompatibilities of hardware and software, and now game publishers demanding that you have an internet connection as well as providing a long serial number, utilizing gigabytes of harddrive space, 30 minute or longer installation times ( it takes less time to install Windows 7 ) , and requiring you to sign up for their online service and game store, and still you have to put that stupid little DVD in your computer everytime you want to play a simple game to relax. I am pretty much done with PC gaming, since the consoles are so much less hassle, and they have \" good enough \" graphics that the diminishing returns of costly higher resolution better antialiased higher framerate graphics is not worth it. When the PS4 and Xbox 720 come out, I think the law of diminishing returns will be even more evident.'"
      ]
     },
     "execution_count": 4,
     "metadata": {},
     "output_type": "execute_result"
    }
   ],
   "source": [
    "df.reviewText[3]"
   ]
  },
  {
   "cell_type": "code",
   "execution_count": 6,
   "metadata": {},
   "outputs": [
    {
     "data": {
      "text/plain": [
       "231780"
      ]
     },
     "execution_count": 6,
     "metadata": {},
     "output_type": "execute_result"
    }
   ],
   "source": [
    "raw_text = df['reviewText']\n",
    "len(raw_text)"
   ]
  },
  {
   "cell_type": "markdown",
   "metadata": {},
   "source": [
    "<hr>\n",
    "\n",
    "### Exercício 1: Truncagem e revocação.\n",
    "\n",
    "Baseando-se no indice invertido construído na prática 1, Calcule a diferença de revocação com e sem a utilização de \"stemming\", ou truncagem na construção do índice.\n",
    "\n",
    "<hr>"
   ]
  },
  {
   "cell_type": "markdown",
   "metadata": {},
   "source": [
    "Colocando em caixa baixa, removendo urls, pontuações, stop words e tokenizando o texto"
   ]
  },
  {
   "cell_type": "code",
   "execution_count": 61,
   "metadata": {},
   "outputs": [],
   "source": [
    "sw = stopwords.words('english')"
   ]
  },
  {
   "cell_type": "code",
   "execution_count": null,
   "metadata": {},
   "outputs": [],
   "source": [
    "not_stemmed = [] \n",
    "transtable = str.maketrans(' ', ' ', string.punctuation) # https://stackoverflow.com/questions/34860982/replace-the-punctuation-with-whitespace\n",
    "for t in raw_text:\n",
    "    t = re.sub('http[s]?://(?:[a-zA-Z]|[0-9]|[$-_@.&+]|[!*\\(\\), ]|(?:%[0-9a-fA-F][0-9a-fA-F]))+', ' ', t)\n",
    "    t = t.translate(transtable)\n",
    "    t = re.sub(' +', ' ', t).strip()\n",
    "    txt = [token.lower() for token in WordPunctTokenizer().tokenize(t) if token not in sw]\n",
    "    not_stemmed.append(txt)    "
   ]
  },
  {
   "cell_type": "code",
   "execution_count": 66,
   "metadata": {
    "scrolled": true
   },
   "outputs": [
    {
     "data": {
      "text/plain": [
       "['installing',\n",
       " 'game',\n",
       " 'struggle',\n",
       " 'games',\n",
       " 'windows',\n",
       " 'live',\n",
       " 'bugssome',\n",
       " 'championship',\n",
       " 'races',\n",
       " 'cars',\n",
       " 'unlocked',\n",
       " 'buying',\n",
       " 'addon',\n",
       " 'game',\n",
       " 'i',\n",
       " 'paid',\n",
       " 'nearly',\n",
       " '30',\n",
       " 'dollars',\n",
       " 'game',\n",
       " 'new',\n",
       " 'i',\n",
       " 'dont',\n",
       " 'like',\n",
       " 'idea',\n",
       " 'i',\n",
       " 'keep',\n",
       " 'paying',\n",
       " 'keep',\n",
       " 'playingi',\n",
       " 'noticed',\n",
       " 'improvement',\n",
       " 'physics',\n",
       " 'graphics',\n",
       " 'compared',\n",
       " 'dirt',\n",
       " '2i',\n",
       " 'tossed',\n",
       " 'garbage',\n",
       " 'vowed',\n",
       " 'never',\n",
       " 'buy',\n",
       " 'another',\n",
       " 'codemasters',\n",
       " 'game',\n",
       " 'im',\n",
       " 'really',\n",
       " 'tired',\n",
       " 'arcade',\n",
       " 'style',\n",
       " 'rallyracing',\n",
       " 'games',\n",
       " 'anywayill',\n",
       " 'continue',\n",
       " 'get',\n",
       " 'fix',\n",
       " 'richard',\n",
       " 'burns',\n",
       " 'rally']"
      ]
     },
     "execution_count": 66,
     "metadata": {},
     "output_type": "execute_result"
    }
   ],
   "source": [
    "not_stemmed[0]"
   ]
  },
  {
   "cell_type": "code",
   "execution_count": 55,
   "metadata": {},
   "outputs": [],
   "source": []
  }
 ],
 "metadata": {
  "kernelspec": {
   "display_name": "Python 3",
   "language": "python",
   "name": "python3"
  },
  "language_info": {
   "codemirror_mode": {
    "name": "ipython",
    "version": 3
   },
   "file_extension": ".py",
   "mimetype": "text/x-python",
   "name": "python",
   "nbconvert_exporter": "python",
   "pygments_lexer": "ipython3",
   "version": "3.6.9"
  }
 },
 "nbformat": 4,
 "nbformat_minor": 2
}
