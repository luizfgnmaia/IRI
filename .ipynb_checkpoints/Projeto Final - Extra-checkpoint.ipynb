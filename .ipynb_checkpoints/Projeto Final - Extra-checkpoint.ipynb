{
 "cells": [
  {
   "cell_type": "code",
   "execution_count": 1,
   "metadata": {},
   "outputs": [],
   "source": [
    "import pandas as pd\n",
    "import numpy as np\n",
    "import gzip\n",
    "from string import punctuation\n",
    "import itertools\n",
    "from nltk import tokenize\n",
    "from nltk.stem import PorterStemmer\n",
    "from sklearn.feature_extraction.text import CountVectorizer\n",
    "from nltk.corpus import stopwords\n",
    "from collections import Counter\n",
    "from sklearn.linear_model import LogisticRegression"
   ]
  },
  {
   "cell_type": "markdown",
   "metadata": {},
   "source": [
    "## Encontrando as palavras das reviews que mais influenciam em um rating 5\n",
    "\n",
    "Variável independente: dummy que indica se a review possui nota 5 \n",
    "\n",
    "Variáveis explicativas: dummies que indicam a presença de uma determinada palavra no review\n",
    "\n",
    "Modelo: regressão logística com regularização L1 (lasso)"
   ]
  },
  {
   "cell_type": "markdown",
   "metadata": {},
   "source": [
    "Lendo a base de dados e preparando as variáveis"
   ]
  },
  {
   "cell_type": "code",
   "execution_count": 2,
   "metadata": {},
   "outputs": [],
   "source": [
    "def parse(path):\n",
    "    g = gzip.open(path, 'rb')\n",
    "    for l in g:\n",
    "        yield eval(l)\n",
    "\n",
    "def getDF(path):\n",
    "    i = 0\n",
    "    df = {}\n",
    "    for d in parse(path):\n",
    "        df[i] = d\n",
    "        i += 1\n",
    "    return pd.DataFrame.from_dict(df, orient = 'index')\n",
    "\n",
    "df = getDF('reviews_Video_Games_5.json.gz')"
   ]
  },
  {
   "cell_type": "code",
   "execution_count": 3,
   "metadata": {},
   "outputs": [
    {
     "data": {
      "text/plain": [
       "5.0    120185\n",
       "4.0     54804\n",
       "3.0     28275\n",
       "1.0     14853\n",
       "2.0     13663\n",
       "Name: overall, dtype: int64"
      ]
     },
     "execution_count": 3,
     "metadata": {},
     "output_type": "execute_result"
    }
   ],
   "source": [
    "df['overall'].value_counts()"
   ]
  },
  {
   "cell_type": "code",
   "execution_count": 4,
   "metadata": {},
   "outputs": [],
   "source": [
    "Y = list((df['overall'] == 5)*1)"
   ]
  },
  {
   "cell_type": "markdown",
   "metadata": {},
   "source": [
    "Tokenizando o texto, colocando em caixa baixa, stemmizando e removendo stop words, termos de um caracter e termos que apareceram menos do que 1000 vezes."
   ]
  },
  {
   "cell_type": "code",
   "execution_count": 5,
   "metadata": {},
   "outputs": [],
   "source": [
    "textos = list(df['reviewText'])"
   ]
  },
  {
   "cell_type": "code",
   "execution_count": 6,
   "metadata": {},
   "outputs": [],
   "source": [
    "sw = stopwords.words('english') + list(punctuation) + [\"..\", \"...\", \"....\", \".....\"]\n",
    "\n",
    "textos_limpos = []\n",
    "c = Counter([])\n",
    "for texto in textos:\n",
    "    tlimpo = [token.lower() for token in tokenize.TweetTokenizer().tokenize(texto) if token.lower() not in sw]\n",
    "    c.update(tlimpo)\n",
    "    textos_limpos.append(tlimpo)\n",
    "\n",
    "ps = PorterStemmer()\n",
    "stemmed = []\n",
    "for t in textos_limpos:\n",
    "    txt = [ps.stem(token) for token in t]\n",
    "    stemmed.append(txt)\n",
    "stemmed = [[token for token in t if (c[token] >= 1000 and len(token) > 1)] for t in stemmed]"
   ]
  },
  {
   "cell_type": "code",
   "execution_count": 7,
   "metadata": {},
   "outputs": [],
   "source": [
    "tokens = list(set(list(itertools.chain(*stemmed))))\n",
    "tokens.sort()"
   ]
  },
  {
   "cell_type": "code",
   "execution_count": 8,
   "metadata": {},
   "outputs": [
    {
     "data": {
      "text/plain": [
       "1645"
      ]
     },
     "execution_count": 8,
     "metadata": {},
     "output_type": "execute_result"
    }
   ],
   "source": [
    "len(tokens)"
   ]
  },
  {
   "cell_type": "code",
   "execution_count": 9,
   "metadata": {},
   "outputs": [
    {
     "data": {
      "text/plain": [
       "['):', '1/2', '10', '10/10', '100']"
      ]
     },
     "execution_count": 9,
     "metadata": {},
     "output_type": "execute_result"
    }
   ],
   "source": [
    "tokens[0:5]"
   ]
  },
  {
   "cell_type": "code",
   "execution_count": 10,
   "metadata": {},
   "outputs": [
    {
     "data": {
      "text/plain": [
       "['normal', 'nostalgia', 'notch', 'note', 'nothing']"
      ]
     },
     "execution_count": 10,
     "metadata": {},
     "output_type": "execute_result"
    }
   ],
   "source": [
    "tokens[1000:1005]"
   ]
  },
  {
   "cell_type": "code",
   "execution_count": 11,
   "metadata": {},
   "outputs": [],
   "source": [
    "X = np.empty((len(textos), len(tokens)))\n",
    "for i in range(len(Y)):\n",
    "    for j in range(len(tokens)):\n",
    "        X[i,j] = int(tokens[j] in textos_limpos[i])"
   ]
  },
  {
   "cell_type": "code",
   "execution_count": 12,
   "metadata": {},
   "outputs": [],
   "source": [
    "X = pd.DataFrame(X)\n",
    "X.columns = tokens"
   ]
  },
  {
   "cell_type": "code",
   "execution_count": 13,
   "metadata": {},
   "outputs": [
    {
     "data": {
      "text/html": [
       "<div>\n",
       "<style scoped>\n",
       "    .dataframe tbody tr th:only-of-type {\n",
       "        vertical-align: middle;\n",
       "    }\n",
       "\n",
       "    .dataframe tbody tr th {\n",
       "        vertical-align: top;\n",
       "    }\n",
       "\n",
       "    .dataframe thead th {\n",
       "        text-align: right;\n",
       "    }\n",
       "</style>\n",
       "<table border=\"1\" class=\"dataframe\">\n",
       "  <thead>\n",
       "    <tr style=\"text-align: right;\">\n",
       "      <th></th>\n",
       "      <th>):</th>\n",
       "      <th>1/2</th>\n",
       "      <th>10</th>\n",
       "      <th>10/10</th>\n",
       "      <th>100</th>\n",
       "      <th>1080p</th>\n",
       "      <th>11</th>\n",
       "      <th>12</th>\n",
       "      <th>13</th>\n",
       "      <th>14</th>\n",
       "      <th>...</th>\n",
       "      <th>yellow</th>\n",
       "      <th>yet</th>\n",
       "      <th>york</th>\n",
       "      <th>yoshi</th>\n",
       "      <th>young</th>\n",
       "      <th>younger</th>\n",
       "      <th>zelda</th>\n",
       "      <th>zero</th>\n",
       "      <th>zone</th>\n",
       "      <th>zoom</th>\n",
       "    </tr>\n",
       "  </thead>\n",
       "  <tbody>\n",
       "    <tr>\n",
       "      <td>0</td>\n",
       "      <td>0.0</td>\n",
       "      <td>0.0</td>\n",
       "      <td>0.0</td>\n",
       "      <td>0.0</td>\n",
       "      <td>0.0</td>\n",
       "      <td>0.0</td>\n",
       "      <td>0.0</td>\n",
       "      <td>0.0</td>\n",
       "      <td>0.0</td>\n",
       "      <td>0.0</td>\n",
       "      <td>...</td>\n",
       "      <td>0.0</td>\n",
       "      <td>0.0</td>\n",
       "      <td>0.0</td>\n",
       "      <td>0.0</td>\n",
       "      <td>0.0</td>\n",
       "      <td>0.0</td>\n",
       "      <td>0.0</td>\n",
       "      <td>0.0</td>\n",
       "      <td>0.0</td>\n",
       "      <td>0.0</td>\n",
       "    </tr>\n",
       "    <tr>\n",
       "      <td>1</td>\n",
       "      <td>0.0</td>\n",
       "      <td>0.0</td>\n",
       "      <td>0.0</td>\n",
       "      <td>0.0</td>\n",
       "      <td>0.0</td>\n",
       "      <td>0.0</td>\n",
       "      <td>0.0</td>\n",
       "      <td>0.0</td>\n",
       "      <td>0.0</td>\n",
       "      <td>0.0</td>\n",
       "      <td>...</td>\n",
       "      <td>0.0</td>\n",
       "      <td>0.0</td>\n",
       "      <td>0.0</td>\n",
       "      <td>0.0</td>\n",
       "      <td>0.0</td>\n",
       "      <td>0.0</td>\n",
       "      <td>0.0</td>\n",
       "      <td>0.0</td>\n",
       "      <td>0.0</td>\n",
       "      <td>0.0</td>\n",
       "    </tr>\n",
       "    <tr>\n",
       "      <td>2</td>\n",
       "      <td>0.0</td>\n",
       "      <td>0.0</td>\n",
       "      <td>0.0</td>\n",
       "      <td>0.0</td>\n",
       "      <td>0.0</td>\n",
       "      <td>0.0</td>\n",
       "      <td>0.0</td>\n",
       "      <td>0.0</td>\n",
       "      <td>0.0</td>\n",
       "      <td>0.0</td>\n",
       "      <td>...</td>\n",
       "      <td>0.0</td>\n",
       "      <td>0.0</td>\n",
       "      <td>0.0</td>\n",
       "      <td>0.0</td>\n",
       "      <td>0.0</td>\n",
       "      <td>0.0</td>\n",
       "      <td>0.0</td>\n",
       "      <td>0.0</td>\n",
       "      <td>0.0</td>\n",
       "      <td>0.0</td>\n",
       "    </tr>\n",
       "    <tr>\n",
       "      <td>3</td>\n",
       "      <td>0.0</td>\n",
       "      <td>0.0</td>\n",
       "      <td>0.0</td>\n",
       "      <td>0.0</td>\n",
       "      <td>0.0</td>\n",
       "      <td>0.0</td>\n",
       "      <td>0.0</td>\n",
       "      <td>0.0</td>\n",
       "      <td>0.0</td>\n",
       "      <td>0.0</td>\n",
       "      <td>...</td>\n",
       "      <td>0.0</td>\n",
       "      <td>0.0</td>\n",
       "      <td>0.0</td>\n",
       "      <td>0.0</td>\n",
       "      <td>0.0</td>\n",
       "      <td>0.0</td>\n",
       "      <td>0.0</td>\n",
       "      <td>0.0</td>\n",
       "      <td>0.0</td>\n",
       "      <td>0.0</td>\n",
       "    </tr>\n",
       "    <tr>\n",
       "      <td>4</td>\n",
       "      <td>0.0</td>\n",
       "      <td>0.0</td>\n",
       "      <td>0.0</td>\n",
       "      <td>0.0</td>\n",
       "      <td>0.0</td>\n",
       "      <td>0.0</td>\n",
       "      <td>0.0</td>\n",
       "      <td>0.0</td>\n",
       "      <td>0.0</td>\n",
       "      <td>0.0</td>\n",
       "      <td>...</td>\n",
       "      <td>0.0</td>\n",
       "      <td>0.0</td>\n",
       "      <td>0.0</td>\n",
       "      <td>0.0</td>\n",
       "      <td>0.0</td>\n",
       "      <td>0.0</td>\n",
       "      <td>0.0</td>\n",
       "      <td>0.0</td>\n",
       "      <td>0.0</td>\n",
       "      <td>0.0</td>\n",
       "    </tr>\n",
       "    <tr>\n",
       "      <td>...</td>\n",
       "      <td>...</td>\n",
       "      <td>...</td>\n",
       "      <td>...</td>\n",
       "      <td>...</td>\n",
       "      <td>...</td>\n",
       "      <td>...</td>\n",
       "      <td>...</td>\n",
       "      <td>...</td>\n",
       "      <td>...</td>\n",
       "      <td>...</td>\n",
       "      <td>...</td>\n",
       "      <td>...</td>\n",
       "      <td>...</td>\n",
       "      <td>...</td>\n",
       "      <td>...</td>\n",
       "      <td>...</td>\n",
       "      <td>...</td>\n",
       "      <td>...</td>\n",
       "      <td>...</td>\n",
       "      <td>...</td>\n",
       "      <td>...</td>\n",
       "    </tr>\n",
       "    <tr>\n",
       "      <td>231775</td>\n",
       "      <td>0.0</td>\n",
       "      <td>0.0</td>\n",
       "      <td>0.0</td>\n",
       "      <td>0.0</td>\n",
       "      <td>0.0</td>\n",
       "      <td>0.0</td>\n",
       "      <td>0.0</td>\n",
       "      <td>0.0</td>\n",
       "      <td>0.0</td>\n",
       "      <td>0.0</td>\n",
       "      <td>...</td>\n",
       "      <td>0.0</td>\n",
       "      <td>0.0</td>\n",
       "      <td>0.0</td>\n",
       "      <td>0.0</td>\n",
       "      <td>0.0</td>\n",
       "      <td>0.0</td>\n",
       "      <td>0.0</td>\n",
       "      <td>0.0</td>\n",
       "      <td>0.0</td>\n",
       "      <td>0.0</td>\n",
       "    </tr>\n",
       "    <tr>\n",
       "      <td>231776</td>\n",
       "      <td>0.0</td>\n",
       "      <td>0.0</td>\n",
       "      <td>0.0</td>\n",
       "      <td>0.0</td>\n",
       "      <td>0.0</td>\n",
       "      <td>0.0</td>\n",
       "      <td>0.0</td>\n",
       "      <td>0.0</td>\n",
       "      <td>0.0</td>\n",
       "      <td>0.0</td>\n",
       "      <td>...</td>\n",
       "      <td>0.0</td>\n",
       "      <td>0.0</td>\n",
       "      <td>0.0</td>\n",
       "      <td>0.0</td>\n",
       "      <td>0.0</td>\n",
       "      <td>0.0</td>\n",
       "      <td>0.0</td>\n",
       "      <td>0.0</td>\n",
       "      <td>0.0</td>\n",
       "      <td>0.0</td>\n",
       "    </tr>\n",
       "    <tr>\n",
       "      <td>231777</td>\n",
       "      <td>0.0</td>\n",
       "      <td>0.0</td>\n",
       "      <td>0.0</td>\n",
       "      <td>0.0</td>\n",
       "      <td>0.0</td>\n",
       "      <td>0.0</td>\n",
       "      <td>0.0</td>\n",
       "      <td>0.0</td>\n",
       "      <td>0.0</td>\n",
       "      <td>0.0</td>\n",
       "      <td>...</td>\n",
       "      <td>0.0</td>\n",
       "      <td>0.0</td>\n",
       "      <td>0.0</td>\n",
       "      <td>0.0</td>\n",
       "      <td>0.0</td>\n",
       "      <td>0.0</td>\n",
       "      <td>0.0</td>\n",
       "      <td>0.0</td>\n",
       "      <td>0.0</td>\n",
       "      <td>0.0</td>\n",
       "    </tr>\n",
       "    <tr>\n",
       "      <td>231778</td>\n",
       "      <td>0.0</td>\n",
       "      <td>0.0</td>\n",
       "      <td>0.0</td>\n",
       "      <td>0.0</td>\n",
       "      <td>0.0</td>\n",
       "      <td>0.0</td>\n",
       "      <td>0.0</td>\n",
       "      <td>0.0</td>\n",
       "      <td>0.0</td>\n",
       "      <td>0.0</td>\n",
       "      <td>...</td>\n",
       "      <td>0.0</td>\n",
       "      <td>0.0</td>\n",
       "      <td>0.0</td>\n",
       "      <td>0.0</td>\n",
       "      <td>0.0</td>\n",
       "      <td>0.0</td>\n",
       "      <td>0.0</td>\n",
       "      <td>0.0</td>\n",
       "      <td>0.0</td>\n",
       "      <td>0.0</td>\n",
       "    </tr>\n",
       "    <tr>\n",
       "      <td>231779</td>\n",
       "      <td>0.0</td>\n",
       "      <td>0.0</td>\n",
       "      <td>0.0</td>\n",
       "      <td>0.0</td>\n",
       "      <td>0.0</td>\n",
       "      <td>0.0</td>\n",
       "      <td>0.0</td>\n",
       "      <td>0.0</td>\n",
       "      <td>0.0</td>\n",
       "      <td>0.0</td>\n",
       "      <td>...</td>\n",
       "      <td>0.0</td>\n",
       "      <td>0.0</td>\n",
       "      <td>0.0</td>\n",
       "      <td>0.0</td>\n",
       "      <td>0.0</td>\n",
       "      <td>0.0</td>\n",
       "      <td>0.0</td>\n",
       "      <td>0.0</td>\n",
       "      <td>0.0</td>\n",
       "      <td>0.0</td>\n",
       "    </tr>\n",
       "  </tbody>\n",
       "</table>\n",
       "<p>231780 rows × 1645 columns</p>\n",
       "</div>"
      ],
      "text/plain": [
       "         ):  1/2   10  10/10  100  1080p   11   12   13   14  ...  yellow  \\\n",
       "0       0.0  0.0  0.0    0.0  0.0    0.0  0.0  0.0  0.0  0.0  ...     0.0   \n",
       "1       0.0  0.0  0.0    0.0  0.0    0.0  0.0  0.0  0.0  0.0  ...     0.0   \n",
       "2       0.0  0.0  0.0    0.0  0.0    0.0  0.0  0.0  0.0  0.0  ...     0.0   \n",
       "3       0.0  0.0  0.0    0.0  0.0    0.0  0.0  0.0  0.0  0.0  ...     0.0   \n",
       "4       0.0  0.0  0.0    0.0  0.0    0.0  0.0  0.0  0.0  0.0  ...     0.0   \n",
       "...     ...  ...  ...    ...  ...    ...  ...  ...  ...  ...  ...     ...   \n",
       "231775  0.0  0.0  0.0    0.0  0.0    0.0  0.0  0.0  0.0  0.0  ...     0.0   \n",
       "231776  0.0  0.0  0.0    0.0  0.0    0.0  0.0  0.0  0.0  0.0  ...     0.0   \n",
       "231777  0.0  0.0  0.0    0.0  0.0    0.0  0.0  0.0  0.0  0.0  ...     0.0   \n",
       "231778  0.0  0.0  0.0    0.0  0.0    0.0  0.0  0.0  0.0  0.0  ...     0.0   \n",
       "231779  0.0  0.0  0.0    0.0  0.0    0.0  0.0  0.0  0.0  0.0  ...     0.0   \n",
       "\n",
       "        yet  york  yoshi  young  younger  zelda  zero  zone  zoom  \n",
       "0       0.0   0.0    0.0    0.0      0.0    0.0   0.0   0.0   0.0  \n",
       "1       0.0   0.0    0.0    0.0      0.0    0.0   0.0   0.0   0.0  \n",
       "2       0.0   0.0    0.0    0.0      0.0    0.0   0.0   0.0   0.0  \n",
       "3       0.0   0.0    0.0    0.0      0.0    0.0   0.0   0.0   0.0  \n",
       "4       0.0   0.0    0.0    0.0      0.0    0.0   0.0   0.0   0.0  \n",
       "...     ...   ...    ...    ...      ...    ...   ...   ...   ...  \n",
       "231775  0.0   0.0    0.0    0.0      0.0    0.0   0.0   0.0   0.0  \n",
       "231776  0.0   0.0    0.0    0.0      0.0    0.0   0.0   0.0   0.0  \n",
       "231777  0.0   0.0    0.0    0.0      0.0    0.0   0.0   0.0   0.0  \n",
       "231778  0.0   0.0    0.0    0.0      0.0    0.0   0.0   0.0   0.0  \n",
       "231779  0.0   0.0    0.0    0.0      0.0    0.0   0.0   0.0   0.0  \n",
       "\n",
       "[231780 rows x 1645 columns]"
      ]
     },
     "execution_count": 13,
     "metadata": {},
     "output_type": "execute_result"
    }
   ],
   "source": [
    "X"
   ]
  },
  {
   "cell_type": "markdown",
   "metadata": {},
   "source": [
    "Ajustando o modelo"
   ]
  },
  {
   "cell_type": "code",
   "execution_count": 14,
   "metadata": {},
   "outputs": [
    {
     "data": {
      "text/plain": [
       "LogisticRegression(C=1.0, class_weight=None, dual=False, fit_intercept=True,\n",
       "                   intercept_scaling=1, l1_ratio=None, max_iter=100,\n",
       "                   multi_class='warn', n_jobs=None, penalty='l1',\n",
       "                   random_state=None, solver='liblinear', tol=0.0001, verbose=0,\n",
       "                   warm_start=False)"
      ]
     },
     "execution_count": 14,
     "metadata": {},
     "output_type": "execute_result"
    }
   ],
   "source": [
    "log = LogisticRegression(penalty = 'l1', solver = 'liblinear')\n",
    "log.fit(X, Y)"
   ]
  },
  {
   "cell_type": "code",
   "execution_count": 15,
   "metadata": {},
   "outputs": [],
   "source": [
    "coef = list(log.coef_[0])"
   ]
  },
  {
   "cell_type": "code",
   "execution_count": 16,
   "metadata": {},
   "outputs": [
    {
     "data": {
      "text/plain": [
       "1645"
      ]
     },
     "execution_count": 16,
     "metadata": {},
     "output_type": "execute_result"
    }
   ],
   "source": [
    "len(coef)"
   ]
  },
  {
   "cell_type": "code",
   "execution_count": 17,
   "metadata": {},
   "outputs": [],
   "source": [
    "coef = dict(zip(tokens, coef))"
   ]
  },
  {
   "cell_type": "markdown",
   "metadata": {},
   "source": [
    "Tokens com coeficientes mais baixos"
   ]
  },
  {
   "cell_type": "code",
   "execution_count": 18,
   "metadata": {
    "scrolled": false
   },
   "outputs": [
    {
     "data": {
      "text/plain": [
       "[('4/5', -1.974177135394126),\n",
       " ('7/10', -1.462132249148862),\n",
       " ('rental', -1.3712480762488093),\n",
       " ('worst', -1.2737437631198123),\n",
       " ('bland', -1.1033235703705846),\n",
       " ('rent', -0.9706287050399959),\n",
       " ('awful', -0.9478319578450632),\n",
       " ('boring', -0.944272664465369),\n",
       " ('clunky', -0.832135780744776),\n",
       " ('buggy', -0.7784969276198399),\n",
       " ('ok', -0.7631213539875346),\n",
       " ('8/', -0.751479566435332),\n",
       " ('joke', -0.7310879091811244),\n",
       " ('poor', -0.7266647830774541),\n",
       " ('useless', -0.7260689280614793),\n",
       " ('lame', -0.7132510085307414),\n",
       " ('alright', -0.6822696599942707),\n",
       " ('junk', -0.6646420926485762),\n",
       " ('okay', -0.6626701912621137),\n",
       " ('drm', -0.6602903118391037),\n",
       " ('ea', -0.6325129385857988),\n",
       " ('trash', -0.629327220882714),\n",
       " ('dull', -0.6215319083718879),\n",
       " ('decent', -0.6145253410948606),\n",
       " ('pointless', -0.6140753289772608),\n",
       " ('stiff', -0.5806791866560792),\n",
       " ('wasted', -0.5752851118808294),\n",
       " ('ridiculous', -0.5646659532835848),\n",
       " ('stupid', -0.5412650047566439),\n",
       " ('annoying', -0.5244490806361439),\n",
       " ('calibur', -0.5079289497532842),\n",
       " ('lack', -0.5075115961554448),\n",
       " ('tedious', -0.4962607480757831),\n",
       " ('shame', -0.4940913166686582),\n",
       " ('bad', -0.48948328770577293),\n",
       " ('awkward', -0.48656508538196735),\n",
       " ('crap', -0.4774946872151465),\n",
       " ('chore', -0.47600150838461724),\n",
       " ('mindless', -0.4712773396203011),\n",
       " ('linear', -0.46438305526471496),\n",
       " ('potential', -0.46379750471463077),\n",
       " ('rip', -0.4541039998214413),\n",
       " ('flaw', -0.44094519824779654),\n",
       " ('short', -0.4364418587776706),\n",
       " ('fix', -0.4287427881266498),\n",
       " ('error', -0.4180384676416851),\n",
       " ('glitches', -0.41122288327884654),\n",
       " ('crappy', -0.4017662150318344),\n",
       " ('lazy', -0.40172526858383956),\n",
       " ('budget', -0.3979586210125962)]"
      ]
     },
     "execution_count": 18,
     "metadata": {},
     "output_type": "execute_result"
    }
   ],
   "source": [
    "sorted(coef.items(), key = lambda kv: kv[1])[0:50]"
   ]
  },
  {
   "cell_type": "markdown",
   "metadata": {},
   "source": [
    "Tokens com coeficientes mais positivos"
   ]
  },
  {
   "cell_type": "code",
   "execution_count": 19,
   "metadata": {
    "scrolled": true
   },
   "outputs": [
    {
     "data": {
      "text/plain": [
       "[('10/10', 1.5189565421395879),\n",
       " ('5/5', 1.51308541491324),\n",
       " ('flawless', 0.7355371462447637),\n",
       " ('awesome', 0.718963140720524),\n",
       " ('amazing', 0.6837222632442596),\n",
       " ('love', 0.616825036301217),\n",
       " ('recommended', 0.5989982234939347),\n",
       " (':)', 0.5889964310780436),\n",
       " ('best', 0.5660456036299373),\n",
       " ('gem', 0.5534201097477942),\n",
       " ('thank', 0.5503053539962277),\n",
       " ('condition', 0.5267273964259365),\n",
       " ('fantastic', 0.5147945609544784),\n",
       " ('kratos', 0.49918715642336997),\n",
       " ('9/10', 0.48833278400648356),\n",
       " ('dualshock', 0.48187745885555205),\n",
       " ('amazed', 0.48035650706943434),\n",
       " ('spoil', 0.4779269920458842),\n",
       " ('excellent', 0.4600727760779386),\n",
       " ('steal', 0.45942549975621766),\n",
       " ('blown', 0.4566398289545396),\n",
       " ('regret', 0.45258372436900096),\n",
       " ('glad', 0.45251118869183127),\n",
       " ('complain', 0.4466730615878038),\n",
       " ('happy', 0.44539208694087096),\n",
       " ('disappoint', 0.43767301299701145),\n",
       " ('owner', 0.4330328791716981),\n",
       " ('tone', 0.43286123009239635),\n",
       " ('wonderful', 0.4325025535764835),\n",
       " ('perfect', 0.42874615787249887),\n",
       " ('great', 0.4253043767379314),\n",
       " ('playthrough', 0.4073415732615117),\n",
       " ('persona', 0.401944531317472),\n",
       " ('highest', 0.39960482216514254),\n",
       " ('lol', 0.39886459036041755),\n",
       " ('sweet', 0.39341658993746026),\n",
       " ('superb', 0.39076898184138253),\n",
       " ('bomb', 0.3883282788659817),\n",
       " ('greatest', 0.38787869439211575),\n",
       " ('husband', 0.38728240657342855),\n",
       " ('instant', 0.38314714278773165),\n",
       " ('elder', 0.37475832124014186),\n",
       " ('son', 0.3743139058541166),\n",
       " ('recommend', 0.37283073951997897),\n",
       " ('wow', 0.3708867506766687),\n",
       " ('experiences', 0.368262058697707),\n",
       " ('workout', 0.36234494258457706),\n",
       " ('afraid', 0.3621225674282621),\n",
       " ('trust', 0.361853344888271),\n",
       " ('brilliant', 0.359880033082273)]"
      ]
     },
     "execution_count": 19,
     "metadata": {},
     "output_type": "execute_result"
    }
   ],
   "source": [
    "sorted(coef.items(), key = lambda kv: kv[1], reverse = True)[0:50]"
   ]
  },
  {
   "cell_type": "markdown",
   "metadata": {},
   "source": [
    "Podemos ver que notas como 4/5 e 10/10 possuem coeficientes bastante expressivos, o que é de se esperar visto que elas tem uma ligação direta com a nossa variável resposta. \n",
    "\n",
    "Entre os termos com coeficientes baixos, temos palavras negativas como 'worst', 'awful' e 'boring', e palavras que indicam que o jogo é razoável, mas não digno da nota máxima, como 'ok' e 'decent'.\n",
    "\n",
    "Por sua vez, os coeficientes mais altos são de palavras positivas como 'flawless', 'amazing' e 'best'.\n",
    "\n",
    "Finalmente, em ambas as listas, temos termos que indicam produtores, personagens e produtores de jogos, por exemplo, 'ea', 'kratos' e 'persona'."
   ]
  }
 ],
 "metadata": {
  "kernelspec": {
   "display_name": "Python 3",
   "language": "python",
   "name": "python3"
  },
  "language_info": {
   "codemirror_mode": {
    "name": "ipython",
    "version": 3
   },
   "file_extension": ".py",
   "mimetype": "text/x-python",
   "name": "python",
   "nbconvert_exporter": "python",
   "pygments_lexer": "ipython3",
   "version": "3.6.9"
  }
 },
 "nbformat": 4,
 "nbformat_minor": 2
}
